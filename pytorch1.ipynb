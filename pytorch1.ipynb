{
  "nbformat": 4,
  "nbformat_minor": 0,
  "metadata": {
    "colab": {
      "provenance": []
    },
    "kernelspec": {
      "name": "python3",
      "display_name": "Python 3"
    },
    "language_info": {
      "name": "python"
    }
  },
  "cells": [
    {
      "cell_type": "code",
      "source": [
        "!nvidia-smi"
      ],
      "metadata": {
        "colab": {
          "base_uri": "https://localhost:8080/"
        },
        "id": "4VCMa-o5zyFL",
        "outputId": "ef73235a-4203-4e1f-d4d9-f845afc168f0"
      },
      "execution_count": null,
      "outputs": [
        {
          "output_type": "stream",
          "name": "stdout",
          "text": [
            "/bin/bash: line 1: nvidia-smi: command not found\n"
          ]
        }
      ]
    },
    {
      "cell_type": "code",
      "source": [
        "import torch\n",
        "import numpy as np\n",
        "import pandas as pd\n",
        "import matplotlib.pyplot as plt\n",
        "print(torch.__version__)"
      ],
      "metadata": {
        "colab": {
          "base_uri": "https://localhost:8080/"
        },
        "id": "fFxV5VoRz1ni",
        "outputId": "34c035dc-e787-4998-e6a4-fd4c5aa8cd70"
      },
      "execution_count": null,
      "outputs": [
        {
          "output_type": "stream",
          "name": "stdout",
          "text": [
            "2.6.0+cu124\n"
          ]
        }
      ]
    },
    {
      "cell_type": "markdown",
      "source": [
        "**torch.Tensor**:\n",
        "Tensor is a multi-dimensional matrix containing elements of a single data type.\n",
        "A scalar is a tensor rank 0, so requires only 1 independent value associated with it"
      ],
      "metadata": {
        "id": "-98BvPzKj3u8"
      }
    },
    {
      "cell_type": "code",
      "source": [
        "# intro to tensors\n",
        "\n",
        "scalar = torch.tensor(6)\n",
        "print(scalar)\n",
        "print(scalar.ndim)\n",
        "print(scalar.shape)"
      ],
      "metadata": {
        "colab": {
          "base_uri": "https://localhost:8080/"
        },
        "id": "VmGjW9D9Wfge",
        "outputId": "4bd5c8ee-5c4b-404d-87f0-4ef79a65443c"
      },
      "execution_count": null,
      "outputs": [
        {
          "output_type": "stream",
          "name": "stdout",
          "text": [
            "tensor(6)\n",
            "0\n",
            "torch.Size([])\n"
          ]
        }
      ]
    },
    {
      "cell_type": "code",
      "source": [
        "torch.tensor([[1 , 2 , 3] , [ 4, 5 , 6]])"
      ],
      "metadata": {
        "colab": {
          "base_uri": "https://localhost:8080/"
        },
        "id": "Ljju_10rjqbK",
        "outputId": "9d3d6716-3d82-46a8-e477-457c155126bf"
      },
      "execution_count": null,
      "outputs": [
        {
          "output_type": "execute_result",
          "data": {
            "text/plain": [
              "tensor([[1, 2, 3],\n",
              "        [4, 5, 6]])"
            ]
          },
          "metadata": {},
          "execution_count": 5
        }
      ]
    },
    {
      "cell_type": "code",
      "source": [
        "torch.tensor(np.array([[1 , 2 , 3] , [ 4, 5 , 6]]))"
      ],
      "metadata": {
        "colab": {
          "base_uri": "https://localhost:8080/"
        },
        "id": "XlMHRi-Lj4fN",
        "outputId": "12447406-b839-4aa0-8b71-ebfba0bf279e"
      },
      "execution_count": null,
      "outputs": [
        {
          "output_type": "execute_result",
          "data": {
            "text/plain": [
              "tensor([[1, 2, 3],\n",
              "        [4, 5, 6]])"
            ]
          },
          "metadata": {},
          "execution_count": 6
        }
      ]
    },
    {
      "cell_type": "markdown",
      "source": [
        "torch.tensor() always copies data. If you have a Tensor data and just want to change its requires_grad flag, use requires_grad_() or detach() to avoid a copy. If you have a numpy array and want to avoid a copy, use torch.as_tensor()."
      ],
      "metadata": {
        "id": "1elqMPC6mOYV"
      }
    },
    {
      "cell_type": "code",
      "source": [
        "torch.zeros([2,4] )\n"
      ],
      "metadata": {
        "colab": {
          "base_uri": "https://localhost:8080/"
        },
        "id": "KoaHMdr9mQ-p",
        "outputId": "932b4951-c23d-40e6-eab2-9117588ed17c"
      },
      "execution_count": null,
      "outputs": [
        {
          "output_type": "execute_result",
          "data": {
            "text/plain": [
              "tensor([[0., 0., 0., 0.],\n",
              "        [0., 0., 0., 0.]])"
            ]
          },
          "metadata": {},
          "execution_count": 7
        }
      ]
    },
    {
      "cell_type": "code",
      "source": [
        "torch.zeros([2,4] , dtype = torch.int32)"
      ],
      "metadata": {
        "colab": {
          "base_uri": "https://localhost:8080/"
        },
        "id": "YNJLGkSLmcL0",
        "outputId": "2d776a24-656c-4e1c-81cc-39ec1101caaf"
      },
      "execution_count": null,
      "outputs": [
        {
          "output_type": "execute_result",
          "data": {
            "text/plain": [
              "tensor([[0, 0, 0, 0],\n",
              "        [0, 0, 0, 0]], dtype=torch.int32)"
            ]
          },
          "metadata": {},
          "execution_count": 8
        }
      ]
    },
    {
      "cell_type": "code",
      "source": [
        "x = torch.tensor([[1,4,6] , [9,5,6]])\n",
        "print(x[0][2])\n",
        "x[1][1] = 3\n",
        "\n",
        "x"
      ],
      "metadata": {
        "colab": {
          "base_uri": "https://localhost:8080/"
        },
        "id": "of1XdaMAmo4Z",
        "outputId": "e7fdffb8-7e45-49f0-c5bb-2e2c52861ae6"
      },
      "execution_count": null,
      "outputs": [
        {
          "output_type": "stream",
          "name": "stdout",
          "text": [
            "tensor(6)\n"
          ]
        },
        {
          "output_type": "execute_result",
          "data": {
            "text/plain": [
              "tensor([[1, 4, 6],\n",
              "        [9, 3, 6]])"
            ]
          },
          "metadata": {},
          "execution_count": 9
        }
      ]
    },
    {
      "cell_type": "code",
      "source": [
        "x = torch.tensor([[1]])\n",
        "print(x)\n",
        "# get tensor as python int - using item()\n",
        "x.item()\n"
      ],
      "metadata": {
        "colab": {
          "base_uri": "https://localhost:8080/"
        },
        "id": "ACre_CrTm4-o",
        "outputId": "3b46fc16-59b4-4022-8bec-0b08c26ed205"
      },
      "execution_count": null,
      "outputs": [
        {
          "output_type": "stream",
          "name": "stdout",
          "text": [
            "tensor([[1]])\n"
          ]
        },
        {
          "output_type": "execute_result",
          "data": {
            "text/plain": [
              "1"
            ]
          },
          "metadata": {},
          "execution_count": 10
        }
      ]
    },
    {
      "cell_type": "code",
      "source": [
        "vector = torch.tensor([1,2,3])\n",
        "print(vector)\n",
        "print(vector.ndim)\n",
        "print(vector.shape)"
      ],
      "metadata": {
        "colab": {
          "base_uri": "https://localhost:8080/"
        },
        "id": "qTMXLuAsnlLs",
        "outputId": "b53c6e42-05cf-4af9-e35b-14222cf75596"
      },
      "execution_count": null,
      "outputs": [
        {
          "output_type": "stream",
          "name": "stdout",
          "text": [
            "tensor([1, 2, 3])\n",
            "1\n",
            "torch.Size([3])\n"
          ]
        }
      ]
    },
    {
      "cell_type": "code",
      "source": [
        "# MATRIX\n",
        "MATRIX = torch.tensor([[1,2,3] , [4,5,6]])\n",
        "print(MATRIX)\n",
        "print(MATRIX[0])\n",
        "print(MATRIX[1])"
      ],
      "metadata": {
        "colab": {
          "base_uri": "https://localhost:8080/"
        },
        "id": "CwKnyvKqpRlo",
        "outputId": "3d08c101-6d0f-48b1-8cdf-1596346a8916"
      },
      "execution_count": null,
      "outputs": [
        {
          "output_type": "stream",
          "name": "stdout",
          "text": [
            "tensor([[1, 2, 3],\n",
            "        [4, 5, 6]])\n",
            "tensor([1, 2, 3])\n",
            "tensor([4, 5, 6])\n"
          ]
        }
      ]
    },
    {
      "cell_type": "code",
      "source": [
        "MATRIX.ndim\n"
      ],
      "metadata": {
        "colab": {
          "base_uri": "https://localhost:8080/"
        },
        "id": "6tTNEzxUqMdd",
        "outputId": "8703f879-ea16-4c8d-ec26-646ceef223a0"
      },
      "execution_count": null,
      "outputs": [
        {
          "output_type": "execute_result",
          "data": {
            "text/plain": [
              "2"
            ]
          },
          "metadata": {},
          "execution_count": 13
        }
      ]
    },
    {
      "cell_type": "code",
      "source": [
        "MATRIX.shape"
      ],
      "metadata": {
        "colab": {
          "base_uri": "https://localhost:8080/"
        },
        "id": "RywNFbvXqRVX",
        "outputId": "9ce3e571-1d73-44d3-9324-7c56adc83524"
      },
      "execution_count": null,
      "outputs": [
        {
          "output_type": "execute_result",
          "data": {
            "text/plain": [
              "torch.Size([2, 3])"
            ]
          },
          "metadata": {},
          "execution_count": 14
        }
      ]
    },
    {
      "cell_type": "markdown",
      "source": [
        "**scalar**:\n",
        " ndim: no of square brackets -> 0\n",
        "\n",
        "**vector**:\n",
        "shape : no of elements\n",
        "ndim : no of square brackets -> 1\n",
        "\n",
        "**matrix**:\n",
        "shape : no of rows , col\n",
        "ndim : no of square brackets -> 2\n",
        "\n",
        "**tensor**:\n",
        "ndim : no of square brackets -> 3 or more\n",
        "\n",
        "shape : eg : 1 , 3, 3 means 1 3x3 shape tensor ( 1 dimension of 3x3)\n",
        "very outer bracket matches with 1 , then next one matches with row , last with col"
      ],
      "metadata": {
        "id": "y2U6n5GVqndr"
      }
    },
    {
      "cell_type": "code",
      "source": [
        "TENSOR =  torch.tensor([[[1,4,5],\n",
        "                         [3,4,5],\n",
        "                         [6,7,4]]])\n",
        "print(TENSOR)\n",
        "print(TENSOR.ndim)\n",
        "print(TENSOR.shape)"
      ],
      "metadata": {
        "colab": {
          "base_uri": "https://localhost:8080/"
        },
        "id": "YQQeKsN1qTM8",
        "outputId": "cf2abb97-7695-4808-bf60-8db362b80242"
      },
      "execution_count": null,
      "outputs": [
        {
          "output_type": "stream",
          "name": "stdout",
          "text": [
            "tensor([[[1, 4, 5],\n",
            "         [3, 4, 5],\n",
            "         [6, 7, 4]]])\n",
            "3\n",
            "torch.Size([1, 3, 3])\n"
          ]
        }
      ]
    },
    {
      "cell_type": "code",
      "source": [
        "# torch.size([1,3,3])\n",
        "# indexes : torch.size([0,1,2])\n",
        "# LOOK AT THE BRACKETS:\n",
        "TENSOR[0]"
      ],
      "metadata": {
        "colab": {
          "base_uri": "https://localhost:8080/"
        },
        "id": "sQPKmtDhsLGl",
        "outputId": "87ec7dd6-5190-4a0b-c4d7-4c56eca76414"
      },
      "execution_count": null,
      "outputs": [
        {
          "output_type": "execute_result",
          "data": {
            "text/plain": [
              "tensor([[1, 4, 5],\n",
              "        [3, 4, 5],\n",
              "        [6, 7, 4]])"
            ]
          },
          "metadata": {},
          "execution_count": 16
        }
      ]
    },
    {
      "cell_type": "code",
      "source": [
        "\n",
        "TENSOR1 =  torch.tensor([[[[1,4,5],\n",
        "                         [3,4,5],\n",
        "                         [6,7,4]]]])\n",
        "TENSOR1.ndim"
      ],
      "metadata": {
        "colab": {
          "base_uri": "https://localhost:8080/"
        },
        "id": "rbDtKZXRtA7Z",
        "outputId": "234c47ba-1145-4c41-903c-d82ad3545654"
      },
      "execution_count": null,
      "outputs": [
        {
          "output_type": "execute_result",
          "data": {
            "text/plain": [
              "4"
            ]
          },
          "metadata": {},
          "execution_count": 17
        }
      ]
    },
    {
      "cell_type": "code",
      "source": [
        "TENSOR1.shape"
      ],
      "metadata": {
        "colab": {
          "base_uri": "https://localhost:8080/"
        },
        "id": "cTuL_0o8tSn1",
        "outputId": "f501d1a0-bd72-4fd9-d07f-2b7b970243ac"
      },
      "execution_count": null,
      "outputs": [
        {
          "output_type": "execute_result",
          "data": {
            "text/plain": [
              "torch.Size([1, 1, 3, 3])"
            ]
          },
          "metadata": {},
          "execution_count": 18
        }
      ]
    },
    {
      "cell_type": "code",
      "source": [
        "TENSOR2 =  torch.tensor([[[[[1,4,5],\n",
        "                         [3,4,5],\n",
        "                         [6,7,4]]]]])\n",
        "TENSOR2.shape\n",
        "\n"
      ],
      "metadata": {
        "colab": {
          "base_uri": "https://localhost:8080/"
        },
        "id": "mx8UN_4suBxB",
        "outputId": "f0316090-40df-4f39-9f6f-5d76bcfc45fe"
      },
      "execution_count": null,
      "outputs": [
        {
          "output_type": "execute_result",
          "data": {
            "text/plain": [
              "torch.Size([1, 1, 1, 3, 3])"
            ]
          },
          "metadata": {},
          "execution_count": 19
        }
      ]
    },
    {
      "cell_type": "markdown",
      "source": [
        "*A tensor can represent any shape or size, or any combinations of number*\n",
        "\n",
        "\n",
        "\n"
      ],
      "metadata": {
        "id": "In_q2grKub6c"
      }
    },
    {
      "cell_type": "markdown",
      "source": [
        "**usually:** a scalar and a vector is written by a lowercase and matrix or tensor is written by uppercase"
      ],
      "metadata": {
        "id": "S3VEjGTJu6_K"
      }
    },
    {
      "cell_type": "markdown",
      "source": [
        "### random tensors:"
      ],
      "metadata": {
        "id": "XmXWj7Nd2lLh"
      }
    },
    {
      "cell_type": "code",
      "source": [
        "# torch.rand(rows,cols)\n",
        "random_tensor = torch.rand(3,4)\n",
        "random_tensor"
      ],
      "metadata": {
        "colab": {
          "base_uri": "https://localhost:8080/"
        },
        "id": "_RRd3OjLujfQ",
        "outputId": "f3cd33e0-3009-4b8c-880d-78decbae23f7"
      },
      "execution_count": null,
      "outputs": [
        {
          "output_type": "execute_result",
          "data": {
            "text/plain": [
              "tensor([[0.6488, 0.9722, 0.6144, 0.6841],\n",
              "        [0.3304, 0.2033, 0.3597, 0.2098],\n",
              "        [0.0301, 0.5736, 0.6570, 0.5183]])"
            ]
          },
          "metadata": {},
          "execution_count": 20
        }
      ]
    },
    {
      "cell_type": "code",
      "source": [
        "random_tensor.ndim"
      ],
      "metadata": {
        "colab": {
          "base_uri": "https://localhost:8080/"
        },
        "id": "1J8MSjmGujb0",
        "outputId": "0fe367d8-adef-473d-b879-73859e363e5f"
      },
      "execution_count": null,
      "outputs": [
        {
          "output_type": "execute_result",
          "data": {
            "text/plain": [
              "2"
            ]
          },
          "metadata": {},
          "execution_count": 21
        }
      ]
    },
    {
      "cell_type": "code",
      "source": [
        " random_tensor.shape"
      ],
      "metadata": {
        "colab": {
          "base_uri": "https://localhost:8080/"
        },
        "id": "IXgbeOd-uafe",
        "outputId": "e5134146-eb71-4a47-c60e-8fa7be87ec29"
      },
      "execution_count": null,
      "outputs": [
        {
          "output_type": "execute_result",
          "data": {
            "text/plain": [
              "torch.Size([3, 4])"
            ]
          },
          "metadata": {},
          "execution_count": 22
        }
      ]
    },
    {
      "cell_type": "code",
      "source": [
        "random_TENSOR2 = torch.rand(1,3,4)\n",
        "random_TENSOR2"
      ],
      "metadata": {
        "colab": {
          "base_uri": "https://localhost:8080/"
        },
        "id": "WFWk9rvLuIkl",
        "outputId": "79cfb201-efc8-4619-a0a3-89b6e52ad9cd"
      },
      "execution_count": null,
      "outputs": [
        {
          "output_type": "execute_result",
          "data": {
            "text/plain": [
              "tensor([[[0.8180, 0.2025, 0.5471, 0.2795],\n",
              "         [0.4214, 0.9608, 0.1686, 0.5930],\n",
              "         [0.6418, 0.9681, 0.9587, 0.6741]]])"
            ]
          },
          "metadata": {},
          "execution_count": 23
        }
      ]
    },
    {
      "cell_type": "code",
      "source": [
        "random_TENSOR2.shape"
      ],
      "metadata": {
        "colab": {
          "base_uri": "https://localhost:8080/"
        },
        "id": "xcxsdIdA3OKE",
        "outputId": "0c6dba4d-74d0-4b71-af7a-fc45b98013fb"
      },
      "execution_count": null,
      "outputs": [
        {
          "output_type": "execute_result",
          "data": {
            "text/plain": [
              "torch.Size([1, 3, 4])"
            ]
          },
          "metadata": {},
          "execution_count": 24
        }
      ]
    },
    {
      "cell_type": "code",
      "source": [
        "random_TENSOR2.ndim"
      ],
      "metadata": {
        "colab": {
          "base_uri": "https://localhost:8080/"
        },
        "id": "qga9eAV23Qsq",
        "outputId": "28b4e9ec-a153-4d76-eeb9-ce66a0b6fef8"
      },
      "execution_count": null,
      "outputs": [
        {
          "output_type": "execute_result",
          "data": {
            "text/plain": [
              "3"
            ]
          },
          "metadata": {},
          "execution_count": 25
        }
      ]
    },
    {
      "cell_type": "code",
      "source": [
        "# create a random tensor with similar shape to an image tensor\n",
        "random_image_size_tensor = torch.rand(size=(224,224,3) )\n",
        "# height , width , color channel = 224 , 224 , 3\n",
        "random_image_size_tensor.shape , random_image_size_tensor.ndim"
      ],
      "metadata": {
        "colab": {
          "base_uri": "https://localhost:8080/"
        },
        "id": "yajeW1fx3Uu9",
        "outputId": "fa855e1a-be0c-426d-eb6d-a399468c427f"
      },
      "execution_count": null,
      "outputs": [
        {
          "output_type": "execute_result",
          "data": {
            "text/plain": [
              "(torch.Size([224, 224, 3]), 3)"
            ]
          },
          "metadata": {},
          "execution_count": 26
        }
      ]
    },
    {
      "cell_type": "markdown",
      "source": [
        "ALMOST ANY DATA CAN BE REPRESENTED AS TENSORS , ONE OF THE COMMON WAYS OF REPRESENTING IMAGE DATA IS TO COLOR CHANNEL , HEIGHT , WIDTH OR HEIGHT , WIDTH , COLOR CHANNEL\n"
      ],
      "metadata": {
        "id": "0W0Itj_W4QNb"
      }
    },
    {
      "cell_type": "markdown",
      "source": [
        "### zeros and ones tensor"
      ],
      "metadata": {
        "id": "xmopsbqG42Zy"
      }
    },
    {
      "cell_type": "code",
      "source": [
        "# tensor of all zeroes:\n",
        "zeroes = torch.zeros(size=(3,4))\n",
        "zeroes"
      ],
      "metadata": {
        "colab": {
          "base_uri": "https://localhost:8080/"
        },
        "id": "DyQhZ-EP4CD3",
        "outputId": "29ef87d3-e347-4405-e994-9279938d700f"
      },
      "execution_count": null,
      "outputs": [
        {
          "output_type": "execute_result",
          "data": {
            "text/plain": [
              "tensor([[0., 0., 0., 0.],\n",
              "        [0., 0., 0., 0.],\n",
              "        [0., 0., 0., 0.]])"
            ]
          },
          "metadata": {},
          "execution_count": 27
        }
      ]
    },
    {
      "cell_type": "code",
      "source": [
        "zeroes1 = torch.zeros((3,4))\n",
        "zeroes1"
      ],
      "metadata": {
        "colab": {
          "base_uri": "https://localhost:8080/"
        },
        "id": "mURn3JNe5Avr",
        "outputId": "ae6b817e-a55b-4192-960a-17f617f6ae6c"
      },
      "execution_count": null,
      "outputs": [
        {
          "output_type": "execute_result",
          "data": {
            "text/plain": [
              "tensor([[0., 0., 0., 0.],\n",
              "        [0., 0., 0., 0.],\n",
              "        [0., 0., 0., 0.]])"
            ]
          },
          "metadata": {},
          "execution_count": 28
        }
      ]
    },
    {
      "cell_type": "code",
      "source": [
        "random_value_tensor = torch.rand(3,4)\n",
        "random_value_tensor"
      ],
      "metadata": {
        "colab": {
          "base_uri": "https://localhost:8080/"
        },
        "id": "huXRWj075K2s",
        "outputId": "9ff80086-5982-4b2c-be68-7f5221ee85ee"
      },
      "execution_count": null,
      "outputs": [
        {
          "output_type": "execute_result",
          "data": {
            "text/plain": [
              "tensor([[0.9796, 0.5247, 0.0308, 0.6490],\n",
              "        [0.9727, 0.6428, 0.6725, 0.0653],\n",
              "        [0.3691, 0.1977, 0.5804, 0.8173]])"
            ]
          },
          "metadata": {},
          "execution_count": 29
        }
      ]
    },
    {
      "cell_type": "code",
      "source": [
        "zeroes1*random_value_tensor"
      ],
      "metadata": {
        "colab": {
          "base_uri": "https://localhost:8080/"
        },
        "id": "yDctmcgg5ZFY",
        "outputId": "60968fb4-7ef1-48c2-fdaf-99063bb3ffd0"
      },
      "execution_count": null,
      "outputs": [
        {
          "output_type": "execute_result",
          "data": {
            "text/plain": [
              "tensor([[0., 0., 0., 0.],\n",
              "        [0., 0., 0., 0.],\n",
              "        [0., 0., 0., 0.]])"
            ]
          },
          "metadata": {},
          "execution_count": 30
        }
      ]
    },
    {
      "cell_type": "code",
      "source": [
        "# tensor of all ones:\n",
        "ones = torch.ones((3,4) )\n",
        "ones , ones.dtype"
      ],
      "metadata": {
        "colab": {
          "base_uri": "https://localhost:8080/"
        },
        "id": "DjnbT35Y5e-n",
        "outputId": "50cfca65-00b5-49b7-ffe1-81890e993f75"
      },
      "execution_count": null,
      "outputs": [
        {
          "output_type": "execute_result",
          "data": {
            "text/plain": [
              "(tensor([[1., 1., 1., 1.],\n",
              "         [1., 1., 1., 1.],\n",
              "         [1., 1., 1., 1.]]),\n",
              " torch.float32)"
            ]
          },
          "metadata": {},
          "execution_count": 31
        }
      ]
    },
    {
      "cell_type": "markdown",
      "source": [
        "# creating a range of tensors and tensors - like"
      ],
      "metadata": {
        "id": "pECCCT2tbeNV"
      }
    },
    {
      "cell_type": "code",
      "source": [
        "one_to_ten = torch.arange(1 , 11)\n",
        "one_to_ten"
      ],
      "metadata": {
        "id": "9HiruM4a5ws-",
        "colab": {
          "base_uri": "https://localhost:8080/"
        },
        "outputId": "90db9df9-87b0-400d-cabb-707491189ef5"
      },
      "execution_count": null,
      "outputs": [
        {
          "output_type": "execute_result",
          "data": {
            "text/plain": [
              "tensor([ 1,  2,  3,  4,  5,  6,  7,  8,  9, 10])"
            ]
          },
          "metadata": {},
          "execution_count": 35
        }
      ]
    },
    {
      "cell_type": "code",
      "source": [
        "step_one_to_twenty = torch.arange(start = 1 , end = 20 , step = 4)\n",
        "step_one_to_twenty"
      ],
      "metadata": {
        "colab": {
          "base_uri": "https://localhost:8080/"
        },
        "id": "Q9iZ_gSZbsku",
        "outputId": "1df3cab0-b650-4d45-eca2-ba1a05aa3bb6"
      },
      "execution_count": null,
      "outputs": [
        {
          "output_type": "execute_result",
          "data": {
            "text/plain": [
              "tensor([ 1,  5,  9, 13, 17])"
            ]
          },
          "metadata": {},
          "execution_count": 36
        }
      ]
    },
    {
      "cell_type": "code",
      "source": [
        "#  if we want to create a tensor full of zeros and has the same shape as one_to_ten we can use tensor like or zeros like\n",
        "ten_zeros = torch.zeros_like(one_to_ten)\n",
        "ten_zeros"
      ],
      "metadata": {
        "colab": {
          "base_uri": "https://localhost:8080/"
        },
        "id": "qW9HBkPicWu2",
        "outputId": "f3d38633-0126-4732-c5cb-e3a1fd5db1af"
      },
      "execution_count": null,
      "outputs": [
        {
          "output_type": "execute_result",
          "data": {
            "text/plain": [
              "tensor([0, 0, 0, 0, 0, 0, 0, 0, 0, 0])"
            ]
          },
          "metadata": {},
          "execution_count": 37
        }
      ]
    },
    {
      "cell_type": "markdown",
      "source": [
        "**Tensor datatypes**"
      ],
      "metadata": {
        "id": "xNvk9Fe1dlww"
      }
    },
    {
      "cell_type": "markdown",
      "source": [
        "The default dtypes even if we specify as none are int64 for integer and float32 for float"
      ],
      "metadata": {
        "id": "j6jOKKtheI7A"
      }
    },
    {
      "cell_type": "code",
      "source": [
        "no_datatype_tensor = torch.tensor([3,6,8] , dtype = None)\n",
        "no_datatype_tensor.dtype"
      ],
      "metadata": {
        "colab": {
          "base_uri": "https://localhost:8080/"
        },
        "id": "78OILeIEdb1k",
        "outputId": "f627abf0-58be-4e1a-f9a5-648f8183b767"
      },
      "execution_count": null,
      "outputs": [
        {
          "output_type": "execute_result",
          "data": {
            "text/plain": [
              "torch.int64"
            ]
          },
          "metadata": {},
          "execution_count": 39
        }
      ]
    },
    {
      "cell_type": "code",
      "source": [
        "no_datatype_tensor = torch.tensor([3.0,6.0,8.0] , dtype = None)\n",
        "no_datatype_tensor.dtype"
      ],
      "metadata": {
        "colab": {
          "base_uri": "https://localhost:8080/"
        },
        "id": "EiVhYDuidbyB",
        "outputId": "f3f34dac-1bb7-4e29-807a-fafd602665fc"
      },
      "execution_count": null,
      "outputs": [
        {
          "output_type": "execute_result",
          "data": {
            "text/plain": [
              "torch.float32"
            ]
          },
          "metadata": {},
          "execution_count": 40
        }
      ]
    },
    {
      "cell_type": "code",
      "source": [
        "no_datatype_tensor = torch.tensor([3.0,6.0,8.0] , dtype = torch.float16)\n",
        "no_datatype_tensor.dtype"
      ],
      "metadata": {
        "colab": {
          "base_uri": "https://localhost:8080/"
        },
        "id": "H4mt3wt0dbvs",
        "outputId": "5e4f2313-6296-45da-8a58-99d3bdb0f249"
      },
      "execution_count": null,
      "outputs": [
        {
          "output_type": "execute_result",
          "data": {
            "text/plain": [
              "torch.float16"
            ]
          },
          "metadata": {},
          "execution_count": 42
        }
      ]
    },
    {
      "cell_type": "markdown",
      "source": [
        "Some of the important parameters of torch.tensor are dtype , device , requires_grad\n",
        "\n",
        "you can calculate faster if numbers take less memory\n",
        "*   single-precision floating-point :float32 (32 bits in computer memory)\n",
        "*   half-precision floating point :float16\n",
        "\n",
        " the **precision** of a numerical quantity is a measure of the detail in which the quantity is expressed\n",
        "\n",
        " tensor dtypes is one of the 3 big errors youll run into with pytorch and deep learning:\n",
        "\n",
        "\n",
        "1.   Tensor not right datatype\n",
        "2.   Tensor not right shape\n",
        "3.   Tensor not on right device\n",
        "\n",
        "**Shape** :same concept as matrix multiplication\n",
        "\n",
        "**device** : if one tensors on gpu for fast computing and another tensor is on cpu and you want to do some operations on them : then youll run into not right device error.\n",
        "    device = \"cuda\"\n",
        "    or device = \"cpu\"\n",
        "\n",
        "\n",
        "**Requires_grad** : if you want pytorch to track gradients when pytorch goes through certain calculations"
      ],
      "metadata": {
        "id": "vWiOjYcweeOb"
      }
    },
    {
      "cell_type": "code",
      "source": [
        "float_32_tensor = torch.tensor([3.0 , 5.0 , 7.0] , dtype = torch.float32 ,\n",
        "                               device = None , requires_grad = False)\n",
        "float_32_tensor.device"
      ],
      "metadata": {
        "colab": {
          "base_uri": "https://localhost:8080/"
        },
        "id": "M9SuDygGdbi9",
        "outputId": "12529154-8c10-404e-dc42-178098823c36"
      },
      "execution_count": null,
      "outputs": [
        {
          "output_type": "execute_result",
          "data": {
            "text/plain": [
              "device(type='cpu')"
            ]
          },
          "metadata": {},
          "execution_count": 44
        }
      ]
    },
    {
      "cell_type": "code",
      "source": [
        "# we can use either torch.float16 or torch.half\n",
        "float_16_tensor = float_32_tensor.type(torch.half)\n",
        "float_16_tensor"
      ],
      "metadata": {
        "colab": {
          "base_uri": "https://localhost:8080/"
        },
        "id": "hcSxHbihhwmU",
        "outputId": "fdcce136-c963-4074-ca2b-aafe10de52a4"
      },
      "execution_count": null,
      "outputs": [
        {
          "output_type": "execute_result",
          "data": {
            "text/plain": [
              "tensor([3., 5., 7.], dtype=torch.float16)"
            ]
          },
          "metadata": {},
          "execution_count": 45
        }
      ]
    },
    {
      "cell_type": "code",
      "source": [
        "different_datatype_mul = float_32_tensor*float_16_tensor\n",
        "different_datatype_mul , different_datatype_mul.dtype"
      ],
      "metadata": {
        "colab": {
          "base_uri": "https://localhost:8080/"
        },
        "id": "YDQKBUhGhwij",
        "outputId": "5e32284e-8bb6-43bc-a2b4-b9b56344b818"
      },
      "execution_count": null,
      "outputs": [
        {
          "output_type": "execute_result",
          "data": {
            "text/plain": [
              "(tensor([ 9., 25., 49.]), torch.float32)"
            ]
          },
          "metadata": {},
          "execution_count": 49
        }
      ]
    },
    {
      "cell_type": "code",
      "source": [
        "int_32_tensor = torch.tensor([3,4,5] , dtype = torch.int32)\n",
        "int_32_tensor"
      ],
      "metadata": {
        "colab": {
          "base_uri": "https://localhost:8080/"
        },
        "id": "aY0KaDCIhweS",
        "outputId": "089f7c60-d01d-470c-d24f-4f2d9fb8c2e8"
      },
      "execution_count": null,
      "outputs": [
        {
          "output_type": "execute_result",
          "data": {
            "text/plain": [
              "tensor([3, 4, 5], dtype=torch.int32)"
            ]
          },
          "metadata": {},
          "execution_count": 50
        }
      ]
    },
    {
      "cell_type": "code",
      "source": [
        "int_32_tensor * float_16_tensor"
      ],
      "metadata": {
        "colab": {
          "base_uri": "https://localhost:8080/"
        },
        "id": "zyZ0HMj2jF-0",
        "outputId": "0c39a638-c093-4267-9d0c-5d07cc5ca6ed"
      },
      "execution_count": null,
      "outputs": [
        {
          "output_type": "execute_result",
          "data": {
            "text/plain": [
              "tensor([ 9., 20., 35.], dtype=torch.float16)"
            ]
          },
          "metadata": {},
          "execution_count": 51
        }
      ]
    },
    {
      "cell_type": "code",
      "source": [
        "some_tensor = torch.rand(4,5)\n",
        "some_tensor"
      ],
      "metadata": {
        "colab": {
          "base_uri": "https://localhost:8080/"
        },
        "id": "DHHV5UoZmDLU",
        "outputId": "67e67762-04cf-47ae-bff6-c3201378aa62"
      },
      "execution_count": null,
      "outputs": [
        {
          "output_type": "execute_result",
          "data": {
            "text/plain": [
              "tensor([[0.3358, 0.9250, 0.8959, 0.8296, 0.2476],\n",
              "        [0.2331, 0.5850, 0.0561, 0.5420, 0.6586],\n",
              "        [0.7234, 0.5308, 0.7934, 0.3624, 0.4295],\n",
              "        [0.3515, 0.2812, 0.7621, 0.2925, 0.3056]])"
            ]
          },
          "metadata": {},
          "execution_count": 52
        }
      ]
    },
    {
      "cell_type": "markdown",
      "source": [
        "tensor.shape is an attribute and tensor.size() is a function and both give same values"
      ],
      "metadata": {
        "id": "uoHA_tdPnAgs"
      }
    },
    {
      "cell_type": "code",
      "source": [
        "print(some_tensor)\n",
        "print(f\"Datatye of tensor : {some_tensor.dtype}\")\n",
        "print(f\"Shape of tensor : {some_tensor.shape}\")\n",
        "print(f\"Size of tensor : {some_tensor.size()}\")\n",
        "print(f\"Device tensor is on : {some_tensor.device}\")"
      ],
      "metadata": {
        "colab": {
          "base_uri": "https://localhost:8080/"
        },
        "id": "ShQsrr3KmDHQ",
        "outputId": "ea4bbed2-5e0f-4875-e646-7c3118eedd53"
      },
      "execution_count": null,
      "outputs": [
        {
          "output_type": "stream",
          "name": "stdout",
          "text": [
            "tensor([[0.3358, 0.9250, 0.8959, 0.8296, 0.2476],\n",
            "        [0.2331, 0.5850, 0.0561, 0.5420, 0.6586],\n",
            "        [0.7234, 0.5308, 0.7934, 0.3624, 0.4295],\n",
            "        [0.3515, 0.2812, 0.7621, 0.2925, 0.3056]])\n",
            "Datatye of tensor : torch.float32\n",
            "Shape of tensor : torch.Size([4, 5])\n",
            "Size of tensor : torch.Size([4, 5])\n",
            "Device tensor is on : cpu\n"
          ]
        }
      ]
    },
    {
      "cell_type": "markdown",
      "source": [
        "### Manipulating tensors (tensor operations)"
      ],
      "metadata": {
        "id": "pm-y0QZ5nzFn"
      }
    },
    {
      "cell_type": "markdown",
      "source": [
        "Tensor operations include ⁉\n",
        "\n",
        "\n",
        "1.   Addition\n",
        "2.   Subtraction\n",
        "3.   Multiplication(element wise)\n",
        "4.   Division\n",
        "5.   Matrix multiplication\n",
        "\n"
      ],
      "metadata": {
        "id": "_c8Vs6Ofn4RM"
      }
    },
    {
      "cell_type": "code",
      "source": [
        "tensor_op_addition = torch.tensor([1,2,3])\n",
        "tensor_op_addition + 10"
      ],
      "metadata": {
        "colab": {
          "base_uri": "https://localhost:8080/"
        },
        "id": "k1KpKASRoIWA",
        "outputId": "61a884c9-0918-4276-bc12-c02e8ae7a007"
      },
      "execution_count": null,
      "outputs": [
        {
          "output_type": "execute_result",
          "data": {
            "text/plain": [
              "tensor([11, 12, 13])"
            ]
          },
          "metadata": {},
          "execution_count": 62
        }
      ]
    },
    {
      "cell_type": "code",
      "source": [
        "tensor_op_addition * 10"
      ],
      "metadata": {
        "colab": {
          "base_uri": "https://localhost:8080/"
        },
        "id": "BEiyH3Jzma_s",
        "outputId": "66345fa3-b393-4b04-95bb-0be231cb6e7c"
      },
      "execution_count": null,
      "outputs": [
        {
          "output_type": "execute_result",
          "data": {
            "text/plain": [
              "tensor([10, 20, 30])"
            ]
          },
          "metadata": {},
          "execution_count": 63
        }
      ]
    },
    {
      "cell_type": "code",
      "source": [
        "tensor_op_addition - 10"
      ],
      "metadata": {
        "colab": {
          "base_uri": "https://localhost:8080/"
        },
        "id": "A_P4Vty2owg8",
        "outputId": "702eca20-1222-4689-f132-5e010f2fa799"
      },
      "execution_count": null,
      "outputs": [
        {
          "output_type": "execute_result",
          "data": {
            "text/plain": [
              "tensor([-9, -8, -7])"
            ]
          },
          "metadata": {},
          "execution_count": 64
        }
      ]
    },
    {
      "cell_type": "code",
      "source": [
        "# built in pytorch functions\n",
        "torch.mul(tensor_op_addition , 20)\n"
      ],
      "metadata": {
        "colab": {
          "base_uri": "https://localhost:8080/"
        },
        "id": "zjmbG94HowdM",
        "outputId": "f566301d-7ef7-47aa-b0de-f070e635b238"
      },
      "execution_count": null,
      "outputs": [
        {
          "output_type": "execute_result",
          "data": {
            "text/plain": [
              "tensor([20, 40, 60])"
            ]
          },
          "metadata": {},
          "execution_count": 65
        }
      ]
    },
    {
      "cell_type": "code",
      "source": [],
      "metadata": {
        "id": "RaPlZJOBowZ5"
      },
      "execution_count": null,
      "outputs": []
    }
  ]
}