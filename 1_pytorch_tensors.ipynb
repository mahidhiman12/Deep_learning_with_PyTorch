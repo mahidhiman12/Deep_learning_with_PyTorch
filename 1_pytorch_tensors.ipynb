{
  "nbformat": 4,
  "nbformat_minor": 0,
  "metadata": {
    "colab": {
      "provenance": []
    },
    "kernelspec": {
      "name": "python3",
      "display_name": "Python 3"
    },
    "language_info": {
      "name": "python"
    }
  },
  "cells": [
    {
      "cell_type": "code",
      "source": [
        "import torch\n",
        "import numpy as np\n",
        "import pandas as pd\n",
        "import matplotlib.pyplot as plt\n",
        "print(torch.__version__)"
      ],
      "metadata": {
        "colab": {
          "base_uri": "https://localhost:8080/"
        },
        "id": "fFxV5VoRz1ni",
        "outputId": "6d687c72-89d0-4dee-dd65-a5d9b0c335d1"
      },
      "execution_count": null,
      "outputs": [
        {
          "output_type": "stream",
          "name": "stdout",
          "text": [
            "2.6.0+cu124\n"
          ]
        }
      ]
    },
    {
      "cell_type": "markdown",
      "source": [
        "# Intro to tensors:\n"
      ],
      "metadata": {
        "id": "jhQ7pY3rXhDE"
      }
    },
    {
      "cell_type": "markdown",
      "source": [
        "**torch.tensor**:\n",
        "Tensor is a multi-dimensional matrix containing elements of a single data type.\n",
        "\n",
        "A **scalar** is a tensor rank 0, so requires only 1 independent value associated with it"
      ],
      "metadata": {
        "id": "-98BvPzKj3u8"
      }
    },
    {
      "cell_type": "code",
      "source": [
        "# intro to tensors\n",
        "\n",
        "scalar = torch.tensor(6)\n",
        "print(scalar)\n",
        "print(scalar.ndim)\n",
        "print(scalar.shape)"
      ],
      "metadata": {
        "colab": {
          "base_uri": "https://localhost:8080/"
        },
        "id": "VmGjW9D9Wfge",
        "outputId": "e8de01e4-e5e0-4227-9095-0b98839c5c1f"
      },
      "execution_count": null,
      "outputs": [
        {
          "output_type": "stream",
          "name": "stdout",
          "text": [
            "tensor(6)\n",
            "0\n",
            "torch.Size([])\n"
          ]
        }
      ]
    },
    {
      "cell_type": "code",
      "source": [
        "torch.tensor([[1 , 2 , 3] , [ 4, 5 , 6]])"
      ],
      "metadata": {
        "colab": {
          "base_uri": "https://localhost:8080/"
        },
        "id": "Ljju_10rjqbK",
        "outputId": "163d07ae-2024-4739-9c14-8be1af3c6e6c"
      },
      "execution_count": null,
      "outputs": [
        {
          "output_type": "execute_result",
          "data": {
            "text/plain": [
              "tensor([[1, 2, 3],\n",
              "        [4, 5, 6]])"
            ]
          },
          "metadata": {},
          "execution_count": 105
        }
      ]
    },
    {
      "cell_type": "code",
      "source": [
        "torch.tensor(np.array([[1 , 2 , 3] , [ 4, 5 , 6]]))"
      ],
      "metadata": {
        "colab": {
          "base_uri": "https://localhost:8080/"
        },
        "id": "XlMHRi-Lj4fN",
        "outputId": "9f8b8f39-a777-489f-9b5d-7d54977f1bd7"
      },
      "execution_count": null,
      "outputs": [
        {
          "output_type": "execute_result",
          "data": {
            "text/plain": [
              "tensor([[1, 2, 3],\n",
              "        [4, 5, 6]])"
            ]
          },
          "metadata": {},
          "execution_count": 106
        }
      ]
    },
    {
      "cell_type": "markdown",
      "source": [
        "torch.tensor() always copies data. If you have a Tensor data and just want to change its requires_grad flag, use requires_grad_() or detach() to avoid a copy. If you have a numpy array and want to avoid a copy, use torch.as_tensor()."
      ],
      "metadata": {
        "id": "1elqMPC6mOYV"
      }
    },
    {
      "cell_type": "code",
      "source": [
        "torch.zeros([2,4] )\n"
      ],
      "metadata": {
        "colab": {
          "base_uri": "https://localhost:8080/"
        },
        "id": "KoaHMdr9mQ-p",
        "outputId": "c5db4671-e2da-4c2b-cc34-6887e330c609"
      },
      "execution_count": null,
      "outputs": [
        {
          "output_type": "execute_result",
          "data": {
            "text/plain": [
              "tensor([[0., 0., 0., 0.],\n",
              "        [0., 0., 0., 0.]])"
            ]
          },
          "metadata": {},
          "execution_count": 107
        }
      ]
    },
    {
      "cell_type": "code",
      "source": [
        "torch.zeros([2,4] , dtype = torch.int32)"
      ],
      "metadata": {
        "colab": {
          "base_uri": "https://localhost:8080/"
        },
        "id": "YNJLGkSLmcL0",
        "outputId": "f0ad302e-0ae3-49aa-af0f-c5ac82b2722b"
      },
      "execution_count": null,
      "outputs": [
        {
          "output_type": "execute_result",
          "data": {
            "text/plain": [
              "tensor([[0, 0, 0, 0],\n",
              "        [0, 0, 0, 0]], dtype=torch.int32)"
            ]
          },
          "metadata": {},
          "execution_count": 108
        }
      ]
    },
    {
      "cell_type": "code",
      "source": [
        "x = torch.tensor([[1,4,6] , [9,5,6]])\n",
        "print(x[0][2])\n",
        "x[1][1] = 3\n",
        "\n",
        "x"
      ],
      "metadata": {
        "colab": {
          "base_uri": "https://localhost:8080/"
        },
        "id": "of1XdaMAmo4Z",
        "outputId": "da19345b-167c-4717-8408-4da992a5d268"
      },
      "execution_count": null,
      "outputs": [
        {
          "output_type": "stream",
          "name": "stdout",
          "text": [
            "tensor(6)\n"
          ]
        },
        {
          "output_type": "execute_result",
          "data": {
            "text/plain": [
              "tensor([[1, 4, 6],\n",
              "        [9, 3, 6]])"
            ]
          },
          "metadata": {},
          "execution_count": 109
        }
      ]
    },
    {
      "cell_type": "code",
      "source": [
        "x = torch.tensor([[1]])\n",
        "print(x)\n",
        "# get tensor as python int - using item()\n",
        "x.item()\n"
      ],
      "metadata": {
        "colab": {
          "base_uri": "https://localhost:8080/"
        },
        "id": "ACre_CrTm4-o",
        "outputId": "4bf8cc9e-f6d9-4651-e770-75611ec55f43"
      },
      "execution_count": null,
      "outputs": [
        {
          "output_type": "stream",
          "name": "stdout",
          "text": [
            "tensor([[1]])\n"
          ]
        },
        {
          "output_type": "execute_result",
          "data": {
            "text/plain": [
              "1"
            ]
          },
          "metadata": {},
          "execution_count": 110
        }
      ]
    },
    {
      "cell_type": "code",
      "source": [
        "vector = torch.tensor([1,2,3])\n",
        "print(vector)\n",
        "print(vector.ndim)\n",
        "print(vector.shape)"
      ],
      "metadata": {
        "colab": {
          "base_uri": "https://localhost:8080/"
        },
        "id": "qTMXLuAsnlLs",
        "outputId": "0dd4ad9e-b962-4317-870e-3ad2be7f685f"
      },
      "execution_count": null,
      "outputs": [
        {
          "output_type": "stream",
          "name": "stdout",
          "text": [
            "tensor([1, 2, 3])\n",
            "1\n",
            "torch.Size([3])\n"
          ]
        }
      ]
    },
    {
      "cell_type": "code",
      "source": [
        "# MATRIX\n",
        "MATRIX = torch.tensor([[1,2,3] , [4,5,6]])\n",
        "print(MATRIX)\n",
        "print(MATRIX[0])\n",
        "print(MATRIX[1])"
      ],
      "metadata": {
        "colab": {
          "base_uri": "https://localhost:8080/"
        },
        "id": "CwKnyvKqpRlo",
        "outputId": "7239a432-2972-47ea-dce0-f33cd15e29c3"
      },
      "execution_count": null,
      "outputs": [
        {
          "output_type": "stream",
          "name": "stdout",
          "text": [
            "tensor([[1, 2, 3],\n",
            "        [4, 5, 6]])\n",
            "tensor([1, 2, 3])\n",
            "tensor([4, 5, 6])\n"
          ]
        }
      ]
    },
    {
      "cell_type": "code",
      "source": [
        "MATRIX.ndim\n"
      ],
      "metadata": {
        "colab": {
          "base_uri": "https://localhost:8080/"
        },
        "id": "6tTNEzxUqMdd",
        "outputId": "a1a6b2b5-d8ef-454e-9c68-01461eb8f8a6"
      },
      "execution_count": null,
      "outputs": [
        {
          "output_type": "execute_result",
          "data": {
            "text/plain": [
              "2"
            ]
          },
          "metadata": {},
          "execution_count": 113
        }
      ]
    },
    {
      "cell_type": "code",
      "source": [
        "MATRIX.shape"
      ],
      "metadata": {
        "colab": {
          "base_uri": "https://localhost:8080/"
        },
        "id": "RywNFbvXqRVX",
        "outputId": "bd7f4378-e6ec-4733-d7f5-21b0c9e34a97"
      },
      "execution_count": null,
      "outputs": [
        {
          "output_type": "execute_result",
          "data": {
            "text/plain": [
              "torch.Size([2, 3])"
            ]
          },
          "metadata": {},
          "execution_count": 114
        }
      ]
    },
    {
      "cell_type": "markdown",
      "source": [
        "**scalar**:\n",
        " ndim: no of square brackets -> 0\n",
        "\n",
        "**vector**:\n",
        "shape : no of elements\n",
        "ndim : no of square brackets -> 1\n",
        "\n",
        "**matrix**:\n",
        "shape : no of rows , col\n",
        "ndim : no of square brackets -> 2\n",
        "\n",
        "**tensor**:\n",
        "ndim : no of square brackets -> 3 or more\n",
        "\n",
        "shape : eg : 1 , 3, 3 means 1 3x3 shape tensor ( 1 dimension of 3x3)\n",
        "very outer bracket matches with 1 , then next one matches with row , last with col"
      ],
      "metadata": {
        "id": "y2U6n5GVqndr"
      }
    },
    {
      "cell_type": "code",
      "source": [
        "TENSOR =  torch.tensor([[[1,4,5],\n",
        "                         [3,4,5],\n",
        "                         [6,7,4]]])\n",
        "print(TENSOR)\n",
        "print(TENSOR.ndim)\n",
        "print(TENSOR.shape)"
      ],
      "metadata": {
        "colab": {
          "base_uri": "https://localhost:8080/"
        },
        "id": "YQQeKsN1qTM8",
        "outputId": "f88ea03a-2c37-4699-c9ba-295048fc97e7"
      },
      "execution_count": null,
      "outputs": [
        {
          "output_type": "stream",
          "name": "stdout",
          "text": [
            "tensor([[[1, 4, 5],\n",
            "         [3, 4, 5],\n",
            "         [6, 7, 4]]])\n",
            "3\n",
            "torch.Size([1, 3, 3])\n"
          ]
        }
      ]
    },
    {
      "cell_type": "code",
      "source": [
        "# torch.size([1,3,3])\n",
        "# indexes : torch.size([0,1,2])\n",
        "# LOOK AT THE BRACKETS:\n",
        "TENSOR[0]"
      ],
      "metadata": {
        "colab": {
          "base_uri": "https://localhost:8080/"
        },
        "id": "sQPKmtDhsLGl",
        "outputId": "c746f06a-7ef8-4c90-c0d1-d959e5ac3a40"
      },
      "execution_count": null,
      "outputs": [
        {
          "output_type": "execute_result",
          "data": {
            "text/plain": [
              "tensor([[1, 4, 5],\n",
              "        [3, 4, 5],\n",
              "        [6, 7, 4]])"
            ]
          },
          "metadata": {},
          "execution_count": 116
        }
      ]
    },
    {
      "cell_type": "code",
      "source": [
        "\n",
        "TENSOR1 =  torch.tensor([[[[1,4,5],\n",
        "                         [3,4,5],\n",
        "                         [6,7,4]]]])\n",
        "TENSOR1.ndim"
      ],
      "metadata": {
        "colab": {
          "base_uri": "https://localhost:8080/"
        },
        "id": "rbDtKZXRtA7Z",
        "outputId": "22a99baf-061a-4597-da25-f081f5c6b378"
      },
      "execution_count": null,
      "outputs": [
        {
          "output_type": "execute_result",
          "data": {
            "text/plain": [
              "4"
            ]
          },
          "metadata": {},
          "execution_count": 117
        }
      ]
    },
    {
      "cell_type": "code",
      "source": [
        "TENSOR1.shape"
      ],
      "metadata": {
        "colab": {
          "base_uri": "https://localhost:8080/"
        },
        "id": "cTuL_0o8tSn1",
        "outputId": "94599755-b9f1-4bc2-b407-4c8ad29b6623"
      },
      "execution_count": null,
      "outputs": [
        {
          "output_type": "execute_result",
          "data": {
            "text/plain": [
              "torch.Size([1, 1, 3, 3])"
            ]
          },
          "metadata": {},
          "execution_count": 118
        }
      ]
    },
    {
      "cell_type": "code",
      "source": [
        "TENSOR2 =  torch.tensor([[[[[1,4,5],\n",
        "                         [3,4,5],\n",
        "                         [6,7,4]]]]])\n",
        "TENSOR2.shape\n",
        "\n"
      ],
      "metadata": {
        "colab": {
          "base_uri": "https://localhost:8080/"
        },
        "id": "mx8UN_4suBxB",
        "outputId": "e28c1df5-cd10-40ac-da09-cae73f8e239b"
      },
      "execution_count": null,
      "outputs": [
        {
          "output_type": "execute_result",
          "data": {
            "text/plain": [
              "torch.Size([1, 1, 1, 3, 3])"
            ]
          },
          "metadata": {},
          "execution_count": 119
        }
      ]
    },
    {
      "cell_type": "markdown",
      "source": [
        "*A tensor can represent any shape or size, or any combinations of number*\n",
        "\n",
        "\n",
        "\n"
      ],
      "metadata": {
        "id": "In_q2grKub6c"
      }
    },
    {
      "cell_type": "markdown",
      "source": [
        "**usually:** a scalar and a vector is written by a lowercase and matrix or tensor is written by uppercase"
      ],
      "metadata": {
        "id": "S3VEjGTJu6_K"
      }
    },
    {
      "cell_type": "markdown",
      "source": [
        "### random tensors:"
      ],
      "metadata": {
        "id": "XmXWj7Nd2lLh"
      }
    },
    {
      "cell_type": "code",
      "source": [
        "# torch.rand(rows,cols)\n",
        "random_tensor = torch.rand(3,4)\n",
        "random_tensor"
      ],
      "metadata": {
        "colab": {
          "base_uri": "https://localhost:8080/"
        },
        "id": "_RRd3OjLujfQ",
        "outputId": "27e25789-d396-434c-fad7-5217aa820c65"
      },
      "execution_count": null,
      "outputs": [
        {
          "output_type": "execute_result",
          "data": {
            "text/plain": [
              "tensor([[0.2128, 0.1144, 0.1018, 0.3021],\n",
              "        [0.1171, 0.9140, 0.9109, 0.5750],\n",
              "        [0.5672, 0.0753, 0.4195, 0.4023]])"
            ]
          },
          "metadata": {},
          "execution_count": 120
        }
      ]
    },
    {
      "cell_type": "code",
      "source": [
        "random_tensor.ndim"
      ],
      "metadata": {
        "colab": {
          "base_uri": "https://localhost:8080/"
        },
        "id": "1J8MSjmGujb0",
        "outputId": "2b62226e-76b5-47cd-e2ea-2a6f99dfdf90"
      },
      "execution_count": null,
      "outputs": [
        {
          "output_type": "execute_result",
          "data": {
            "text/plain": [
              "2"
            ]
          },
          "metadata": {},
          "execution_count": 121
        }
      ]
    },
    {
      "cell_type": "code",
      "source": [
        " random_tensor.shape"
      ],
      "metadata": {
        "colab": {
          "base_uri": "https://localhost:8080/"
        },
        "id": "IXgbeOd-uafe",
        "outputId": "54957a9e-c97d-47e4-cdbe-bcbd8f27d4ca"
      },
      "execution_count": null,
      "outputs": [
        {
          "output_type": "execute_result",
          "data": {
            "text/plain": [
              "torch.Size([3, 4])"
            ]
          },
          "metadata": {},
          "execution_count": 122
        }
      ]
    },
    {
      "cell_type": "code",
      "source": [
        "random_TENSOR2 = torch.rand(1,3,4)\n",
        "random_TENSOR2"
      ],
      "metadata": {
        "colab": {
          "base_uri": "https://localhost:8080/"
        },
        "id": "WFWk9rvLuIkl",
        "outputId": "01504f36-7ddb-465c-c9c2-8313a2f4ca76"
      },
      "execution_count": null,
      "outputs": [
        {
          "output_type": "execute_result",
          "data": {
            "text/plain": [
              "tensor([[[0.6859, 0.7355, 0.0454, 0.8849],\n",
              "         [0.9834, 0.7848, 0.9070, 0.2701],\n",
              "         [0.8757, 0.9323, 0.9622, 0.2104]]])"
            ]
          },
          "metadata": {},
          "execution_count": 123
        }
      ]
    },
    {
      "cell_type": "code",
      "source": [
        "random_TENSOR2.shape"
      ],
      "metadata": {
        "colab": {
          "base_uri": "https://localhost:8080/"
        },
        "id": "xcxsdIdA3OKE",
        "outputId": "99511613-b59a-40a1-9ecf-328fb4a9fa92"
      },
      "execution_count": null,
      "outputs": [
        {
          "output_type": "execute_result",
          "data": {
            "text/plain": [
              "torch.Size([1, 3, 4])"
            ]
          },
          "metadata": {},
          "execution_count": 124
        }
      ]
    },
    {
      "cell_type": "code",
      "source": [
        "random_TENSOR2.ndim"
      ],
      "metadata": {
        "colab": {
          "base_uri": "https://localhost:8080/"
        },
        "id": "qga9eAV23Qsq",
        "outputId": "a4e8380a-4a5b-4b3a-a482-d40b0417a70a"
      },
      "execution_count": null,
      "outputs": [
        {
          "output_type": "execute_result",
          "data": {
            "text/plain": [
              "3"
            ]
          },
          "metadata": {},
          "execution_count": 125
        }
      ]
    },
    {
      "cell_type": "code",
      "source": [
        "# create a random tensor with similar shape to an image tensor\n",
        "random_image_size_tensor = torch.rand(size=(224,224,3) )\n",
        "# height , width , color channel = 224 , 224 , 3\n",
        "random_image_size_tensor.shape , random_image_size_tensor.ndim"
      ],
      "metadata": {
        "colab": {
          "base_uri": "https://localhost:8080/"
        },
        "id": "yajeW1fx3Uu9",
        "outputId": "ea629af9-2629-4bc7-d7bf-f46efa7c374f"
      },
      "execution_count": null,
      "outputs": [
        {
          "output_type": "execute_result",
          "data": {
            "text/plain": [
              "(torch.Size([224, 224, 3]), 3)"
            ]
          },
          "metadata": {},
          "execution_count": 126
        }
      ]
    },
    {
      "cell_type": "markdown",
      "source": [
        "ALMOST ANY DATA CAN BE REPRESENTED AS TENSORS , ONE OF THE COMMON WAYS OF REPRESENTING IMAGE DATA IS TO COLOR CHANNEL , HEIGHT , WIDTH OR HEIGHT , WIDTH , COLOR CHANNEL\n"
      ],
      "metadata": {
        "id": "0W0Itj_W4QNb"
      }
    },
    {
      "cell_type": "markdown",
      "source": [
        "### zeros and ones tensor"
      ],
      "metadata": {
        "id": "xmopsbqG42Zy"
      }
    },
    {
      "cell_type": "code",
      "source": [
        "# tensor of all zeroes:\n",
        "zeroes = torch.zeros(size=(3,4))\n",
        "zeroes"
      ],
      "metadata": {
        "colab": {
          "base_uri": "https://localhost:8080/"
        },
        "id": "DyQhZ-EP4CD3",
        "outputId": "ccb12b36-5770-4876-dcc2-66264ac32abd"
      },
      "execution_count": null,
      "outputs": [
        {
          "output_type": "execute_result",
          "data": {
            "text/plain": [
              "tensor([[0., 0., 0., 0.],\n",
              "        [0., 0., 0., 0.],\n",
              "        [0., 0., 0., 0.]])"
            ]
          },
          "metadata": {},
          "execution_count": 127
        }
      ]
    },
    {
      "cell_type": "code",
      "source": [
        "zeroes1 = torch.zeros((3,4))\n",
        "zeroes1"
      ],
      "metadata": {
        "colab": {
          "base_uri": "https://localhost:8080/"
        },
        "id": "mURn3JNe5Avr",
        "outputId": "e9fa93f0-061d-4f97-85aa-a6bafcba4a11"
      },
      "execution_count": null,
      "outputs": [
        {
          "output_type": "execute_result",
          "data": {
            "text/plain": [
              "tensor([[0., 0., 0., 0.],\n",
              "        [0., 0., 0., 0.],\n",
              "        [0., 0., 0., 0.]])"
            ]
          },
          "metadata": {},
          "execution_count": 128
        }
      ]
    },
    {
      "cell_type": "code",
      "source": [
        "random_value_tensor = torch.rand(3,4)\n",
        "random_value_tensor"
      ],
      "metadata": {
        "colab": {
          "base_uri": "https://localhost:8080/"
        },
        "id": "huXRWj075K2s",
        "outputId": "5228e6b0-b93d-4958-cb12-caed896dbd5b"
      },
      "execution_count": null,
      "outputs": [
        {
          "output_type": "execute_result",
          "data": {
            "text/plain": [
              "tensor([[0.7806, 0.8499, 0.5632, 0.7296],\n",
              "        [0.7892, 0.0980, 0.1924, 0.2711],\n",
              "        [0.8936, 0.8451, 0.2425, 0.4603]])"
            ]
          },
          "metadata": {},
          "execution_count": 129
        }
      ]
    },
    {
      "cell_type": "code",
      "source": [
        "zeroes1*random_value_tensor"
      ],
      "metadata": {
        "colab": {
          "base_uri": "https://localhost:8080/"
        },
        "id": "yDctmcgg5ZFY",
        "outputId": "76b45e0b-d262-4db5-837b-2eb9e559a463"
      },
      "execution_count": null,
      "outputs": [
        {
          "output_type": "execute_result",
          "data": {
            "text/plain": [
              "tensor([[0., 0., 0., 0.],\n",
              "        [0., 0., 0., 0.],\n",
              "        [0., 0., 0., 0.]])"
            ]
          },
          "metadata": {},
          "execution_count": 130
        }
      ]
    },
    {
      "cell_type": "code",
      "source": [
        "# tensor of all ones:\n",
        "ones = torch.ones((3,4) )\n",
        "ones , ones.dtype"
      ],
      "metadata": {
        "colab": {
          "base_uri": "https://localhost:8080/"
        },
        "id": "DjnbT35Y5e-n",
        "outputId": "2eb864d1-8ab6-41d7-bb6b-1f7bc16bb94a"
      },
      "execution_count": null,
      "outputs": [
        {
          "output_type": "execute_result",
          "data": {
            "text/plain": [
              "(tensor([[1., 1., 1., 1.],\n",
              "         [1., 1., 1., 1.],\n",
              "         [1., 1., 1., 1.]]),\n",
              " torch.float32)"
            ]
          },
          "metadata": {},
          "execution_count": 131
        }
      ]
    },
    {
      "cell_type": "markdown",
      "source": [
        "# creating a range of tensors and tensors - like"
      ],
      "metadata": {
        "id": "pECCCT2tbeNV"
      }
    },
    {
      "cell_type": "code",
      "source": [
        "one_to_ten = torch.arange(1 , 11)\n",
        "one_to_ten"
      ],
      "metadata": {
        "id": "9HiruM4a5ws-",
        "colab": {
          "base_uri": "https://localhost:8080/"
        },
        "outputId": "7274973b-4226-415a-92e4-2eede723ef7d"
      },
      "execution_count": null,
      "outputs": [
        {
          "output_type": "execute_result",
          "data": {
            "text/plain": [
              "tensor([ 1,  2,  3,  4,  5,  6,  7,  8,  9, 10])"
            ]
          },
          "metadata": {},
          "execution_count": 132
        }
      ]
    },
    {
      "cell_type": "code",
      "source": [
        "step_one_to_twenty = torch.arange(start = 1 , end = 20 , step = 4)\n",
        "step_one_to_twenty"
      ],
      "metadata": {
        "colab": {
          "base_uri": "https://localhost:8080/"
        },
        "id": "Q9iZ_gSZbsku",
        "outputId": "b79395da-da5b-4d51-fcd4-f489d0ff7c06"
      },
      "execution_count": null,
      "outputs": [
        {
          "output_type": "execute_result",
          "data": {
            "text/plain": [
              "tensor([ 1,  5,  9, 13, 17])"
            ]
          },
          "metadata": {},
          "execution_count": 133
        }
      ]
    },
    {
      "cell_type": "code",
      "source": [
        "#  if we want to create a tensor full of zeros and has the same shape as one_to_ten we can use tensor like or zeros like\n",
        "ten_zeros = torch.zeros_like(one_to_ten)\n",
        "ten_zeros"
      ],
      "metadata": {
        "colab": {
          "base_uri": "https://localhost:8080/"
        },
        "id": "qW9HBkPicWu2",
        "outputId": "c7211a74-8662-4eb6-a4dc-1234b7ec0c65"
      },
      "execution_count": null,
      "outputs": [
        {
          "output_type": "execute_result",
          "data": {
            "text/plain": [
              "tensor([0, 0, 0, 0, 0, 0, 0, 0, 0, 0])"
            ]
          },
          "metadata": {},
          "execution_count": 134
        }
      ]
    },
    {
      "cell_type": "markdown",
      "source": [
        "# Tensor datatypes"
      ],
      "metadata": {
        "id": "xNvk9Fe1dlww"
      }
    },
    {
      "cell_type": "markdown",
      "source": [
        "The default dtypes even if we specify as none are int64 for integer and float32 for float"
      ],
      "metadata": {
        "id": "j6jOKKtheI7A"
      }
    },
    {
      "cell_type": "code",
      "source": [
        "no_datatype_tensor = torch.tensor([3,6,8] , dtype = None)\n",
        "no_datatype_tensor.dtype"
      ],
      "metadata": {
        "colab": {
          "base_uri": "https://localhost:8080/"
        },
        "id": "78OILeIEdb1k",
        "outputId": "ae78362b-3fb5-495b-c244-bfc0581786a8"
      },
      "execution_count": null,
      "outputs": [
        {
          "output_type": "execute_result",
          "data": {
            "text/plain": [
              "torch.int64"
            ]
          },
          "metadata": {},
          "execution_count": 135
        }
      ]
    },
    {
      "cell_type": "code",
      "source": [
        "no_datatype_tensor = torch.tensor([3.0,6.0,8.0] , dtype = None)\n",
        "no_datatype_tensor.dtype"
      ],
      "metadata": {
        "colab": {
          "base_uri": "https://localhost:8080/"
        },
        "id": "EiVhYDuidbyB",
        "outputId": "48169fae-bde6-4b2d-bb25-a15ea9becfa1"
      },
      "execution_count": null,
      "outputs": [
        {
          "output_type": "execute_result",
          "data": {
            "text/plain": [
              "torch.float32"
            ]
          },
          "metadata": {},
          "execution_count": 136
        }
      ]
    },
    {
      "cell_type": "code",
      "source": [
        "no_datatype_tensor = torch.tensor([3.0,6.0,8.0] , dtype = torch.float16)\n",
        "no_datatype_tensor.dtype"
      ],
      "metadata": {
        "colab": {
          "base_uri": "https://localhost:8080/"
        },
        "id": "H4mt3wt0dbvs",
        "outputId": "74c70a42-6529-499b-a930-d67d65f8ec12"
      },
      "execution_count": null,
      "outputs": [
        {
          "output_type": "execute_result",
          "data": {
            "text/plain": [
              "torch.float16"
            ]
          },
          "metadata": {},
          "execution_count": 137
        }
      ]
    },
    {
      "cell_type": "markdown",
      "source": [
        "Some of the important parameters of torch.tensor are dtype , device , requires_grad\n",
        "\n",
        "you can calculate faster if numbers take less memory\n",
        "*   single-precision floating-point :float32 (32 bits in computer memory)\n",
        "*   half-precision floating point :float16\n",
        "\n",
        " the **precision** of a numerical quantity is a measure of the detail in which the quantity is expressed\n",
        "\n",
        " tensor dtypes is one of the 3 big errors youll run into with pytorch and deep learning:\n",
        "\n",
        "\n",
        "1.   Tensor not right datatype\n",
        "2.   Tensor not right shape\n",
        "3.   Tensor not on right device\n",
        "\n",
        "**Shape** :same concept as matrix multiplication\n",
        "\n",
        "**device** : if one tensors on gpu for fast computing and another tensor is on cpu and you want to do some operations on them : then youll run into not right device error.\n",
        "    device = \"cuda\"\n",
        "    or device = \"cpu\"\n",
        "\n",
        "\n",
        "**Requires_grad** : if you want pytorch to track gradients when pytorch goes through certain calculations"
      ],
      "metadata": {
        "id": "vWiOjYcweeOb"
      }
    },
    {
      "cell_type": "code",
      "source": [
        "float_32_tensor = torch.tensor([3.0 , 5.0 , 7.0] , dtype = torch.float32 ,\n",
        "                               device = None , requires_grad = False)\n",
        "float_32_tensor.device"
      ],
      "metadata": {
        "colab": {
          "base_uri": "https://localhost:8080/"
        },
        "id": "M9SuDygGdbi9",
        "outputId": "1ea1c0de-0f3a-45ed-faab-7fb0a20b7712"
      },
      "execution_count": null,
      "outputs": [
        {
          "output_type": "execute_result",
          "data": {
            "text/plain": [
              "device(type='cpu')"
            ]
          },
          "metadata": {},
          "execution_count": 138
        }
      ]
    },
    {
      "cell_type": "code",
      "source": [
        "# we can use either torch.float16 or torch.half\n",
        "float_16_tensor = float_32_tensor.type(torch.half)\n",
        "float_16_tensor"
      ],
      "metadata": {
        "colab": {
          "base_uri": "https://localhost:8080/"
        },
        "id": "hcSxHbihhwmU",
        "outputId": "2a28449d-544d-412a-a098-4f9b7ff5e43e"
      },
      "execution_count": null,
      "outputs": [
        {
          "output_type": "execute_result",
          "data": {
            "text/plain": [
              "tensor([3., 5., 7.], dtype=torch.float16)"
            ]
          },
          "metadata": {},
          "execution_count": 139
        }
      ]
    },
    {
      "cell_type": "code",
      "source": [
        "different_datatype_mul = float_32_tensor*float_16_tensor\n",
        "different_datatype_mul , different_datatype_mul.dtype"
      ],
      "metadata": {
        "colab": {
          "base_uri": "https://localhost:8080/"
        },
        "id": "YDQKBUhGhwij",
        "outputId": "e1e9c78d-2404-415d-aee7-4478da0432af"
      },
      "execution_count": null,
      "outputs": [
        {
          "output_type": "execute_result",
          "data": {
            "text/plain": [
              "(tensor([ 9., 25., 49.]), torch.float32)"
            ]
          },
          "metadata": {},
          "execution_count": 140
        }
      ]
    },
    {
      "cell_type": "code",
      "source": [
        "int_32_tensor = torch.tensor([3,4,5] , dtype = torch.int32)\n",
        "int_32_tensor"
      ],
      "metadata": {
        "colab": {
          "base_uri": "https://localhost:8080/"
        },
        "id": "aY0KaDCIhweS",
        "outputId": "05df12bc-f41e-4e53-b5a3-457c5c0f6145"
      },
      "execution_count": null,
      "outputs": [
        {
          "output_type": "execute_result",
          "data": {
            "text/plain": [
              "tensor([3, 4, 5], dtype=torch.int32)"
            ]
          },
          "metadata": {},
          "execution_count": 141
        }
      ]
    },
    {
      "cell_type": "code",
      "source": [
        "int_32_tensor * float_16_tensor"
      ],
      "metadata": {
        "colab": {
          "base_uri": "https://localhost:8080/"
        },
        "id": "zyZ0HMj2jF-0",
        "outputId": "2c36d18a-b0d7-4bb0-cccf-c2affae32d2b"
      },
      "execution_count": null,
      "outputs": [
        {
          "output_type": "execute_result",
          "data": {
            "text/plain": [
              "tensor([ 9., 20., 35.], dtype=torch.float16)"
            ]
          },
          "metadata": {},
          "execution_count": 142
        }
      ]
    },
    {
      "cell_type": "code",
      "source": [
        "some_tensor = torch.rand(4,5)\n",
        "some_tensor"
      ],
      "metadata": {
        "colab": {
          "base_uri": "https://localhost:8080/"
        },
        "id": "DHHV5UoZmDLU",
        "outputId": "fe96d625-dd05-485e-a9e5-f81c406d4ded"
      },
      "execution_count": null,
      "outputs": [
        {
          "output_type": "execute_result",
          "data": {
            "text/plain": [
              "tensor([[0.2239, 0.3429, 0.6206, 0.2497, 0.7114],\n",
              "        [0.5907, 0.7645, 0.9108, 0.8750, 0.6225],\n",
              "        [0.2352, 0.0345, 0.0585, 0.5963, 0.8393],\n",
              "        [0.6220, 0.2692, 0.9510, 0.2518, 0.2147]])"
            ]
          },
          "metadata": {},
          "execution_count": 143
        }
      ]
    },
    {
      "cell_type": "markdown",
      "source": [
        "tensor.shape is an attribute and tensor.size() is a function and both give same values"
      ],
      "metadata": {
        "id": "uoHA_tdPnAgs"
      }
    },
    {
      "cell_type": "code",
      "source": [
        "print(some_tensor)\n",
        "print(f\"Datatye of tensor : {some_tensor.dtype}\")\n",
        "print(f\"Shape of tensor : {some_tensor.shape}\")\n",
        "print(f\"Size of tensor : {some_tensor.size()}\")\n",
        "print(f\"Device tensor is on : {some_tensor.device}\")"
      ],
      "metadata": {
        "colab": {
          "base_uri": "https://localhost:8080/"
        },
        "id": "ShQsrr3KmDHQ",
        "outputId": "60d7ac60-f672-4459-f705-336a0509b144"
      },
      "execution_count": null,
      "outputs": [
        {
          "output_type": "stream",
          "name": "stdout",
          "text": [
            "tensor([[0.2239, 0.3429, 0.6206, 0.2497, 0.7114],\n",
            "        [0.5907, 0.7645, 0.9108, 0.8750, 0.6225],\n",
            "        [0.2352, 0.0345, 0.0585, 0.5963, 0.8393],\n",
            "        [0.6220, 0.2692, 0.9510, 0.2518, 0.2147]])\n",
            "Datatye of tensor : torch.float32\n",
            "Shape of tensor : torch.Size([4, 5])\n",
            "Size of tensor : torch.Size([4, 5])\n",
            "Device tensor is on : cpu\n"
          ]
        }
      ]
    },
    {
      "cell_type": "markdown",
      "source": [
        "### Manipulating tensors (tensor operations)"
      ],
      "metadata": {
        "id": "pm-y0QZ5nzFn"
      }
    },
    {
      "cell_type": "markdown",
      "source": [
        "Tensor operations include ⁉\n",
        "\n",
        "\n",
        "1.   Addition\n",
        "2.   Subtraction\n",
        "3.   Multiplication(element wise)\n",
        "4.   Division\n",
        "5.   Matrix multiplication\n",
        "\n"
      ],
      "metadata": {
        "id": "_c8Vs6Ofn4RM"
      }
    },
    {
      "cell_type": "code",
      "source": [
        "tensor_op_addition = torch.tensor([1,2,3])\n",
        "tensor_op_addition + 10"
      ],
      "metadata": {
        "colab": {
          "base_uri": "https://localhost:8080/"
        },
        "id": "k1KpKASRoIWA",
        "outputId": "47291dff-f5db-4817-bb5b-6971d5e86c29"
      },
      "execution_count": null,
      "outputs": [
        {
          "output_type": "execute_result",
          "data": {
            "text/plain": [
              "tensor([11, 12, 13])"
            ]
          },
          "metadata": {},
          "execution_count": 145
        }
      ]
    },
    {
      "cell_type": "code",
      "source": [
        "tensor_op_addition * 10"
      ],
      "metadata": {
        "colab": {
          "base_uri": "https://localhost:8080/"
        },
        "id": "BEiyH3Jzma_s",
        "outputId": "7557521d-591c-410c-8bde-23e0eee2133b"
      },
      "execution_count": null,
      "outputs": [
        {
          "output_type": "execute_result",
          "data": {
            "text/plain": [
              "tensor([10, 20, 30])"
            ]
          },
          "metadata": {},
          "execution_count": 146
        }
      ]
    },
    {
      "cell_type": "code",
      "source": [
        "tensor_op_addition - 10"
      ],
      "metadata": {
        "colab": {
          "base_uri": "https://localhost:8080/"
        },
        "id": "A_P4Vty2owg8",
        "outputId": "6fa7e5ca-0202-48f9-f8ef-3b490c86b69d"
      },
      "execution_count": null,
      "outputs": [
        {
          "output_type": "execute_result",
          "data": {
            "text/plain": [
              "tensor([-9, -8, -7])"
            ]
          },
          "metadata": {},
          "execution_count": 147
        }
      ]
    },
    {
      "cell_type": "code",
      "source": [
        "# built in pytorch functions\n",
        "torch.mul(tensor_op_addition , 20)\n"
      ],
      "metadata": {
        "colab": {
          "base_uri": "https://localhost:8080/"
        },
        "id": "zjmbG94HowdM",
        "outputId": "b92c764c-e386-43ac-9ad8-efa4a8441632"
      },
      "execution_count": null,
      "outputs": [
        {
          "output_type": "execute_result",
          "data": {
            "text/plain": [
              "tensor([20, 40, 60])"
            ]
          },
          "metadata": {},
          "execution_count": 148
        }
      ]
    },
    {
      "cell_type": "markdown",
      "source": [
        "**Matrix multiplication**\n",
        "\n",
        "There are 2 ways of performing multiplication in deep learning:\n",
        "\n",
        "*  Element-wise multiplication\n",
        "*  Matrix multiplication\n",
        "\n",
        "matrixmultiplication.xyz site is a good resource to learn matrix multiplication"
      ],
      "metadata": {
        "id": "Otfrm2cK7Sgm"
      }
    },
    {
      "cell_type": "code",
      "source": [
        "# element-wise multiplication\n",
        "tensor_mul = torch.tensor([1,2,3])\n",
        "print(tensor_mul , \"*\" , tensor_mul)\n",
        "print(f\"Tensor Element-wise multiplication : {tensor_mul * tensor_mul}\")"
      ],
      "metadata": {
        "colab": {
          "base_uri": "https://localhost:8080/"
        },
        "id": "hMLwiLMn7gA3",
        "outputId": "dd64c8b2-4b61-4965-fe7e-04de629fc575"
      },
      "execution_count": null,
      "outputs": [
        {
          "output_type": "stream",
          "name": "stdout",
          "text": [
            "tensor([1, 2, 3]) * tensor([1, 2, 3])\n",
            "Tensor Element-wise multiplication : tensor([1, 4, 9])\n"
          ]
        }
      ]
    },
    {
      "cell_type": "markdown",
      "source": [
        "You can either use matmul or @ like:\n",
        "\n",
        "\n",
        "*   torch.matmul()\n",
        "*   tensor @ tensor\n",
        "*   torch.mm()\n",
        "\n",
        "Important points about matrix multiplication are:\n",
        "\n",
        "\n",
        "1.   the no of columns of first tensor should be equal to the no of rows of second tensor :\n",
        "\n",
        "   eg :   \n",
        "         tensor1's order = MxN\n",
        "   \n",
        "         tensor2's order = NxS\n",
        "\n",
        "  \n",
        "2.   The order of resulting matrix will be row of first tensor x col of second tensor that is:\n",
        "\n",
        "          M x S\n",
        "\n",
        "\n"
      ],
      "metadata": {
        "id": "mmUOQBFS_TIN"
      }
    },
    {
      "cell_type": "code",
      "source": [
        "# matrix multiplication - matmul\n",
        "# here if the tensor is [1,2,3] then the matrix mul will be 1*1+2*2+3*3\n",
        "%%time\n",
        "torch.matmul(tensor_mul , tensor_mul)\n"
      ],
      "metadata": {
        "id": "RaPlZJOBowZ5",
        "colab": {
          "base_uri": "https://localhost:8080/"
        },
        "outputId": "6bf0754e-2ff6-4f0a-8994-0552d5c11e69"
      },
      "execution_count": null,
      "outputs": [
        {
          "output_type": "stream",
          "name": "stdout",
          "text": [
            "CPU times: user 63 µs, sys: 10 µs, total: 73 µs\n",
            "Wall time: 78 µs\n"
          ]
        },
        {
          "output_type": "execute_result",
          "data": {
            "text/plain": [
              "tensor(14)"
            ]
          },
          "metadata": {},
          "execution_count": 150
        }
      ]
    },
    {
      "cell_type": "code",
      "source": [
        "%%time\n",
        "value = 0\n",
        "for i in range(len(tensor_mul)):\n",
        "  value += tensor_mul[i]*tensor_mul[i]\n",
        "print(value)"
      ],
      "metadata": {
        "colab": {
          "base_uri": "https://localhost:8080/"
        },
        "id": "PeFiggow9vVB",
        "outputId": "270dd541-e8aa-4ede-f785-f00607ee75aa"
      },
      "execution_count": null,
      "outputs": [
        {
          "output_type": "stream",
          "name": "stdout",
          "text": [
            "tensor(14)\n",
            "CPU times: user 804 µs, sys: 0 ns, total: 804 µs\n",
            "Wall time: 812 µs\n"
          ]
        }
      ]
    },
    {
      "cell_type": "markdown",
      "source": [
        "We can also do this with the for loop but if pytorch already has a built in function for something complex then its better to use the built in function only because its fast\n",
        "\n",
        "\n",
        "in the above example\n",
        "*  Time with matmul function : 297 micro seconds\n",
        "*  Time with loop : 1.88 milli seconds\n",
        "\n",
        "(note that the time will change when we run it again)\n",
        "\n"
      ],
      "metadata": {
        "id": "XIldzDQC9gwe"
      }
    },
    {
      "cell_type": "code",
      "source": [
        "# example - if we try to multiply 2 tensors of order [3,2] , [3,2]\n",
        "# that wont work - we get a shape error\n",
        "torch.matmul(torch.rand(3,2) , torch.rand(3,2))"
      ],
      "metadata": {
        "colab": {
          "base_uri": "https://localhost:8080/",
          "height": 182
        },
        "id": "3bTTjN3k-PWI",
        "outputId": "151c05cc-8c23-4f0b-f706-a0fcb205afb7"
      },
      "execution_count": null,
      "outputs": [
        {
          "output_type": "error",
          "ename": "RuntimeError",
          "evalue": "mat1 and mat2 shapes cannot be multiplied (3x2 and 3x2)",
          "traceback": [
            "\u001b[0;31m---------------------------------------------------------------------------\u001b[0m",
            "\u001b[0;31mRuntimeError\u001b[0m                              Traceback (most recent call last)",
            "\u001b[0;32m/tmp/ipython-input-152-4065578500.py\u001b[0m in \u001b[0;36m<cell line: 0>\u001b[0;34m()\u001b[0m\n\u001b[1;32m      1\u001b[0m \u001b[0;31m# example - if we try to multiply 2 tensors of order [3,2] , [3,2]\u001b[0m\u001b[0;34m\u001b[0m\u001b[0;34m\u001b[0m\u001b[0m\n\u001b[1;32m      2\u001b[0m \u001b[0;31m# that wont work - we get a shape error\u001b[0m\u001b[0;34m\u001b[0m\u001b[0;34m\u001b[0m\u001b[0m\n\u001b[0;32m----> 3\u001b[0;31m \u001b[0mtorch\u001b[0m\u001b[0;34m.\u001b[0m\u001b[0mmatmul\u001b[0m\u001b[0;34m(\u001b[0m\u001b[0mtorch\u001b[0m\u001b[0;34m.\u001b[0m\u001b[0mrand\u001b[0m\u001b[0;34m(\u001b[0m\u001b[0;36m3\u001b[0m\u001b[0;34m,\u001b[0m\u001b[0;36m2\u001b[0m\u001b[0;34m)\u001b[0m \u001b[0;34m,\u001b[0m \u001b[0mtorch\u001b[0m\u001b[0;34m.\u001b[0m\u001b[0mrand\u001b[0m\u001b[0;34m(\u001b[0m\u001b[0;36m3\u001b[0m\u001b[0;34m,\u001b[0m\u001b[0;36m2\u001b[0m\u001b[0;34m)\u001b[0m\u001b[0;34m)\u001b[0m\u001b[0;34m\u001b[0m\u001b[0;34m\u001b[0m\u001b[0m\n\u001b[0m",
            "\u001b[0;31mRuntimeError\u001b[0m: mat1 and mat2 shapes cannot be multiplied (3x2 and 3x2)"
          ]
        }
      ]
    },
    {
      "cell_type": "code",
      "source": [
        "# but if we try to multiply two tensors of order [3,2] , [2,3] that will work\n",
        "torch.matmul(torch.rand(3,2) , torch.rand(2,3))"
      ],
      "metadata": {
        "colab": {
          "base_uri": "https://localhost:8080/"
        },
        "id": "vPncYkH6Awr7",
        "outputId": "45cb7b75-070d-4ecb-83b4-38c884a4dde9"
      },
      "execution_count": null,
      "outputs": [
        {
          "output_type": "execute_result",
          "data": {
            "text/plain": [
              "tensor([[0.8816, 0.9949, 0.5350],\n",
              "        [0.6290, 0.8202, 0.2407],\n",
              "        [0.5619, 0.6689, 0.2965]])"
            ]
          },
          "metadata": {},
          "execution_count": 153
        }
      ]
    },
    {
      "cell_type": "code",
      "source": [
        "# another shape error example\n",
        "tensor_A = torch.tensor([[1,2],\n",
        "                         [3,4],\n",
        "                         [5,6]])\n",
        "\n",
        "tensor_B = torch.tensor([[6,7],\n",
        "                         [4,7],\n",
        "                         [3,9]])\n",
        "\n",
        "torch.matmul(tensor_A, tensor_B)"
      ],
      "metadata": {
        "colab": {
          "base_uri": "https://localhost:8080/",
          "height": 182
        },
        "id": "UmR7UxFZBgSN",
        "outputId": "c595c372-170b-4a97-f176-a6521ebbecff"
      },
      "execution_count": null,
      "outputs": [
        {
          "output_type": "error",
          "ename": "RuntimeError",
          "evalue": "mat1 and mat2 shapes cannot be multiplied (3x2 and 3x2)",
          "traceback": [
            "\u001b[0;31m---------------------------------------------------------------------------\u001b[0m",
            "\u001b[0;31mRuntimeError\u001b[0m                              Traceback (most recent call last)",
            "\u001b[0;32m/tmp/ipython-input-154-1740577421.py\u001b[0m in \u001b[0;36m<cell line: 0>\u001b[0;34m()\u001b[0m\n\u001b[1;32m      8\u001b[0m                          [3,9]])\n\u001b[1;32m      9\u001b[0m \u001b[0;34m\u001b[0m\u001b[0m\n\u001b[0;32m---> 10\u001b[0;31m \u001b[0mtorch\u001b[0m\u001b[0;34m.\u001b[0m\u001b[0mmatmul\u001b[0m\u001b[0;34m(\u001b[0m\u001b[0mtensor_A\u001b[0m\u001b[0;34m,\u001b[0m \u001b[0mtensor_B\u001b[0m\u001b[0;34m)\u001b[0m\u001b[0;34m\u001b[0m\u001b[0;34m\u001b[0m\u001b[0m\n\u001b[0m",
            "\u001b[0;31mRuntimeError\u001b[0m: mat1 and mat2 shapes cannot be multiplied (3x2 and 3x2)"
          ]
        }
      ]
    },
    {
      "cell_type": "code",
      "source": [
        "# the above error was due to shapes , the col of first tensor is not the same as\n",
        "# row of second tensor\n",
        "tensor_A.shape , tensor_B.shape\n"
      ],
      "metadata": {
        "colab": {
          "base_uri": "https://localhost:8080/"
        },
        "id": "BuGoNJP6Nc-4",
        "outputId": "d8180963-f1a6-46b6-ccdd-716442936332"
      },
      "execution_count": null,
      "outputs": [
        {
          "output_type": "execute_result",
          "data": {
            "text/plain": [
              "(torch.Size([3, 2]), torch.Size([3, 2]))"
            ]
          },
          "metadata": {},
          "execution_count": 155
        }
      ]
    },
    {
      "cell_type": "markdown",
      "source": [
        "To solve this we use **transpose**.\n",
        "\n",
        "\n",
        "The **transpose of a matrix** is a new matrix formed by interchanging the rows and columns of the original matrix. If the original matrix is m x n, the transposed matrix will be n x m. The transpose of matrix A is often denoted as AT or A'.\n",
        "\n",
        "In pytorch a transpose is written as -> tensor_name.T"
      ],
      "metadata": {
        "id": "pCoebsJJOHp4"
      }
    },
    {
      "cell_type": "code",
      "source": [
        "tensor_B"
      ],
      "metadata": {
        "colab": {
          "base_uri": "https://localhost:8080/"
        },
        "id": "hH2bJPKyOT6F",
        "outputId": "dbc0001d-c16a-4263-b52c-2a4f22a93bd3"
      },
      "execution_count": null,
      "outputs": [
        {
          "output_type": "execute_result",
          "data": {
            "text/plain": [
              "tensor([[6, 7],\n",
              "        [4, 7],\n",
              "        [3, 9]])"
            ]
          },
          "metadata": {},
          "execution_count": 156
        }
      ]
    },
    {
      "cell_type": "code",
      "source": [
        "tensor_B.T , tensor_B.T.shape\n",
        "# now the shape of tensor b's transpose is 2,3 so that solves the issue"
      ],
      "metadata": {
        "colab": {
          "base_uri": "https://localhost:8080/"
        },
        "id": "KfThbkPPOiKi",
        "outputId": "2751bbb3-2ffc-4e90-f6d1-4c9e1f4c5010"
      },
      "execution_count": null,
      "outputs": [
        {
          "output_type": "execute_result",
          "data": {
            "text/plain": [
              "(tensor([[6, 4, 3],\n",
              "         [7, 7, 9]]),\n",
              " torch.Size([2, 3]))"
            ]
          },
          "metadata": {},
          "execution_count": 157
        }
      ]
    },
    {
      "cell_type": "markdown",
      "source": [
        "here in the above example ,\n",
        "\n",
        "    tensor_A.shape = 3x2\n",
        "    tensor_B.T.shape =  2x3\n",
        "\n",
        "  col of tensor A is same as row of tensor b's transpose , and the resultant matrix will have the shape 3x3"
      ],
      "metadata": {
        "id": "tqSfuwxaPEK-"
      }
    },
    {
      "cell_type": "code",
      "source": [
        "# now if we multiply transpose of tensor b and tensor a that will work\n",
        "torch.matmul(tensor_A , tensor_B.T)"
      ],
      "metadata": {
        "colab": {
          "base_uri": "https://localhost:8080/"
        },
        "id": "8ixN8ziOOmP0",
        "outputId": "24b550ef-6dc3-491c-9697-03b32c525bb9"
      },
      "execution_count": null,
      "outputs": [
        {
          "output_type": "execute_result",
          "data": {
            "text/plain": [
              "tensor([[20, 18, 21],\n",
              "        [46, 40, 45],\n",
              "        [72, 62, 69]])"
            ]
          },
          "metadata": {},
          "execution_count": 158
        }
      ]
    },
    {
      "cell_type": "code",
      "source": [
        "print(f\"\"\"Original shapes :\n",
        "      tensor_A : {tensor_A.shape} ,\n",
        "      tensor_B : {tensor_B.shape}\"\"\")\n",
        "\n",
        "\n",
        "print(f\"\"\"\\n B after transpose:\n",
        "     {tensor_B.T.shape}\"\"\")\n",
        "\n",
        "print(f\"\"\"\\n Multiplying: {torch.matmul(tensor_A , tensor_B.T).shape}\"\"\")\n",
        "\n",
        "print(\"output:\\n\")\n",
        "\n",
        "output = torch.matmul(tensor_A , tensor_B.T)\n",
        "print(output)\n",
        "\n",
        "print(f\"\\n Output shape : {output.shape}\")"
      ],
      "metadata": {
        "colab": {
          "base_uri": "https://localhost:8080/"
        },
        "id": "bvb5vCwPPxQ5",
        "outputId": "61a10c90-d0ea-4422-cf21-a2288692c0f8"
      },
      "execution_count": null,
      "outputs": [
        {
          "output_type": "stream",
          "name": "stdout",
          "text": [
            "Original shapes :\n",
            "      tensor_A : torch.Size([3, 2]) ,\n",
            "      tensor_B : torch.Size([3, 2])\n",
            "\n",
            " B after transpose:\n",
            "     torch.Size([2, 3])\n",
            "\n",
            " Multiplying: torch.Size([3, 3])\n",
            "output:\n",
            "\n",
            "tensor([[20, 18, 21],\n",
            "        [46, 40, 45],\n",
            "        [72, 62, 69]])\n",
            "\n",
            " Output shape : torch.Size([3, 3])\n"
          ]
        }
      ]
    },
    {
      "cell_type": "markdown",
      "source": [
        "# Tensor Aggregation : min , max , mean , sum"
      ],
      "metadata": {
        "id": "_HfQU9j8TAL7"
      }
    },
    {
      "cell_type": "code",
      "source": [
        "x = torch.arange(1 , 100 , 10)\n",
        "x , x.dtype"
      ],
      "metadata": {
        "colab": {
          "base_uri": "https://localhost:8080/"
        },
        "id": "zH18njyMTCQT",
        "outputId": "65ee23cf-149d-41da-c267-c7f4f3a7ca69"
      },
      "execution_count": null,
      "outputs": [
        {
          "output_type": "execute_result",
          "data": {
            "text/plain": [
              "(tensor([ 1, 11, 21, 31, 41, 51, 61, 71, 81, 91]), torch.int64)"
            ]
          },
          "metadata": {},
          "execution_count": 160
        }
      ]
    },
    {
      "cell_type": "code",
      "source": [
        "torch.min(x) , x.min()"
      ],
      "metadata": {
        "colab": {
          "base_uri": "https://localhost:8080/"
        },
        "id": "k6qtdPq-TNbi",
        "outputId": "c684ad6b-990c-4e76-8e40-695a9ef8d645"
      },
      "execution_count": null,
      "outputs": [
        {
          "output_type": "execute_result",
          "data": {
            "text/plain": [
              "(tensor(1), tensor(1))"
            ]
          },
          "metadata": {},
          "execution_count": 161
        }
      ]
    },
    {
      "cell_type": "code",
      "source": [
        "torch.max(x) , x.max()"
      ],
      "metadata": {
        "colab": {
          "base_uri": "https://localhost:8080/"
        },
        "id": "4OZo0eB5TRnS",
        "outputId": "f526f6ec-682e-4200-c420-8ebe1d509754"
      },
      "execution_count": null,
      "outputs": [
        {
          "output_type": "execute_result",
          "data": {
            "text/plain": [
              "(tensor(91), tensor(91))"
            ]
          },
          "metadata": {},
          "execution_count": 162
        }
      ]
    },
    {
      "cell_type": "markdown",
      "source": [
        "A most common type of pytorch error : datatype error:\n",
        "\n",
        "for torch.mean function input datatype must be a floating pt or complex\n",
        "\n",
        "pytorch document does not cover this detail about torch.mean method"
      ],
      "metadata": {
        "id": "PfNFC73WTlnW"
      }
    },
    {
      "cell_type": "code",
      "source": [
        "# example of a datatype error\n",
        "torch.mean(x)"
      ],
      "metadata": {
        "colab": {
          "base_uri": "https://localhost:8080/",
          "height": 182
        },
        "id": "ygsdRL1PTUlV",
        "outputId": "cae74c14-6cea-40da-d96d-0cdabaecbac7"
      },
      "execution_count": null,
      "outputs": [
        {
          "output_type": "error",
          "ename": "RuntimeError",
          "evalue": "mean(): could not infer output dtype. Input dtype must be either a floating point or complex dtype. Got: Long",
          "traceback": [
            "\u001b[0;31m---------------------------------------------------------------------------\u001b[0m",
            "\u001b[0;31mRuntimeError\u001b[0m                              Traceback (most recent call last)",
            "\u001b[0;32m/tmp/ipython-input-163-52279272.py\u001b[0m in \u001b[0;36m<cell line: 0>\u001b[0;34m()\u001b[0m\n\u001b[1;32m      1\u001b[0m \u001b[0;31m# example of a datatype error\u001b[0m\u001b[0;34m\u001b[0m\u001b[0;34m\u001b[0m\u001b[0m\n\u001b[0;32m----> 2\u001b[0;31m \u001b[0mtorch\u001b[0m\u001b[0;34m.\u001b[0m\u001b[0mmean\u001b[0m\u001b[0;34m(\u001b[0m\u001b[0mx\u001b[0m\u001b[0;34m)\u001b[0m\u001b[0;34m\u001b[0m\u001b[0;34m\u001b[0m\u001b[0m\n\u001b[0m",
            "\u001b[0;31mRuntimeError\u001b[0m: mean(): could not infer output dtype. Input dtype must be either a floating point or complex dtype. Got: Long"
          ]
        }
      ]
    },
    {
      "cell_type": "code",
      "source": [
        "# we can convert x into float32 or any other accepted dtype\n",
        "torch.mean(x.type(torch.float32))"
      ],
      "metadata": {
        "colab": {
          "base_uri": "https://localhost:8080/"
        },
        "id": "V1P8Vf6_Ucmr",
        "outputId": "86048897-645d-4146-b524-68b6592b1b6a"
      },
      "execution_count": null,
      "outputs": [
        {
          "output_type": "execute_result",
          "data": {
            "text/plain": [
              "tensor(46.)"
            ]
          },
          "metadata": {},
          "execution_count": 164
        }
      ]
    },
    {
      "cell_type": "code",
      "source": [
        "torch.sum(x) , x.sum()"
      ],
      "metadata": {
        "colab": {
          "base_uri": "https://localhost:8080/"
        },
        "id": "iYIhGmZ2UuuQ",
        "outputId": "c9251f77-6491-4424-a5c8-c69f5c55a9e2"
      },
      "execution_count": null,
      "outputs": [
        {
          "output_type": "execute_result",
          "data": {
            "text/plain": [
              "(tensor(460), tensor(460))"
            ]
          },
          "metadata": {},
          "execution_count": 165
        }
      ]
    },
    {
      "cell_type": "markdown",
      "source": [
        "# finding the positional min and max : argmin , argmax"
      ],
      "metadata": {
        "id": "xXr2N2ExVV8N"
      }
    },
    {
      "cell_type": "code",
      "source": [
        "x"
      ],
      "metadata": {
        "colab": {
          "base_uri": "https://localhost:8080/"
        },
        "id": "k6fpb3-lVaOI",
        "outputId": "8e697cfe-8b7d-452d-d423-6c3a688b477d"
      },
      "execution_count": null,
      "outputs": [
        {
          "output_type": "execute_result",
          "data": {
            "text/plain": [
              "tensor([ 1, 11, 21, 31, 41, 51, 61, 71, 81, 91])"
            ]
          },
          "metadata": {},
          "execution_count": 166
        }
      ]
    },
    {
      "cell_type": "markdown",
      "source": [
        "**Argmin()**:\n",
        "\n",
        "Find the position in tensor that has the minimum value with argmin() -> **returns index position** of target tensor where the minimum value occurs\n",
        "\n",
        "If there are multiple minimal values then the indices of the first minimal value are returned."
      ],
      "metadata": {
        "id": "-uuK7XfuV29p"
      }
    },
    {
      "cell_type": "code",
      "source": [
        "# RETURNS INDEX\n",
        "torch.argmin(x) , x.argmin()"
      ],
      "metadata": {
        "colab": {
          "base_uri": "https://localhost:8080/"
        },
        "id": "yT-5bu_OVeiQ",
        "outputId": "b8bc5867-1de4-49d3-d0aa-a586fdb51966"
      },
      "execution_count": null,
      "outputs": [
        {
          "output_type": "execute_result",
          "data": {
            "text/plain": [
              "(tensor(0), tensor(0))"
            ]
          },
          "metadata": {},
          "execution_count": 167
        }
      ]
    },
    {
      "cell_type": "markdown",
      "source": [
        "**Argmax()**:\n",
        "Find the position in tensor that has the max value with argmax() -> it also returns **index**"
      ],
      "metadata": {
        "id": "AqnRFi6KWxxv"
      }
    },
    {
      "cell_type": "code",
      "source": [
        "torch.argmax(x) , x.argmax()"
      ],
      "metadata": {
        "colab": {
          "base_uri": "https://localhost:8080/"
        },
        "id": "B0eX8fKlWNCx",
        "outputId": "e1803c95-7f8a-49a9-803a-b12bbd6f4e20"
      },
      "execution_count": null,
      "outputs": [
        {
          "output_type": "execute_result",
          "data": {
            "text/plain": [
              "(tensor(9), tensor(9))"
            ]
          },
          "metadata": {},
          "execution_count": 168
        }
      ]
    },
    {
      "cell_type": "markdown",
      "source": [
        "# Reshaping , viewing , stacking , squeezing and unsqueezing"
      ],
      "metadata": {
        "id": "YWQFCM8NX71T"
      }
    },
    {
      "cell_type": "markdown",
      "source": [
        "\n",
        "\n",
        "*   **Reshaping** : Reshapes an input tensor to a defined shape . Returns a tensor with the same data and number of elements as input, but with the specified shape.\n",
        "\n",
        "*   **View** : Return a view of an input tensor of a certain shape but keep the same memory as the original tensor\n",
        "*   **Stacking** : Combines multiple tensors on top of each other (vstack-> vertical stack ) or side by side (hstack -> horizontal stack)\n",
        "*   **Squeeze** : Removes all `1` dimensions from a tensor\n",
        "*   **Unsqueeze** : Adds a `1` dimension to a target tensor\n",
        "*   **Permute** : Return a view of the input with dimensions permuted (swapped) in a certain way\n",
        "\n",
        "\n",
        "\n",
        "\n",
        "\n"
      ],
      "metadata": {
        "id": "EVLov4n3YH-r"
      }
    },
    {
      "cell_type": "code",
      "source": [
        "y = torch.arange(1. , 11.)\n",
        "y , y.shape"
      ],
      "metadata": {
        "colab": {
          "base_uri": "https://localhost:8080/"
        },
        "id": "5u0Krgg1YBCs",
        "outputId": "367b4904-e453-42f9-965b-8a577b7b37d1"
      },
      "execution_count": null,
      "outputs": [
        {
          "output_type": "execute_result",
          "data": {
            "text/plain": [
              "(tensor([ 1.,  2.,  3.,  4.,  5.,  6.,  7.,  8.,  9., 10.]), torch.Size([10]))"
            ]
          },
          "metadata": {},
          "execution_count": 174
        }
      ]
    },
    {
      "cell_type": "markdown",
      "source": [
        "Take a look at the number of square brackets"
      ],
      "metadata": {
        "id": "Nzok197m3o7t"
      }
    },
    {
      "cell_type": "code",
      "source": [
        "# add an extra dimension\n",
        "y_reshaped = y.reshape(1,10)\n",
        "y_reshaped"
      ],
      "metadata": {
        "colab": {
          "base_uri": "https://localhost:8080/"
        },
        "id": "-w1Y628YZq00",
        "outputId": "9eb2924d-0314-4f1b-be7f-7d39b9cd708c"
      },
      "execution_count": null,
      "outputs": [
        {
          "output_type": "execute_result",
          "data": {
            "text/plain": [
              "tensor([[ 1.,  2.,  3.,  4.,  5.,  6.,  7.,  8.,  9., 10.]])"
            ]
          },
          "metadata": {},
          "execution_count": 176
        }
      ]
    },
    {
      "cell_type": "code",
      "source": [
        "y_reshaped2 =  y.reshape(10,1)\n",
        "y_reshaped2"
      ],
      "metadata": {
        "id": "g8_9wfHMZqxc",
        "colab": {
          "base_uri": "https://localhost:8080/"
        },
        "outputId": "536f1874-cd80-4f6f-c422-8694d7797646"
      },
      "execution_count": null,
      "outputs": [
        {
          "output_type": "execute_result",
          "data": {
            "text/plain": [
              "tensor([[ 1.],\n",
              "        [ 2.],\n",
              "        [ 3.],\n",
              "        [ 4.],\n",
              "        [ 5.],\n",
              "        [ 6.],\n",
              "        [ 7.],\n",
              "        [ 8.],\n",
              "        [ 9.],\n",
              "        [10.]])"
            ]
          },
          "metadata": {},
          "execution_count": 177
        }
      ]
    },
    {
      "cell_type": "code",
      "source": [
        "# we can also do 5,2 as 5x2 = 10\n",
        "y_reshaped3 = y.reshape(5,2)\n",
        "y_reshaped3\n"
      ],
      "metadata": {
        "colab": {
          "base_uri": "https://localhost:8080/"
        },
        "id": "WG6G4mh53x_k",
        "outputId": "e756310f-8be2-4a26-dd85-bcc3639aa733"
      },
      "execution_count": null,
      "outputs": [
        {
          "output_type": "execute_result",
          "data": {
            "text/plain": [
              "tensor([[ 1.,  2.],\n",
              "        [ 3.,  4.],\n",
              "        [ 5.,  6.],\n",
              "        [ 7.,  8.],\n",
              "        [ 9., 10.]])"
            ]
          },
          "metadata": {},
          "execution_count": 181
        }
      ]
    },
    {
      "cell_type": "code",
      "source": [
        "# similarly ,\n",
        "z = torch.arange(1,13)\n",
        "z"
      ],
      "metadata": {
        "colab": {
          "base_uri": "https://localhost:8080/"
        },
        "id": "48rDGDrY4MjF",
        "outputId": "c49738fd-bd20-4b4d-ec98-ac0069812d83"
      },
      "execution_count": null,
      "outputs": [
        {
          "output_type": "execute_result",
          "data": {
            "text/plain": [
              "tensor([ 1,  2,  3,  4,  5,  6,  7,  8,  9, 10, 11, 12])"
            ]
          },
          "metadata": {},
          "execution_count": 179
        }
      ]
    },
    {
      "cell_type": "code",
      "source": [
        "# we can reshape it like 4,3 as 4x3 = 12\n",
        "z_reshaped = z.reshape(4,3)\n",
        "z_reshaped"
      ],
      "metadata": {
        "colab": {
          "base_uri": "https://localhost:8080/"
        },
        "id": "zqf6lgjM4Mf6",
        "outputId": "9e53ecb1-10df-4ac7-9490-145d32c0fecc"
      },
      "execution_count": null,
      "outputs": [
        {
          "output_type": "execute_result",
          "data": {
            "text/plain": [
              "tensor([[ 1,  2,  3],\n",
              "        [ 4,  5,  6],\n",
              "        [ 7,  8,  9],\n",
              "        [10, 11, 12]])"
            ]
          },
          "metadata": {},
          "execution_count": 180
        }
      ]
    },
    {
      "cell_type": "code",
      "source": [
        "z_reshaped2 = z.reshape(3,4)\n",
        "z_reshaped2"
      ],
      "metadata": {
        "colab": {
          "base_uri": "https://localhost:8080/"
        },
        "id": "1m_CQwWh4eL4",
        "outputId": "55d38898-5f5f-4971-d76d-42d8900f3ce5"
      },
      "execution_count": null,
      "outputs": [
        {
          "output_type": "execute_result",
          "data": {
            "text/plain": [
              "tensor([[ 1,  2,  3,  4],\n",
              "        [ 5,  6,  7,  8],\n",
              "        [ 9, 10, 11, 12]])"
            ]
          },
          "metadata": {},
          "execution_count": 182
        }
      ]
    },
    {
      "cell_type": "markdown",
      "source": [
        "View: Returns a new tensor with the same data as the self tensor but of a different shape.\n"
      ],
      "metadata": {
        "id": "ubZ2VuN547nz"
      }
    },
    {
      "cell_type": "code",
      "source": [
        "a = z.view(1,12)\n",
        "a"
      ],
      "metadata": {
        "colab": {
          "base_uri": "https://localhost:8080/"
        },
        "id": "DcYup5hp5An8",
        "outputId": "4a8abe63-23c2-4b72-9abe-a20786864d00"
      },
      "execution_count": null,
      "outputs": [
        {
          "output_type": "execute_result",
          "data": {
            "text/plain": [
              "tensor([[ 1,  2,  3,  4,  5,  6,  7,  8,  9, 10, 11, 12]])"
            ]
          },
          "metadata": {},
          "execution_count": 185
        }
      ]
    },
    {
      "cell_type": "markdown",
      "source": [
        "View is similar to reshape , but view shares memory with the original tensor\n",
        "so here `a` is just a different view of `z` , `a` shares the same memory as `z`"
      ],
      "metadata": {
        "id": "fn9MVx-g5Usk"
      }
    },
    {
      "cell_type": "markdown",
      "source": [
        "For example , if i change something in `z` thats going to be changed in `a` too and vice versa."
      ],
      "metadata": {
        "id": "SuVvDTPY51Gb"
      }
    },
    {
      "cell_type": "code",
      "source": [
        "z , a"
      ],
      "metadata": {
        "colab": {
          "base_uri": "https://localhost:8080/"
        },
        "id": "UT2VJiis5vtQ",
        "outputId": "7bf86852-b120-4253-f697-f3f097d8554b"
      },
      "execution_count": null,
      "outputs": [
        {
          "output_type": "execute_result",
          "data": {
            "text/plain": [
              "(tensor([ 1,  2,  3,  4,  5,  6,  7,  8,  9, 10, 11, 12]),\n",
              " tensor([[ 1,  2,  3,  4,  5,  6,  7,  8,  9, 10, 11, 12]]))"
            ]
          },
          "metadata": {},
          "execution_count": 186
        }
      ]
    },
    {
      "cell_type": "code",
      "source": [
        "# changing 0th index of z changes 0th index of a too\n",
        "z[0] = 5\n",
        "z , a"
      ],
      "metadata": {
        "colab": {
          "base_uri": "https://localhost:8080/"
        },
        "id": "w8ZmKzLl6FfZ",
        "outputId": "11acc31c-92b3-4364-bd70-dfdc148f5224"
      },
      "execution_count": null,
      "outputs": [
        {
          "output_type": "execute_result",
          "data": {
            "text/plain": [
              "(tensor([ 5,  2,  3,  4,  5,  6,  7,  8,  9, 10, 11, 12]),\n",
              " tensor([[ 5,  2,  3,  4,  5,  6,  7,  8,  9, 10, 11, 12]]))"
            ]
          },
          "metadata": {},
          "execution_count": 191
        }
      ]
    },
    {
      "cell_type": "code",
      "source": [
        "a[: ,1] = 6\n",
        "z , a"
      ],
      "metadata": {
        "colab": {
          "base_uri": "https://localhost:8080/"
        },
        "id": "Z9CNc3X06h8s",
        "outputId": "beeb8949-a4d4-4de1-d7cd-087e167d9cf4"
      },
      "execution_count": null,
      "outputs": [
        {
          "output_type": "execute_result",
          "data": {
            "text/plain": [
              "(tensor([ 5,  6,  3,  4,  5,  6,  7,  8,  9, 10, 11, 12]),\n",
              " tensor([[ 5,  6,  3,  4,  5,  6,  7,  8,  9, 10, 11, 12]]))"
            ]
          },
          "metadata": {},
          "execution_count": 193
        }
      ]
    },
    {
      "cell_type": "markdown",
      "source": [
        "Stack tensors:"
      ],
      "metadata": {
        "id": "emC2jfYe665Z"
      }
    },
    {
      "cell_type": "code",
      "source": [
        "z , z.ndim"
      ],
      "metadata": {
        "colab": {
          "base_uri": "https://localhost:8080/"
        },
        "id": "3IDv9sEo6-Bg",
        "outputId": "09a96514-6677-4f85-a326-b6dad6a98caa"
      },
      "execution_count": null,
      "outputs": [
        {
          "output_type": "execute_result",
          "data": {
            "text/plain": [
              "(tensor([ 5,  6,  3,  4,  5,  6,  7,  8,  9, 10, 11, 12]), 1)"
            ]
          },
          "metadata": {},
          "execution_count": 204
        }
      ]
    },
    {
      "cell_type": "markdown",
      "source": [
        "z has 1 dimension so we can go upto dim = 1 here"
      ],
      "metadata": {
        "id": "d1nIdeSI7TcE"
      }
    },
    {
      "cell_type": "code",
      "source": [
        "z_stacked_dim0 = torch.stack([z,z,z,z] , dim = 0)\n",
        "z_stacked_dim0"
      ],
      "metadata": {
        "colab": {
          "base_uri": "https://localhost:8080/"
        },
        "id": "wWPlyhIU7YWV",
        "outputId": "2a0ea591-22f6-4332-eee8-f78d48a88791"
      },
      "execution_count": null,
      "outputs": [
        {
          "output_type": "execute_result",
          "data": {
            "text/plain": [
              "tensor([[ 5,  6,  3,  4,  5,  6,  7,  8,  9, 10, 11, 12],\n",
              "        [ 5,  6,  3,  4,  5,  6,  7,  8,  9, 10, 11, 12],\n",
              "        [ 5,  6,  3,  4,  5,  6,  7,  8,  9, 10, 11, 12],\n",
              "        [ 5,  6,  3,  4,  5,  6,  7,  8,  9, 10, 11, 12]])"
            ]
          },
          "metadata": {},
          "execution_count": 201
        }
      ]
    },
    {
      "cell_type": "code",
      "source": [
        "z_stacked_dim1 = torch.stack([z,z,z,z] , dim = 1)\n",
        "z_stacked_dim1"
      ],
      "metadata": {
        "colab": {
          "base_uri": "https://localhost:8080/"
        },
        "id": "mpfGy-9J7Dfo",
        "outputId": "a3c838d0-5c5b-44e9-ee7c-0aea6d1bb389"
      },
      "execution_count": null,
      "outputs": [
        {
          "output_type": "execute_result",
          "data": {
            "text/plain": [
              "tensor([[ 5,  5,  5,  5],\n",
              "        [ 6,  6,  6,  6],\n",
              "        [ 3,  3,  3,  3],\n",
              "        [ 4,  4,  4,  4],\n",
              "        [ 5,  5,  5,  5],\n",
              "        [ 6,  6,  6,  6],\n",
              "        [ 7,  7,  7,  7],\n",
              "        [ 8,  8,  8,  8],\n",
              "        [ 9,  9,  9,  9],\n",
              "        [10, 10, 10, 10],\n",
              "        [11, 11, 11, 11],\n",
              "        [12, 12, 12, 12]])"
            ]
          },
          "metadata": {},
          "execution_count": 202
        }
      ]
    },
    {
      "cell_type": "code",
      "source": [
        "# dimension above 1 wont work as z had dimension 1\n",
        "z_stacked_dim2 = torch.stack([z,z,z,z] , dim = 2)\n",
        "z_stacked_dim2"
      ],
      "metadata": {
        "colab": {
          "base_uri": "https://localhost:8080/",
          "height": 164
        },
        "id": "El6Mbo_e7uPc",
        "outputId": "796bdace-2b21-4893-ed3c-6cc3ec9cba2f"
      },
      "execution_count": null,
      "outputs": [
        {
          "output_type": "error",
          "ename": "IndexError",
          "evalue": "Dimension out of range (expected to be in range of [-2, 1], but got 2)",
          "traceback": [
            "\u001b[0;31m---------------------------------------------------------------------------\u001b[0m",
            "\u001b[0;31mIndexError\u001b[0m                                Traceback (most recent call last)",
            "\u001b[0;32m/tmp/ipython-input-203-4084271139.py\u001b[0m in \u001b[0;36m<cell line: 0>\u001b[0;34m()\u001b[0m\n\u001b[0;32m----> 1\u001b[0;31m \u001b[0mz_stacked_dim2\u001b[0m \u001b[0;34m=\u001b[0m \u001b[0mtorch\u001b[0m\u001b[0;34m.\u001b[0m\u001b[0mstack\u001b[0m\u001b[0;34m(\u001b[0m\u001b[0;34m[\u001b[0m\u001b[0mz\u001b[0m\u001b[0;34m,\u001b[0m\u001b[0mz\u001b[0m\u001b[0;34m,\u001b[0m\u001b[0mz\u001b[0m\u001b[0;34m,\u001b[0m\u001b[0mz\u001b[0m\u001b[0;34m]\u001b[0m \u001b[0;34m,\u001b[0m \u001b[0mdim\u001b[0m \u001b[0;34m=\u001b[0m \u001b[0;36m2\u001b[0m\u001b[0;34m)\u001b[0m\u001b[0;34m\u001b[0m\u001b[0;34m\u001b[0m\u001b[0m\n\u001b[0m\u001b[1;32m      2\u001b[0m \u001b[0mz_stacked_dim2\u001b[0m\u001b[0;34m\u001b[0m\u001b[0;34m\u001b[0m\u001b[0m\n",
            "\u001b[0;31mIndexError\u001b[0m: Dimension out of range (expected to be in range of [-2, 1], but got 2)"
          ]
        }
      ]
    },
    {
      "cell_type": "markdown",
      "source": [
        "\n",
        "\n",
        "*   Torch.vstack() : Stack tensors in sequence vertically (row wise).\n",
        "\n",
        "    This is equivalent to concatenation along the first axis after all 1-D tensors have been reshaped by torch.atleast_2d()\n",
        "\n",
        "*   Stack tensors in sequence horizontally (column wise).\n",
        "\n",
        "    This is equivalent to concatenation along the first axis for 1-D tensors, and along the second axis for all other tensor\n",
        "\n"
      ],
      "metadata": {
        "id": "39nDMcyG8HR3"
      }
    },
    {
      "cell_type": "code",
      "source": [
        "a_vstack = torch.tensor([1,2,4])\n",
        "b_vstack = torch.tensor([3,5,6])\n",
        "torch.vstack((a_vstack , b_vstack))"
      ],
      "metadata": {
        "colab": {
          "base_uri": "https://localhost:8080/"
        },
        "id": "2rm0gKrx8Vfc",
        "outputId": "e4ed4391-9d9b-4357-f17a-2aa34ff4a0dd"
      },
      "execution_count": null,
      "outputs": [
        {
          "output_type": "execute_result",
          "data": {
            "text/plain": [
              "tensor([[1, 2, 4],\n",
              "        [3, 5, 6]])"
            ]
          },
          "metadata": {},
          "execution_count": 205
        }
      ]
    },
    {
      "cell_type": "code",
      "source": [
        "a_hstack = torch.tensor([1,2,4])\n",
        "b_hstack = torch.tensor([3,5,6])\n",
        "torch.hstack((a_hstack , b_hstack))"
      ],
      "metadata": {
        "colab": {
          "base_uri": "https://localhost:8080/"
        },
        "id": "an3MK9u38a3b",
        "outputId": "966325a4-4ca5-4903-e2e2-d31ffe542b82"
      },
      "execution_count": null,
      "outputs": [
        {
          "output_type": "execute_result",
          "data": {
            "text/plain": [
              "tensor([1, 2, 4, 3, 5, 6])"
            ]
          },
          "metadata": {},
          "execution_count": 206
        }
      ]
    },
    {
      "cell_type": "markdown",
      "source": [
        "\n",
        "\n",
        "*   **Torch.squeeze()**: Returns a tensor with all specified dimensions of `input` of size 1 removed.\n",
        "\n",
        "    For example, if input is of shape:\n",
        "(\n",
        "A\n",
        "×\n",
        "1\n",
        "×\n",
        "B\n",
        "×\n",
        "C\n",
        "×\n",
        "1\n",
        "×\n",
        "D\n",
        ")\n",
        "(A×1×B×C×1×D) then the input.squeeze() will be of shape:\n",
        "(\n",
        "A\n",
        "×\n",
        "B\n",
        "×\n",
        "C\n",
        "×\n",
        "D\n",
        ")\n",
        "(A×B×C×D).\n",
        "\n",
        "    Note: The returned tensor shares the storage with the input tensor, so changing the contents of one will change the contents of the other.\n",
        "\n",
        "    Warning: If the tensor has a batch dimension of size 1, then squeeze(input) will also remove the batch dimension, which can lead to unexpected errors. Consider specifying only the dims you wish to be squeezed.\n",
        "\n",
        "\n",
        "\n",
        "\n"
      ],
      "metadata": {
        "id": "zUlckJ3s88I3"
      }
    },
    {
      "cell_type": "code",
      "source": [
        "y_reshaped"
      ],
      "metadata": {
        "colab": {
          "base_uri": "https://localhost:8080/"
        },
        "id": "R2ZCjpNO9bOU",
        "outputId": "d69c2fff-46e5-4b51-d906-1d377af56f79"
      },
      "execution_count": null,
      "outputs": [
        {
          "output_type": "execute_result",
          "data": {
            "text/plain": [
              "tensor([[ 1.,  2.,  3.,  4.,  5.,  6.,  7.,  8.,  9., 10.]])"
            ]
          },
          "metadata": {},
          "execution_count": 208
        }
      ]
    },
    {
      "cell_type": "code",
      "source": [
        "y_reshaped.shape"
      ],
      "metadata": {
        "colab": {
          "base_uri": "https://localhost:8080/"
        },
        "id": "UwbQZSqj90Zu",
        "outputId": "58a2918e-0193-4290-a07f-f8c7e6a016c5"
      },
      "execution_count": null,
      "outputs": [
        {
          "output_type": "execute_result",
          "data": {
            "text/plain": [
              "torch.Size([1, 10])"
            ]
          },
          "metadata": {},
          "execution_count": 209
        }
      ]
    },
    {
      "cell_type": "code",
      "source": [
        "# Note the number of square brackets as we go from 2 dimension to 1 dimension\n",
        "y_reshaped.squeeze()"
      ],
      "metadata": {
        "colab": {
          "base_uri": "https://localhost:8080/"
        },
        "id": "66HxPy1l94g-",
        "outputId": "087c493b-72c6-4eda-8758-df69c8f44d4f"
      },
      "execution_count": null,
      "outputs": [
        {
          "output_type": "execute_result",
          "data": {
            "text/plain": [
              "tensor([ 1.,  2.,  3.,  4.,  5.,  6.,  7.,  8.,  9., 10.])"
            ]
          },
          "metadata": {},
          "execution_count": 211
        }
      ]
    },
    {
      "cell_type": "code",
      "source": [
        "# Check out the difference in shape of input tensor and this squeezed tensor\n",
        "y_reshaped.squeeze().shape"
      ],
      "metadata": {
        "colab": {
          "base_uri": "https://localhost:8080/"
        },
        "id": "EDS6cnBj-EM2",
        "outputId": "3ab597bb-03a0-44b6-92ab-1545a1a83632"
      },
      "execution_count": null,
      "outputs": [
        {
          "output_type": "execute_result",
          "data": {
            "text/plain": [
              "torch.Size([10])"
            ]
          },
          "metadata": {},
          "execution_count": 213
        }
      ]
    },
    {
      "cell_type": "code",
      "source": [
        "print(f\"`y_reshaped` : {y_reshaped}\")\n",
        "print(f\"`y_reshaped` has shape : {y_reshaped.shape}\")\n",
        "print(f\"`\\n y_squeezed` : {y_reshaped.squeeze()}\")\n",
        "print(f\"`y_squeezed` has shape : {y_reshaped.squeeze().shape}\")"
      ],
      "metadata": {
        "colab": {
          "base_uri": "https://localhost:8080/"
        },
        "id": "C3O1Hpbk-RAP",
        "outputId": "49d72798-0e6e-4d96-e462-0fa839002d61"
      },
      "execution_count": null,
      "outputs": [
        {
          "output_type": "stream",
          "name": "stdout",
          "text": [
            "`y_reshaped` : tensor([[ 1.,  2.,  3.,  4.,  5.,  6.,  7.,  8.,  9., 10.]])\n",
            "`y_reshaped` has shape : torch.Size([1, 10])\n",
            "`\n",
            " y_squeezed` : tensor([ 1.,  2.,  3.,  4.,  5.,  6.,  7.,  8.,  9., 10.])\n",
            "`y_squeezed` has shape : torch.Size([10])\n"
          ]
        }
      ]
    },
    {
      "cell_type": "markdown",
      "source": [
        "**torch.unsqueeze()** : Returns a new tensor with a dimension of size one inserted at the specified position.\n",
        "\n",
        "The returned tensor shares the same underlying data with this tensor."
      ],
      "metadata": {
        "id": "5n4ohmJf-643"
      }
    },
    {
      "cell_type": "code",
      "source": [
        "y_reshaped"
      ],
      "metadata": {
        "colab": {
          "base_uri": "https://localhost:8080/"
        },
        "id": "GImpna8g_HXt",
        "outputId": "ed4659fd-47d4-48df-e759-9b9fa87b2dec"
      },
      "execution_count": null,
      "outputs": [
        {
          "output_type": "execute_result",
          "data": {
            "text/plain": [
              "tensor([[ 1.,  2.,  3.,  4.,  5.,  6.,  7.,  8.,  9., 10.]])"
            ]
          },
          "metadata": {},
          "execution_count": 216
        }
      ]
    },
    {
      "cell_type": "code",
      "source": [
        "y_reshaped.shape"
      ],
      "metadata": {
        "colab": {
          "base_uri": "https://localhost:8080/"
        },
        "id": "0hFh8RC3_QzT",
        "outputId": "1c5e0470-6742-4328-a74f-c3c538546736"
      },
      "execution_count": null,
      "outputs": [
        {
          "output_type": "execute_result",
          "data": {
            "text/plain": [
              "torch.Size([1, 10])"
            ]
          },
          "metadata": {},
          "execution_count": 217
        }
      ]
    },
    {
      "cell_type": "code",
      "source": [
        "# adds an extra dimension\n",
        "y_reshaped.unsqueeze(dim = 0)"
      ],
      "metadata": {
        "colab": {
          "base_uri": "https://localhost:8080/"
        },
        "id": "YK_vFI9B_Qvs",
        "outputId": "6aedebf9-144e-4897-a26b-12a7f87c8cbe"
      },
      "execution_count": null,
      "outputs": [
        {
          "output_type": "execute_result",
          "data": {
            "text/plain": [
              "tensor([[[ 1.,  2.,  3.,  4.,  5.,  6.,  7.,  8.,  9., 10.]]])"
            ]
          },
          "metadata": {},
          "execution_count": 221
        }
      ]
    },
    {
      "cell_type": "code",
      "source": [
        "y_reshaped.unsqueeze(dim = 0).shape"
      ],
      "metadata": {
        "colab": {
          "base_uri": "https://localhost:8080/"
        },
        "id": "ya3lSfDI_i1u",
        "outputId": "179c9b16-7d39-4f99-ac53-7cd5174dda9e"
      },
      "execution_count": null,
      "outputs": [
        {
          "output_type": "execute_result",
          "data": {
            "text/plain": [
              "torch.Size([1, 1, 10])"
            ]
          },
          "metadata": {},
          "execution_count": 222
        }
      ]
    },
    {
      "cell_type": "code",
      "source": [
        "y_reshaped.unsqueeze(dim = 1) , y_reshaped.unsqueeze(dim = 1).shape"
      ],
      "metadata": {
        "colab": {
          "base_uri": "https://localhost:8080/"
        },
        "id": "bkBzFGSQ_zL1",
        "outputId": "d38bab2b-8b4b-46b4-e921-a4c06d5d0488"
      },
      "execution_count": null,
      "outputs": [
        {
          "output_type": "execute_result",
          "data": {
            "text/plain": [
              "(tensor([[[ 1.,  2.,  3.,  4.,  5.,  6.,  7.,  8.,  9., 10.]]]),\n",
              " torch.Size([1, 1, 10]))"
            ]
          },
          "metadata": {},
          "execution_count": 224
        }
      ]
    },
    {
      "cell_type": "markdown",
      "source": [
        "**torch.permute**: Returns a view of the original tensor input with its dimensions permuted.\n",
        "\n",
        "Rearranges the dim of target tensor in a specified order\n",
        "\n",
        "Normally used with images"
      ],
      "metadata": {
        "id": "GDo8nhTq__lR"
      }
    },
    {
      "cell_type": "code",
      "source": [
        "b = torch.randn(6,7,8)\n",
        "b.size()"
      ],
      "metadata": {
        "colab": {
          "base_uri": "https://localhost:8080/"
        },
        "id": "pS-wfCioAOfL",
        "outputId": "822a558e-0612-4a5b-ac88-a2ff5e512ad3"
      },
      "execution_count": null,
      "outputs": [
        {
          "output_type": "execute_result",
          "data": {
            "text/plain": [
              "torch.Size([6, 7, 8])"
            ]
          },
          "metadata": {},
          "execution_count": 226
        }
      ]
    },
    {
      "cell_type": "code",
      "source": [
        "# the order of dimensions will be swapped as described\n",
        "torch.permute(b , (2,0,1)).size()"
      ],
      "metadata": {
        "colab": {
          "base_uri": "https://localhost:8080/"
        },
        "id": "QMlbuKMDAfYn",
        "outputId": "802c00fc-18d6-4ba3-b6d1-fc4c9ba6afcf"
      },
      "execution_count": null,
      "outputs": [
        {
          "output_type": "execute_result",
          "data": {
            "text/plain": [
              "torch.Size([8, 6, 7])"
            ]
          },
          "metadata": {},
          "execution_count": 229
        }
      ]
    },
    {
      "cell_type": "markdown",
      "source": [
        "2nd dimension is first , 0th dimension is in middle and 1st dimension is at last\n",
        "example :\n",
        "    dimensions ->\n",
        "    [6,7,8] ->[0,1,2]\n",
        "\n",
        "swapped :\n",
        "    dimensions ->\n",
        "    [8,6,7] ->[2,0,1]"
      ],
      "metadata": {
        "id": "QaHAW3esBXV5"
      }
    },
    {
      "cell_type": "code",
      "source": [
        "#  Normally used with images\n",
        "# Images are represented as [height , width , color channels] or\n",
        "#  [color channels , height , width]\n",
        "x_original = torch.rand(size=(224 , 224, 3)) #[height , width , color channels]\n",
        "\n",
        "x_permuted = x_original.permute(2,0,1)\n",
        "x_permuted.shape #[color channels , height , width]"
      ],
      "metadata": {
        "colab": {
          "base_uri": "https://localhost:8080/"
        },
        "id": "TmMElBHuBJua",
        "outputId": "92178940-d3aa-41c6-a522-2f0f95cd0a87"
      },
      "execution_count": null,
      "outputs": [
        {
          "output_type": "execute_result",
          "data": {
            "text/plain": [
              "torch.Size([3, 224, 224])"
            ]
          },
          "metadata": {},
          "execution_count": 231
        }
      ]
    },
    {
      "cell_type": "markdown",
      "source": [
        "# Indexing (Selecting data from tensors)"
      ],
      "metadata": {
        "id": "88wEQfb5CrMT"
      }
    },
    {
      "cell_type": "code",
      "source": [
        "# create a tensor\n",
        "# torch.arange will give values 1 to 9\n",
        "# and we can reshape them like this because 1x3x3 = 9\n",
        "x= torch.arange(1 , 10).reshape(1,3,3)\n",
        "x , x.shape"
      ],
      "metadata": {
        "colab": {
          "base_uri": "https://localhost:8080/"
        },
        "id": "NmQDzGEiCV69",
        "outputId": "b01dfeb6-4cc9-4da9-8464-1bb596652f49"
      },
      "execution_count": null,
      "outputs": [
        {
          "output_type": "execute_result",
          "data": {
            "text/plain": [
              "(tensor([[[1, 2, 3],\n",
              "          [4, 5, 6],\n",
              "          [7, 8, 9]]]),\n",
              " torch.Size([1, 3, 3]))"
            ]
          },
          "metadata": {},
          "execution_count": 232
        }
      ]
    },
    {
      "cell_type": "code",
      "source": [
        "# This is going to index on the first bracket\n",
        "# Take a look at the brackets\n",
        "x[0]"
      ],
      "metadata": {
        "colab": {
          "base_uri": "https://localhost:8080/"
        },
        "id": "RZXB9PsbDTS4",
        "outputId": "aae324b5-93ad-4439-d34e-cdfcd1b38220"
      },
      "execution_count": null,
      "outputs": [
        {
          "output_type": "execute_result",
          "data": {
            "text/plain": [
              "tensor([[1, 2, 3],\n",
              "        [4, 5, 6],\n",
              "        [7, 8, 9]])"
            ]
          },
          "metadata": {},
          "execution_count": 234
        }
      ]
    },
    {
      "cell_type": "code",
      "source": [
        "# Index on middle bracket -> dimension 1\n",
        "x[0][0] , x[0,0]"
      ],
      "metadata": {
        "colab": {
          "base_uri": "https://localhost:8080/"
        },
        "id": "yomrkxoQDTP6",
        "outputId": "495fa2c9-f1da-4854-e056-e06cb294085b"
      },
      "execution_count": null,
      "outputs": [
        {
          "output_type": "execute_result",
          "data": {
            "text/plain": [
              "(tensor([1, 2, 3]), tensor([1, 2, 3]))"
            ]
          },
          "metadata": {},
          "execution_count": 236
        }
      ]
    },
    {
      "cell_type": "markdown",
      "source": [
        "x[0][0] or x[0,0] means ->\n",
        "\n",
        "x[0] =\n",
        "        \n",
        "        \n",
        "        ([[1, 2, 3],\n",
        "        [4, 5, 6],\n",
        "        [7, 8, 9]])\n",
        "        \n",
        "        \n",
        "\n",
        "x[0][0] = ([1,2,3])\n",
        "\n",
        "x[0][1] = ([4,5,6])\n",
        "\n",
        "x[0][2] = ([7, 8, 9])"
      ],
      "metadata": {
        "id": "V8N3lrecD0sB"
      }
    },
    {
      "cell_type": "code",
      "source": [
        "x[0][1]"
      ],
      "metadata": {
        "colab": {
          "base_uri": "https://localhost:8080/"
        },
        "id": "rQzVkcg1Eb8T",
        "outputId": "1b423792-f19e-4022-a53f-68d59121ed25"
      },
      "execution_count": null,
      "outputs": [
        {
          "output_type": "execute_result",
          "data": {
            "text/plain": [
              "tensor([4, 5, 6])"
            ]
          },
          "metadata": {},
          "execution_count": 237
        }
      ]
    },
    {
      "cell_type": "code",
      "source": [
        "x[0,0,0] , x[0][0][0]"
      ],
      "metadata": {
        "colab": {
          "base_uri": "https://localhost:8080/"
        },
        "id": "0VcdF7fHElr3",
        "outputId": "1186cb27-7bbf-4517-cffd-87bd28558270"
      },
      "execution_count": null,
      "outputs": [
        {
          "output_type": "execute_result",
          "data": {
            "text/plain": [
              "(tensor(1), tensor(1))"
            ]
          },
          "metadata": {},
          "execution_count": 239
        }
      ]
    },
    {
      "cell_type": "markdown",
      "source": [
        "Now , as\n",
        "\n",
        "x[0] =\n",
        "\n",
        "        ([[1, 2, 3],\n",
        "          [4, 5, 6],\n",
        "          [7, 8, 9]])  \n",
        "\n",
        "and ,\n",
        "\n",
        "x[0][0] =\n",
        "\n",
        "        ([1,2,3])\n",
        "\n",
        "x[0][0][0] will be =>\n",
        "         \n",
        "         [1]"
      ],
      "metadata": {
        "id": "IrMJsyyeE6b0"
      }
    },
    {
      "cell_type": "code",
      "source": [
        "x[0][1][1]"
      ],
      "metadata": {
        "colab": {
          "base_uri": "https://localhost:8080/"
        },
        "id": "mOeUX6ULFQxJ",
        "outputId": "9b4b6e79-29d0-48ae-f5a1-a6887c4d2e85"
      },
      "execution_count": null,
      "outputs": [
        {
          "output_type": "execute_result",
          "data": {
            "text/plain": [
              "tensor(5)"
            ]
          },
          "metadata": {},
          "execution_count": 240
        }
      ]
    },
    {
      "cell_type": "code",
      "source": [
        "x[0][2][2]"
      ],
      "metadata": {
        "colab": {
          "base_uri": "https://localhost:8080/"
        },
        "id": "Ro9OCYe8FbOO",
        "outputId": "01dbbec3-db73-4b9c-e97f-f5915bfc99eb"
      },
      "execution_count": null,
      "outputs": [
        {
          "output_type": "execute_result",
          "data": {
            "text/plain": [
              "tensor(9)"
            ]
          },
          "metadata": {},
          "execution_count": 241
        }
      ]
    },
    {
      "cell_type": "markdown",
      "source": [
        "the first one will only be 0 because of dimensions of x\n",
        "\n",
        "others work like matrix"
      ],
      "metadata": {
        "id": "B1ux_I5cFeoD"
      }
    },
    {
      "cell_type": "markdown",
      "source": [
        "We can also use \":\" to select \"all\" of a target dimension"
      ],
      "metadata": {
        "id": "vuHkG8GAFqyc"
      }
    },
    {
      "cell_type": "code",
      "source": [
        "x[: , 0]"
      ],
      "metadata": {
        "colab": {
          "base_uri": "https://localhost:8080/"
        },
        "id": "R1-_UDHrFlw5",
        "outputId": "ed84bdbf-fc5a-4bd0-f98f-d69f7af0b324"
      },
      "execution_count": null,
      "outputs": [
        {
          "output_type": "execute_result",
          "data": {
            "text/plain": [
              "tensor([[1, 2, 3]])"
            ]
          },
          "metadata": {},
          "execution_count": 242
        }
      ]
    },
    {
      "cell_type": "code",
      "source": [
        "x[: , 2]"
      ],
      "metadata": {
        "colab": {
          "base_uri": "https://localhost:8080/"
        },
        "id": "x9RO301PF0Mx",
        "outputId": "83c1fad8-1a18-4f38-f18c-31ca6a5db1f7"
      },
      "execution_count": null,
      "outputs": [
        {
          "output_type": "execute_result",
          "data": {
            "text/plain": [
              "tensor([[7, 8, 9]])"
            ]
          },
          "metadata": {},
          "execution_count": 243
        }
      ]
    },
    {
      "cell_type": "code",
      "source": [
        "x[: , 1 , 1]"
      ],
      "metadata": {
        "colab": {
          "base_uri": "https://localhost:8080/"
        },
        "id": "ev-H6GF5F2s5",
        "outputId": "975fd1bf-964c-46ee-b525-20362795a04d"
      },
      "execution_count": null,
      "outputs": [
        {
          "output_type": "execute_result",
          "data": {
            "text/plain": [
              "tensor([5])"
            ]
          },
          "metadata": {},
          "execution_count": 244
        }
      ]
    },
    {
      "cell_type": "code",
      "source": [
        "# all values of 0th and 1st dimensions but only index 1 of 2nd dimension\n",
        "x[: , : , 1] ,"
      ],
      "metadata": {
        "colab": {
          "base_uri": "https://localhost:8080/"
        },
        "id": "nT9Y6VtaF9-_",
        "outputId": "8c952aa9-ea53-47f5-aac9-91d8462cd48b"
      },
      "execution_count": null,
      "outputs": [
        {
          "output_type": "execute_result",
          "data": {
            "text/plain": [
              "(tensor([[2, 5, 8]]),)"
            ]
          },
          "metadata": {},
          "execution_count": 247
        }
      ]
    },
    {
      "cell_type": "code",
      "source": [
        "# get index 0 of 0th dimension and 1st dimension and all values of 2nd dimension\n",
        "x[0 , 0 , :]"
      ],
      "metadata": {
        "colab": {
          "base_uri": "https://localhost:8080/"
        },
        "id": "93xmqgAPGGHD",
        "outputId": "8f1cf702-dbe6-46d9-9450-6bf1fdee404b"
      },
      "execution_count": null,
      "outputs": [
        {
          "output_type": "execute_result",
          "data": {
            "text/plain": [
              "tensor([1, 2, 3])"
            ]
          },
          "metadata": {},
          "execution_count": 248
        }
      ]
    },
    {
      "cell_type": "code",
      "source": [
        "# index on x to return 3,6,9\n",
        "x[: , : , 2]"
      ],
      "metadata": {
        "colab": {
          "base_uri": "https://localhost:8080/"
        },
        "id": "Hu6z3G_2GoS9",
        "outputId": "9f98f2c1-b1d8-4ae0-9e82-302218f37fce"
      },
      "execution_count": null,
      "outputs": [
        {
          "output_type": "execute_result",
          "data": {
            "text/plain": [
              "tensor([[3, 6, 9]])"
            ]
          },
          "metadata": {},
          "execution_count": 249
        }
      ]
    }
  ]
}
