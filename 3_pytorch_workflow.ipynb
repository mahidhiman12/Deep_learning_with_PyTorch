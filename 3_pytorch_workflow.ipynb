{
  "nbformat": 4,
  "nbformat_minor": 0,
  "metadata": {
    "colab": {
      "provenance": []
    },
    "kernelspec": {
      "name": "python3",
      "display_name": "Python 3"
    },
    "language_info": {
      "name": "python"
    }
  },
  "cells": [
    {
      "cell_type": "markdown",
      "source": [
        "# A PyTorch workflow ( one of many )\n",
        "\n",
        "1. Get data ready (turn into tensors)\n",
        "2. Build or pick a pretrained model (to suit your problem)\n",
        "\n",
        "*   2.1 : Pick a loss function and optimizer\n",
        "*   2.2 : Build a training loop\n",
        "3. Fit the model (training) to the data and make a prediction\n",
        "4.Evaluate the model (inference)\n",
        "5. Improve through experimentation\n",
        "6. Save and reload your trained model\n",
        "\n"
      ],
      "metadata": {
        "id": "2AG30AsTnJ4c"
      }
    },
    {
      "cell_type": "code",
      "execution_count": 131,
      "metadata": {
        "colab": {
          "base_uri": "https://localhost:8080/",
          "height": 36
        },
        "id": "gIbUKrvemhhO",
        "outputId": "7efe04a0-5d48-451b-a4ee-6e16ee113760"
      },
      "outputs": [
        {
          "output_type": "execute_result",
          "data": {
            "text/plain": [
              "'2.6.0+cu124'"
            ],
            "application/vnd.google.colaboratory.intrinsic+json": {
              "type": "string"
            }
          },
          "metadata": {},
          "execution_count": 131
        }
      ],
      "source": [
        "import torch\n",
        "from torch import nn\n",
        "import matplotlib.pyplot as plt\n",
        "\n",
        "# check pytorch version\n",
        "torch.__version__"
      ]
    },
    {
      "cell_type": "markdown",
      "source": [
        "nn contains all of PyTorch's building blocks for neural networks\n"
      ],
      "metadata": {
        "id": "CjqgFsTYo9L4"
      }
    },
    {
      "cell_type": "markdown",
      "source": [
        "# 1. Data (preparing and loading)\n",
        "\n",
        "Data can be almost anything in machine learning\n",
        "\n",
        "* Excel spreadsheet\n",
        "* Images of any kind\n",
        "* Videos\n",
        "* Text\n",
        "\n",
        "Machine learning is a game of two parts:\n",
        "1. Get data into a numerical representation\n",
        "2. Build a model to learn patterns in that numerical representation\n"
      ],
      "metadata": {
        "id": "vMqFrRlRpQeB"
      }
    },
    {
      "cell_type": "markdown",
      "source": [
        "## To showcase this , lets create some *known* data using the linear regression formula\n",
        "\n",
        "The formula for a simple linear regression is **Y = a + bX**, where:\n",
        "\n",
        "Y: is the dependent variable (the variable you are trying to predict)\n",
        "\n",
        "X: is the independent variable (the variable used to predict Y)\n",
        "\n",
        "a: is the y-intercept (the value of Y when X is 0)\n",
        "\n",
        "b: is the slope of the line (the change in Y for every one unit change in X)\n",
        "\n",
        "\n",
        "In simpler terms, this formula represents a straight line that best fits the relationship between your data points. By plugging in values for X, you can predict the corresponding value of Y.\n",
        "\n",
        "We will use a linear regression formula to make a straight line with *known* **parameters**\n",
        "\n",
        "A **parameter** is something that a model learns"
      ],
      "metadata": {
        "id": "KEXl1Bllq9zc"
      }
    },
    {
      "cell_type": "markdown",
      "source": [
        "## Unsqueeze method:\n",
        "\n",
        "**unsqueeze()** adds a new dimension, and the dim you give decides where that new axis goes in the shape. But it’s not exactly about \"row vs column\" - it's more like position in the tensor shape.\n",
        "\n",
        "Let’s say you got this:\n",
        "\n",
        "\n",
        "    x = torch.tensor([1, 2, 3])\n",
        " *shape: [3]*\n",
        "\n",
        "Now:\n",
        "\n",
        "x.unsqueeze(0) ➤ shape becomes [1, 3] → new dim added at the front. Think of it like batch size of 1, like\n",
        "\n",
        "      [[1, 2, 3]]\n",
        "\n",
        "x.unsqueeze(1) ➤ shape becomes [3, 1] → new dim added after the first → it’s now a column vector:\n",
        "\n",
        "    [[1],\n",
        "     [2],\n",
        "     [3]]\n",
        "\n",
        "\n",
        "So :\n",
        "\n",
        "dim=0 → adds new axis before all existing dims\n",
        "\n",
        "dim=1 → adds it after the first one"
      ],
      "metadata": {
        "id": "QemmAAFvtAqR"
      }
    },
    {
      "cell_type": "code",
      "source": [
        "# Create *known* parameters\n",
        "weight = 0.7\n",
        "bias = 0.3\n",
        "\n",
        "# we know these numbers but we want to build a model that estimates these numbers\n",
        "\n",
        "# Create a range of numbers\n",
        "start = 0\n",
        "end = 1\n",
        "step = 0.02\n",
        "# X is capital bcs a tensor or a matrix is represented with a uppercase letter\n",
        "X = torch.arange(start , end , step).unsqueeze(dim = 1)\n",
        "y = weight * X + bias\n",
        "\n",
        "# X[:10] gives first ten values of X\n",
        "X[:10] , y[:10]"
      ],
      "metadata": {
        "colab": {
          "base_uri": "https://localhost:8080/"
        },
        "id": "DNsd9wgBo0Wm",
        "outputId": "50fc10e1-8e9e-484c-dfce-6be574d77388"
      },
      "execution_count": 132,
      "outputs": [
        {
          "output_type": "execute_result",
          "data": {
            "text/plain": [
              "(tensor([[0.0000],\n",
              "         [0.0200],\n",
              "         [0.0400],\n",
              "         [0.0600],\n",
              "         [0.0800],\n",
              "         [0.1000],\n",
              "         [0.1200],\n",
              "         [0.1400],\n",
              "         [0.1600],\n",
              "         [0.1800]]),\n",
              " tensor([[0.3000],\n",
              "         [0.3140],\n",
              "         [0.3280],\n",
              "         [0.3420],\n",
              "         [0.3560],\n",
              "         [0.3700],\n",
              "         [0.3840],\n",
              "         [0.3980],\n",
              "         [0.4120],\n",
              "         [0.4260]]))"
            ]
          },
          "metadata": {},
          "execution_count": 132
        }
      ]
    },
    {
      "cell_type": "code",
      "source": [
        "len(X) , len(y)"
      ],
      "metadata": {
        "colab": {
          "base_uri": "https://localhost:8080/"
        },
        "id": "VxRMyyW2uKeg",
        "outputId": "209f3a6e-1d48-4c0b-f11a-950ff15934bc"
      },
      "execution_count": 133,
      "outputs": [
        {
          "output_type": "execute_result",
          "data": {
            "text/plain": [
              "(50, 50)"
            ]
          },
          "metadata": {},
          "execution_count": 133
        }
      ]
    },
    {
      "cell_type": "markdown",
      "source": [
        "So whar we're going to be doing is building a model to learn some values ,\n",
        "\n",
        "to look at the X values here and learn what associated Y value is and the relationship between those\n",
        "\n",
        "OFC , we know the relationship between X and Y here , because we have coded this formula\n",
        "\n",
        " `Y = weight * X + bias`\n",
        "but you wont always know that\n",
        "\n",
        "That is the whole premise of machine learning : to learn a representation of the input and how it maps to the output"
      ],
      "metadata": {
        "id": "7NhCPnAduQb8"
      }
    },
    {
      "cell_type": "markdown",
      "source": [
        "# Splitting our data into training and test sets (most important concept in ML)"
      ],
      "metadata": {
        "id": "r_RH8ihyvWiv"
      }
    },
    {
      "cell_type": "markdown",
      "source": [
        "**Generalization** : The ability for a machine learning model to perform well on data it hasnt seen before"
      ],
      "metadata": {
        "id": "eTxhYwEzvplh"
      }
    },
    {
      "cell_type": "markdown",
      "source": [
        "## Three datasets in ML:\n",
        "In Machine Learning (ML), the three primary datasets are the **training set, validation set, and test set**. The training set is used to train the ML model. The validation set is used to tune the model's hyperparameters and prevent overfitting. The test set provides an unbiased evaluation of the final model's performance on unseen data.\n",
        "\n",
        "**Training Set:**\n",
        "\n",
        "This is the largest portion (60-80%) of the dataset, used to train the model. The model learns patterns and relationships from this data.\n",
        "eg: The course materials you study during semester\n",
        "\n",
        "**Validation Set:**\n",
        "\n",
        "This set is used to evaluate the model's performance during training. It helps in selecting the best model configuration (e.g., choosing the right number of layers in a neural network or the best learning rate).\n",
        "\n",
        "Amount of total data : (10-20%)\n",
        "\n",
        "eg: The practice exam you take before the final exam\n",
        "\n",
        "\n",
        "**Test Set:**\n",
        "\n",
        "This set is kept separate from the training and validation sets. It is used to assess the model's generalization ability, meaning how well it performs on new, unseen data. This provides an unbiased evaluation of the model's performance.\n",
        "\n",
        "Amount of total data : (10-20%)\n",
        "\n",
        "\n",
        "eg: The final exam you take at end of semester\n",
        "\n",
        "\n",
        "\n",
        "- You dont always need a validation set but training and testing  sets are important"
      ],
      "metadata": {
        "id": "s-4zmoikwked"
      }
    },
    {
      "cell_type": "markdown",
      "source": [
        "###  create a training and testing set with our data"
      ],
      "metadata": {
        "id": "4G_EiaHGyBhA"
      }
    },
    {
      "cell_type": "code",
      "source": [
        "# 80-20 split is common\n",
        "# 80% of X : training\n",
        "train_split = int(0.8 * len(X))\n",
        "\n",
        "# X: training data , y:training labels\n",
        "X_train , y_train = X[:train_split] , y[:train_split]\n",
        "\n",
        "# train_split: -> train_split onwards is the testing\n",
        "X_test , y_test = X[train_split:] , y[train_split:]\n",
        "\n",
        "# len(X) , len(y) ,len(X_train) , len(y_train) , len(X_test) , len(y_test)\n",
        "print(f\"Total data : ({len(X)})\")\n",
        "print(f\"Training data : ({len(X_train)})\")\n",
        "print(f\"Testing data : ({len(X_test)})\")"
      ],
      "metadata": {
        "colab": {
          "base_uri": "https://localhost:8080/"
        },
        "id": "tEl36Nn4vDQT",
        "outputId": "2691acc9-8153-4fb8-d88d-4864b8c21682"
      },
      "execution_count": 134,
      "outputs": [
        {
          "output_type": "stream",
          "name": "stdout",
          "text": [
            "Total data : (50)\n",
            "Training data : (40)\n",
            "Testing data : (10)\n"
          ]
        }
      ]
    },
    {
      "cell_type": "markdown",
      "source": [
        "The total data for X , y -> was 50 each\n",
        "\n",
        "we split the data into training and testing sets ,\n",
        "\n",
        "\n",
        "80% of total (50) = 40  is for training\n",
        "\n",
        "\n",
        "and rest 20% = 10 is for testing  "
      ],
      "metadata": {
        "id": "t_85_gBMzx3o"
      }
    },
    {
      "cell_type": "markdown",
      "source": [
        "## How might we better visualize our data\n",
        "\n",
        "Right now its just numbers on a page , that does not help much in visualizing"
      ],
      "metadata": {
        "id": "EJKj0eGi01dK"
      }
    },
    {
      "cell_type": "code",
      "source": [
        "def plot_predictions(train_data = X_train,\n",
        "                     train_labels = y_train,\n",
        "                     test_data = X_test,\n",
        "                     test_labels = y_test,\n",
        "                     predictions = None):\n",
        "\n",
        "    \"\"\"\n",
        "    Plots training data , test data and compares predictions\n",
        "    \"\"\"\n",
        "    plt.figure(figsize=(10,7))\n",
        "\n",
        "    # Plot training data in blue\n",
        "    plt.scatter(train_data , train_labels , c=\"b\" , s=4 , label = \"Training data\")\n",
        "\n",
        "    # Plot testing data in green\n",
        "    plt.scatter(test_data , test_labels , c=\"g\" , s = 4 , label = \"Testing data\")\n",
        "\n",
        "    # Are their any predictions?\n",
        "    if predictions is not None:\n",
        "      # plot the predictions\n",
        "      plt.scatter(test_data , predictions , c=\"r\" , s=4 , label=\"Predictions\")\n",
        "\n",
        "    # Show the legend\n",
        "    plt.legend(prop={\"size\" : 14});"
      ],
      "metadata": {
        "id": "SU7vJL_X0KVC"
      },
      "execution_count": 135,
      "outputs": []
    },
    {
      "cell_type": "code",
      "source": [
        "plot_predictions();\n",
        "# This is blue in start and turns green towards the end"
      ],
      "metadata": {
        "colab": {
          "base_uri": "https://localhost:8080/",
          "height": 474
        },
        "id": "OaeBqC7Z23t-",
        "outputId": "8d838241-b876-436d-e4ac-59b92053adac"
      },
      "execution_count": 136,
      "outputs": [
        {
          "output_type": "display_data",
          "data": {
            "text/plain": [
              "<Figure size 1000x700 with 1 Axes>"
            ],
            "image/png": "[encoded data removed]"
          },
          "metadata": {}
        }
      ]
    },
    {
      "cell_type": "markdown",
      "source": [
        "#  2. Build model - First Pytorch model"
      ],
      "metadata": {
        "id": "19ZSEt5g3p_7"
      }
    },
    {
      "cell_type": "markdown",
      "source": [
        "**What our model does?**\n",
        "* Start with random values (weights , bias)\n",
        "* Look at training data and adjust the random values to better represent (or get closer to) the ideal values ( the weights and bias values we used to create the data )\n",
        "\n",
        "How does it do so?\n",
        "\n",
        "* Through two main algorithms -\n",
        "    1. Gradient descent - ( why we have `requires_grad = True` )\n",
        "    2. Backpropagation\n",
        "\n",
        "    When we run computations using this model , pytorch is going to keep track of the gradients of our weights parameter and our bias parameter . And then its going to update them through a combination of gradient descent and back propagation\n",
        "\n",
        "    PyTorch already has code written for these two algorithms"
      ],
      "metadata": {
        "id": "CImVJYNe6PHb"
      }
    },
    {
      "cell_type": "markdown",
      "source": [
        " Create linear regression model class:\n",
        "\n",
        "- **nn.module** : Base class for all neural network modules.\n",
        "\n",
        "   Your models should also subclass this class.\n",
        "\n",
        "   Modules can also contain other Modules, allowing them to be nested in a tree structure\n",
        "\n",
        "- **Tensor.requires_grad**:\n",
        "\n",
        "   Is True if gradients need to be computed for this Tensor, False otherwise.\n",
        "\n",
        "   Its true default.\n",
        "\n"
      ],
      "metadata": {
        "id": "hIPisUQw4ESx"
      }
    },
    {
      "cell_type": "code",
      "source": [
        "# class inherits from nn.module -> almost everything in pytorch inherits from nn.module\n",
        "class LinearRegressionModel(nn.Module):\n",
        "  def __init__(self):\n",
        "    super().__init__()\n",
        "    # Initialise model parameters\n",
        "    self.weights = nn.Parameter(torch.randn(1 ,\n",
        "                                            requires_grad = True,\n",
        "                                            dtype = torch.float))\n",
        "    self.bias = nn.Parameter(torch.randn(1 ,\n",
        "                                         requires_grad = True,\n",
        "                                         dtype = torch.float))\n",
        "\n",
        "    # Forward method to define the computation in the model , x is the input\n",
        "  def forward(self ,x: torch.Tensor) -> torch.tensor:\n",
        "    return self.weights * x + self.bias\n",
        "\n"
      ],
      "metadata": {
        "id": "3I3ZcV_e23qs"
      },
      "execution_count": 137,
      "outputs": []
    },
    {
      "cell_type": "markdown",
      "source": [
        "### Code breakdown :\n",
        "\n",
        "- `torch.randn(1 , ` -> Start with a random weight / bias value\n",
        "\n",
        "- `requires_grad = True,` Can this parameter (weight / bias) be updated via gradient descent?\n",
        "                  "
      ],
      "metadata": {
        "id": "xlwBPZJf8rMk"
      }
    },
    {
      "cell_type": "markdown",
      "source": [
        "### PyTorch model building essentials\n",
        "\n",
        "- **torch.nn** - Contains all of the building blocks for computational graphs ( neural networks can be considered as computational graphs )\n",
        "\n",
        "- **torch.nn.Parameter** - What parameters should our model try and learn , often a PyTorch layer from torch.nn will set these for us\n",
        "\n",
        "- **torch.nn.Module** - The base class for all neural network modules , if you subclass it , you should overwrite forward()\n",
        "\n",
        "- **torch.optim** - This is where optimizers in PyTorch live , they will help with gradient descent\n",
        "\n",
        "- **def forward()** -  All nn.Module subclasses require you to overwirte forward() , this method defines what happens in the forward pass / computation\n",
        "\n",
        "- **torch.utils.data.Dataset** - represents a map between key(label) and sample(features) pairs of your data. Such as images and their associated labels\n",
        "\n",
        "- **torch.utils.data.DataLoader** - Creates a Python iterable over a torch Dataset (allows you to iterate over your data )"
      ],
      "metadata": {
        "id": "iugu-2ik9__e"
      }
    },
    {
      "cell_type": "markdown",
      "source": [
        "## Checking the contents of our PyTorch model\n",
        "\n",
        "We have already created a model , lets see whats inside\n",
        "\n",
        "So , we can check our model parameters or whats inside our model using .parameters()"
      ],
      "metadata": {
        "id": "PC-BA8XbmUe6"
      }
    },
    {
      "cell_type": "code",
      "source": [
        "# Create a random seed\n",
        "torch.manual_seed(42)\n",
        "\n",
        "# Create an instance of the model (this is a subclass of nn.Module)\n",
        "model_0 = LinearRegressionModel()\n",
        "\n",
        "# Check the model parameters\n",
        "list(model_0.parameters())\n"
      ],
      "metadata": {
        "colab": {
          "base_uri": "https://localhost:8080/"
        },
        "id": "8_buUdvimqSI",
        "outputId": "5f3f10e5-0afb-48cf-f5aa-e86d266d53d7"
      },
      "execution_count": 138,
      "outputs": [
        {
          "output_type": "execute_result",
          "data": {
            "text/plain": [
              "[Parameter containing:\n",
              " tensor([0.3367], requires_grad=True),\n",
              " Parameter containing:\n",
              " tensor([0.1288], requires_grad=True)]"
            ]
          },
          "metadata": {},
          "execution_count": 138
        }
      ]
    },
    {
      "cell_type": "markdown",
      "source": [
        "**model.state_dict()** gives named parameters"
      ],
      "metadata": {
        "id": "B5ONcIY5nlfc"
      }
    },
    {
      "cell_type": "code",
      "source": [
        "# list named parameters\n",
        "model_0.state_dict()"
      ],
      "metadata": {
        "id": "wuA8l2te23nk",
        "colab": {
          "base_uri": "https://localhost:8080/"
        },
        "outputId": "f5ab1a35-a3db-46e5-9d3b-70077024b311"
      },
      "execution_count": 139,
      "outputs": [
        {
          "output_type": "execute_result",
          "data": {
            "text/plain": [
              "OrderedDict([('weights', tensor([0.3367])), ('bias', tensor([0.1288]))])"
            ]
          },
          "metadata": {},
          "execution_count": 139
        }
      ]
    },
    {
      "cell_type": "markdown",
      "source": [
        "Here we have random values of weight and bias , these are the weights and bias in the LinearRegressionModel class\n",
        "\n",
        "We also have known values (parameters) weights and bias with values = 0.7 and 0.3 above\n",
        "\n",
        "\n",
        "Now , our whole goal is to write code that is going to allow our model to look at the blue dots in the graph and adjust this weight and bias value (of the model) to be as close as possible to the known values of weight and bias\n",
        "\n",
        "The closer we get these values of these two , the better we're going to be able to predict and model our data\n",
        "\n",
        "Now , this principle is the fundamental\n",
        "entire foundation of deep learning\n",
        "\n",
        "We start at random values , use gradient descent and backpropagation and whatever data that we're working with to move these random values as close as possible to ideal values. In most cases , you wont know what the ideal values are.\n",
        "\n",
        "But right now our case is a simple one so we know"
      ],
      "metadata": {
        "id": "_rMVf90dn4ck"
      }
    },
    {
      "cell_type": "code",
      "source": [
        "weight , bias"
      ],
      "metadata": {
        "colab": {
          "base_uri": "https://localhost:8080/"
        },
        "id": "RSGJ4qv4ovdM",
        "outputId": "21ceb359-5468-41f5-d992-dc6fb6009eb1"
      },
      "execution_count": 140,
      "outputs": [
        {
          "output_type": "execute_result",
          "data": {
            "text/plain": [
              "(0.7, 0.3)"
            ]
          },
          "metadata": {},
          "execution_count": 140
        }
      ]
    },
    {
      "cell_type": "markdown",
      "source": [
        "## Make predictions using `torch.inference_mode()`\n",
        "\n",
        "Inference mode is one of several mechanisms that can enable or disable gradients locally\n",
        "\n",
        "example : we can also do:\n",
        "        \n",
        "      y_preds = model_0(X_test)\n",
        "\n",
        "      y_preds\n",
        "\n",
        "but that will track gradients , which we dont want right now.\n",
        "So we use inference mode\n",
        "\n",
        "You can also use `torch.no_grad()` for the same purpose , but inference mode has some pros over that\n",
        "\n",
        "To check our model's predictive power , lets see how well it predicts `y_test` based on `X_test`\n",
        "\n",
        "When we pass data through our model , its going to run it through the `forward()` method"
      ],
      "metadata": {
        "id": "fzUQgmCeqOKA"
      }
    },
    {
      "cell_type": "markdown",
      "source": [
        "Our ideal model will predict the exact values of Y test"
      ],
      "metadata": {
        "id": "NtSoS10yrQ8x"
      }
    },
    {
      "cell_type": "code",
      "source": [
        "X_test"
      ],
      "metadata": {
        "colab": {
          "base_uri": "https://localhost:8080/"
        },
        "id": "WFKtes68rck5",
        "outputId": "9db50687-fbc8-4ab6-aba1-bf237f745636"
      },
      "execution_count": 141,
      "outputs": [
        {
          "output_type": "execute_result",
          "data": {
            "text/plain": [
              "tensor([[0.8000],\n",
              "        [0.8200],\n",
              "        [0.8400],\n",
              "        [0.8600],\n",
              "        [0.8800],\n",
              "        [0.9000],\n",
              "        [0.9200],\n",
              "        [0.9400],\n",
              "        [0.9600],\n",
              "        [0.9800]])"
            ]
          },
          "metadata": {},
          "execution_count": 141
        }
      ]
    },
    {
      "cell_type": "code",
      "source": [
        "y_test"
      ],
      "metadata": {
        "colab": {
          "base_uri": "https://localhost:8080/"
        },
        "id": "yCHOOXysrhWY",
        "outputId": "72b4ae63-3f65-48d2-e9dc-a0980f29116b"
      },
      "execution_count": 142,
      "outputs": [
        {
          "output_type": "execute_result",
          "data": {
            "text/plain": [
              "tensor([[0.8600],\n",
              "        [0.8740],\n",
              "        [0.8880],\n",
              "        [0.9020],\n",
              "        [0.9160],\n",
              "        [0.9300],\n",
              "        [0.9440],\n",
              "        [0.9580],\n",
              "        [0.9720],\n",
              "        [0.9860]])"
            ]
          },
          "metadata": {},
          "execution_count": 142
        }
      ]
    },
    {
      "cell_type": "code",
      "source": [
        "# Make predictions with model\n",
        "with torch.inference_mode():\n",
        "  y_preds = model_0(X_test)\n",
        "\n",
        "y_preds"
      ],
      "metadata": {
        "colab": {
          "base_uri": "https://localhost:8080/"
        },
        "id": "PpTGAHQ5rLA-",
        "outputId": "f383bdcd-8049-4178-fed3-a0ce966508d9"
      },
      "execution_count": 143,
      "outputs": [
        {
          "output_type": "execute_result",
          "data": {
            "text/plain": [
              "tensor([[0.3982],\n",
              "        [0.4049],\n",
              "        [0.4116],\n",
              "        [0.4184],\n",
              "        [0.4251],\n",
              "        [0.4318],\n",
              "        [0.4386],\n",
              "        [0.4453],\n",
              "        [0.4520],\n",
              "        [0.4588]])"
            ]
          },
          "metadata": {},
          "execution_count": 143
        }
      ]
    },
    {
      "cell_type": "code",
      "source": [
        "plot_predictions(predictions = y_preds)"
      ],
      "metadata": {
        "colab": {
          "base_uri": "https://localhost:8080/",
          "height": 474
        },
        "id": "K7vh2Omy0uzX",
        "outputId": "94c91c53-b05e-4725-c4ff-9ad8eda8836e"
      },
      "execution_count": 144,
      "outputs": [
        {
          "output_type": "display_data",
          "data": {
            "text/plain": [
              "<Figure size 1000x700 with 1 Axes>"
            ],
            "image/png": "[encoded data removed]"
          },
          "metadata": {}
        }
      ]
    },
    {
      "cell_type": "markdown",
      "source": [
        "Ideally , the red lines should be on top of the green dots\n",
        "\n",
        "The predictions right now are extremely far"
      ],
      "metadata": {
        "id": "eAcLToJw1FLA"
      }
    },
    {
      "cell_type": "markdown",
      "source": [
        "# 3. Training the model\n",
        "\n",
        "The whole idea of training is for a model to move from some *unknown* parameters (these may be random) to some *known* parameters\n",
        "\n",
        "Or in other words, from a poor representation of the data to a better representation of the data\n",
        "\n",
        "One way to measure how poor or *how wrong your model's predictions are* is to use a **loss function**\n",
        "\n",
        "* Note : Loss function may also be called cost function or criterion in different areas\n",
        "\n",
        "* **Loss Function:** A loss function is a crucial part of machine learning models, quantifying the difference between predicted and actual values to guide the model's learning process. It essentially measures how well a model is performing, with lower loss indicating better performance. During training, algorithms like Gradient Descent use the loss function to adjust model parameters and minimize errors.\n",
        "\n",
        "\n",
        "* **Optimizers:** Takes into account the loss of a model and adjusts the model's\n",
        "parameters (Weights and bias) to improve loss function\n",
        "\n",
        "\n",
        "And specifically in PyTorch we need:\n",
        "- A training loop\n",
        "- A testing loop"
      ],
      "metadata": {
        "id": "6QrHMavX2nBI"
      }
    },
    {
      "cell_type": "markdown",
      "source": [
        "## Setting up loss function and optimizer with Pytorch"
      ],
      "metadata": {
        "id": "xhZeY3275HVU"
      }
    },
    {
      "cell_type": "code",
      "source": [
        "model_0.state_dict()"
      ],
      "metadata": {
        "id": "arBbnnr-1RfL",
        "colab": {
          "base_uri": "https://localhost:8080/"
        },
        "outputId": "d052574a-fb11-40a3-d275-12db8652a920"
      },
      "execution_count": 145,
      "outputs": [
        {
          "output_type": "execute_result",
          "data": {
            "text/plain": [
              "OrderedDict([('weights', tensor([0.3367])), ('bias', tensor([0.1288]))])"
            ]
          },
          "metadata": {},
          "execution_count": 145
        }
      ]
    },
    {
      "cell_type": "markdown",
      "source": [
        "**Loss functions**:\n",
        "\n",
        "- nn.L1loss : Creates a criterion that measures the mean absolute error (MAE) between each element in the input x and target y\n",
        "\n",
        "      MAE_LOSS = torch.mean(torch.abs(y_pred - y_test)\n",
        "\n",
        "      or\n",
        "\n",
        "      torch.nn.L1Loss\n",
        "- nn.MSEloss : Creates a criterion that measures the mean squared error (MSE) between each element in the input x and target y\n",
        "\n",
        "- nn.CrossEntropyLoss: This criterion computes the cross energy loss between input and target. Used in classification models"
      ],
      "metadata": {
        "id": "CgiHsTdV3ltY"
      }
    },
    {
      "cell_type": "markdown",
      "source": [
        "**Optimizers:**\n",
        "- SGD : Implements stochastic gradient descent (optionally with momentum).\n",
        "- Adagrad : Implements Adagrad algorithm.\n",
        "- Adam : Implements Adam algorithm.\n",
        "- RMSprop : Implements RMSprop algorithm."
      ],
      "metadata": {
        "id": "XNKdnnZI65AF"
      }
    },
    {
      "cell_type": "code",
      "source": [
        "# Setup a loss function\n",
        "loss_fn = nn.L1Loss()\n",
        "\n",
        "# Setup an optimizer\n",
        "optimizer = torch.optim.SGD(params = model_0.parameters() ,\n",
        "                            lr = 0.01)\n"
      ],
      "metadata": {
        "id": "Pg8HmUNt4Fz8"
      },
      "execution_count": 146,
      "outputs": []
    },
    {
      "cell_type": "markdown",
      "source": [
        "**LR:** learning rate is a crucial hyperparameter that determines the step size at which a model's parameters (weights) are updated during training. It essentially controls how quickly or slowly the model learns from the training data. A well-tuned learning rate is essential for efficient and effective training, as it balances the speed of convergence with the risk of overshooting the optimal solution\n",
        "\n",
        "Learning rates in machine learning typically range from **0.0 to 1.0**, though values outside this range are sometimes used depending on the specific task and model. Common values often used as starting points include **0.1, 0.01, and 0.001.**"
      ],
      "metadata": {
        "id": "d-mV47db8bYi"
      }
    },
    {
      "cell_type": "markdown",
      "source": [
        "In machine learning, **hyperparameters** are settings that are configured before the learning process begins and control how the model learns from the data. They are not learned from the data itself, unlike model parameters, which are adjusted during training. Hyperparameters determine the model's architecture, learning rate, and other crucial aspects that significantly impact performance. Effective hyperparameter tuning is essential for achieving optimal model accuracy and generalization ability.\n"
      ],
      "metadata": {
        "id": "J1FXRtOf8qKC"
      }
    },
    {
      "cell_type": "markdown",
      "source": [
        "**Q** Which loss function and optimizer should i use?\n",
        "\n",
        "**A.** This will be problem specific. But with experience , you will get an idea of what works and what doesnt with your particular problem set\n",
        "\n",
        "For example: for a linear regression problem like ours , a loss function of `nn.L1Loss()` and an optimizer like `torch.optim.SGD()` will suffice.\n",
        "\n",
        "But for a classification problem , you will likely use a loss function of `nn.BCELoss()` (binary cross entropy loss)"
      ],
      "metadata": {
        "id": "Ai1__ZlZ9j8c"
      }
    },
    {
      "cell_type": "code",
      "source": [
        "loss_fn , optimizer"
      ],
      "metadata": {
        "colab": {
          "base_uri": "https://localhost:8080/"
        },
        "id": "Q8Fhj32f4FYR",
        "outputId": "511b4c95-73a6-4ef9-8184-7544bea6754e"
      },
      "execution_count": 147,
      "outputs": [
        {
          "output_type": "execute_result",
          "data": {
            "text/plain": [
              "(L1Loss(),\n",
              " SGD (\n",
              " Parameter Group 0\n",
              "     dampening: 0\n",
              "     differentiable: False\n",
              "     foreach: None\n",
              "     fused: None\n",
              "     lr: 0.01\n",
              "     maximize: False\n",
              "     momentum: 0\n",
              "     nesterov: False\n",
              "     weight_decay: 0\n",
              " ))"
            ]
          },
          "metadata": {},
          "execution_count": 147
        }
      ]
    },
    {
      "cell_type": "markdown",
      "source": [
        "## Building a training loop and a testing loop\n",
        "\n",
        "A couple of things we need in a training loop:\n",
        "0. Loop through the data\n",
        "1. Forward pass (this involves data moving through our model's `forward()` functions) - also called **forward propagation**\n",
        "2. Calculate the loss (compare forward pass predictions to ground truth labels)\n",
        "3. Optimizer zero grad\n",
        "4. Loss backward **(backpropagation)**- move backwards through the network to calculate the gradients of each of the parameters of our model with respect to the loss\n",
        "5. Optimizer step **(gradient descent)** - use the optimizer to adjust our model's parameters to try and improve the loss"
      ],
      "metadata": {
        "id": "ebhb2gh__Eet"
      }
    },
    {
      "cell_type": "markdown",
      "source": [
        "The unofficial PyTorch optimization loop song\n",
        "\n",
        "It's train time!\n",
        "\n",
        "Do the forward pass,\n",
        "\n",
        "Calculate the loss,\n",
        "\n",
        "Optimizer zero grad,\n",
        "\n",
        "Losssss backward!\n",
        "\n",
        "Optimizer step, step, step!\n",
        "\n",
        "Testing Loop:\n",
        "\n",
        "Let's test now!\n",
        "\n",
        "With torch.no_grad():\n",
        "\n",
        "Do the forward pass,\n",
        "\n",
        "Calculate the loss,\n",
        "\n",
        "Watch it go down, down, down!"
      ],
      "metadata": {
        "id": "ILSHy_t3DxqW"
      }
    },
    {
      "cell_type": "code",
      "source": [
        "# An epoch is one full loop through the data (this is a hyperparameter)\n",
        "torch.manual_seed(42)\n",
        "epochs = 1\n",
        "\n",
        "for epoch in range(epochs):\n",
        "  # Set the model to training mode\n",
        "  model_0.train() # train mode in PyTorch sets all parameters that requires grad\n",
        "                  # to require grad\n",
        "\n",
        "  # forward pass:\n",
        "  y_pred = model_0(X_train)\n",
        "\n",
        "  # Calculate loss: order is imp here , (input first , target next)\n",
        "  loss = loss_fn(y_pred , y_train)\n",
        "  print(f\"Loss: {loss}\")\n",
        "\n",
        "  # Optimizer zero grad\n",
        "  optimizer.zero_grad()\n",
        "\n",
        "  # Backpropagation wrt parameters\n",
        "  loss.backward()\n",
        "\n",
        "  # optimizer - perform gradient descent\n",
        "  optimizer.step()\n",
        "    #  by deafult how the optimizer changes will accumulate through the loop so\n",
        "    # we have to zero them before in step 3\n",
        "\n",
        "\n",
        "  model_0.eval()  # turns off grad tracking or different settings in model that\n",
        "                  # are not neded for evaluation / testing\n",
        "\n",
        "  print(model_0.state_dict())"
      ],
      "metadata": {
        "id": "5P1RGaOGAnwK",
        "colab": {
          "base_uri": "https://localhost:8080/"
        },
        "outputId": "aa6e5ee5-bec5-4ed9-923c-1a1ca3d09c9d"
      },
      "execution_count": 148,
      "outputs": [
        {
          "output_type": "stream",
          "name": "stdout",
          "text": [
            "Loss: 0.31288138031959534\n",
            "OrderedDict([('weights', tensor([0.3406])), ('bias', tensor([0.1388]))])\n"
          ]
        }
      ]
    },
    {
      "cell_type": "markdown",
      "source": [
        "As i keep re-running the above code , i see the loss is going down every time and the values are coming closer to the known values , this is **gradient descent** happening\n",
        "\n",
        "- Lower loss value is good"
      ],
      "metadata": {
        "id": "lQJkAbqRXN3D"
      }
    },
    {
      "cell_type": "code",
      "source": [
        "# earlier predictions:\n",
        "plot_predictions(predictions = y_preds);"
      ],
      "metadata": {
        "id": "02-FdpplELff",
        "colab": {
          "base_uri": "https://localhost:8080/",
          "height": 474
        },
        "outputId": "3e122675-db8d-4eec-d57a-a9dda3d624dd"
      },
      "execution_count": 149,
      "outputs": [
        {
          "output_type": "display_data",
          "data": {
            "text/plain": [
              "<Figure size 1000x700 with 1 Axes>"
            ],
            "image/png": "[encoded data removed]"
          },
          "metadata": {}
        }
      ]
    },
    {
      "cell_type": "code",
      "source": [
        "# current predictions\n",
        "with torch.inference_mode():\n",
        "  y_preds_new = model_0(X_test)"
      ],
      "metadata": {
        "id": "bitHYln-YD_l"
      },
      "execution_count": 150,
      "outputs": []
    },
    {
      "cell_type": "code",
      "source": [
        "plot_predictions(predictions = y_preds_new)"
      ],
      "metadata": {
        "colab": {
          "base_uri": "https://localhost:8080/",
          "height": 474
        },
        "id": "EQaiDE3EYRjG",
        "outputId": "b46628d4-1922-4092-cc09-30596edd5f76"
      },
      "execution_count": 151,
      "outputs": [
        {
          "output_type": "display_data",
          "data": {
            "text/plain": [
              "<Figure size 1000x700 with 1 Axes>"
            ],
            "image/png": "[encoded data removed]"
          },
          "metadata": {}
        }
      ]
    },
    {
      "cell_type": "markdown",
      "source": [
        "Instead of re-running the code multiple times , we can make our epochs more and see"
      ],
      "metadata": {
        "id": "DRKFfroJYZ_n"
      }
    },
    {
      "cell_type": "code",
      "source": [
        "# # An epoch is one full loop through the data (this is a hyperparameter)\n",
        "# torch.manual_seed(42)\n",
        "# epochs = 150\n",
        "\n",
        "# for epoch in range(epochs):\n",
        "#   # Set the model to training mode\n",
        "#   model_0.train() # train mode in PyTorch sets all parameters that requires grad\n",
        "#                   # to require grad\n",
        "\n",
        "#   # forward pass:\n",
        "#   y_pred = model_0(X_train)\n",
        "\n",
        "#   # Calculate loss: order is imp here , (input first , target next)\n",
        "#   loss = loss_fn(y_pred , y_train)\n",
        "#   print(f\"Loss: {loss}\")\n",
        "\n",
        "#   # Optimizer zero grad\n",
        "#   optimizer.zero_grad()\n",
        "\n",
        "#   # Backpropagation wrt parameters\n",
        "#   loss.backward()\n",
        "\n",
        "#   # optimizer - perform gradient descent\n",
        "#   optimizer.step()\n",
        "#     #  by deafult how the optimizer changes will accumulate through the loop so\n",
        "#     # we have to zero them before in step 3\n",
        "\n",
        "\n",
        "#   model_0.eval()  # turns off grad tracking\n",
        "\n",
        "#   print(model_0.state_dict())"
      ],
      "metadata": {
        "id": "WxjM_uVNYZUu"
      },
      "execution_count": 152,
      "outputs": []
    },
    {
      "cell_type": "code",
      "source": [
        "# with torch.inference_mode():\n",
        "#   y_preds_final = model_0(X_test)"
      ],
      "metadata": {
        "id": "BWowV3QIYq-h"
      },
      "execution_count": 153,
      "outputs": []
    },
    {
      "cell_type": "code",
      "source": [
        "# plot_predictions(predictions = y_preds_final)"
      ],
      "metadata": {
        "id": "Ggj1HvNHYx-V"
      },
      "execution_count": 154,
      "outputs": []
    },
    {
      "cell_type": "markdown",
      "source": [
        "Thats pretty close , we trained our first ML model and it did pretty good\n",
        "\n",
        "Now it should also perform good on unseen data - that is testing the model"
      ],
      "metadata": {
        "id": "SuqkRafHY8RR"
      }
    },
    {
      "cell_type": "markdown",
      "source": [
        "# Writing testing loop code"
      ],
      "metadata": {
        "id": "Cr2lBH4KZYBY"
      }
    },
    {
      "cell_type": "markdown",
      "source": [
        "**Backpropagation** is a fundamental algorithm used to train artificial neural networks. It works by calculating the error at the output layer and then propagating it backward through the network to adjust the weights and biases of each layer, ultimately minimizing the overall error and improving the network's performance."
      ],
      "metadata": {
        "id": "ErIXIa9wZl1r"
      }
    },
    {
      "cell_type": "code",
      "source": [
        "torch.manual_seed(42)\n",
        "# An epoch is one full loop through the data (this is a hyperparameter)\n",
        "\n",
        "epochs = 200\n",
        "\n",
        "# Track different values\n",
        "epoch_count = []\n",
        "loss_values = []\n",
        "test_loss_values = []\n",
        "\n",
        "for epoch in range(epochs):\n",
        "  # Set the model to training mode\n",
        "  model_0.train() # train mode in PyTorch sets all parameters that requires grad\n",
        "                  # to require grad\n",
        "\n",
        "  # forward pass:\n",
        "  y_pred = model_0(X_train)\n",
        "\n",
        "  # Calculate loss: order is imp here , (input first , target next)\n",
        "  loss = loss_fn(y_pred , y_train)\n",
        "\n",
        "\n",
        "  # Optimizer zero grad\n",
        "  optimizer.zero_grad()\n",
        "\n",
        "  # Backpropagation wrt parameters\n",
        "  loss.backward()\n",
        "\n",
        "  # optimizer - perform gradient descent\n",
        "  optimizer.step()\n",
        "    #  by deafult how the optimizer changes will accumulate through the loop so\n",
        "    # we have to zero them before in step 3\n",
        "\n",
        "\n",
        "  model_0.eval()  # turns off grad tracking or different settings in model that\n",
        "                  # are not neded for evaluation / testing\n",
        "\n",
        "  with torch.inference_mode():\n",
        "    # 1.forward pass:\n",
        "    test_pred = model_0(X_test)\n",
        "\n",
        "    # 2. Calculate the loss\n",
        "    test_loss = loss_fn(test_pred , y_test)\n",
        "  if epoch % 10 == 0:\n",
        "    epoch_count.append(epoch)\n",
        "    loss_values.append(loss)\n",
        "    test_loss_values.append(test_loss)\n",
        "    print(f\"Epoch : {epoch} | loss : {loss} | Test loss : {test_loss}\")\n",
        "    print(model_0.state_dict())"
      ],
      "metadata": {
        "colab": {
          "base_uri": "https://localhost:8080/"
        },
        "id": "FSu-uUZtYx7H",
        "outputId": "e2dc970c-d62b-4939-f787-56294bdc3303"
      },
      "execution_count": 155,
      "outputs": [
        {
          "output_type": "stream",
          "name": "stdout",
          "text": [
            "Epoch : 0 | loss : 0.3013603389263153 | Test loss : 0.4675942063331604\n",
            "OrderedDict([('weights', tensor([0.3445])), ('bias', tensor([0.1488]))])\n",
            "Epoch : 10 | loss : 0.18615034222602844 | Test loss : 0.3328842222690582\n",
            "OrderedDict([('weights', tensor([0.3835])), ('bias', tensor([0.2488]))])\n",
            "Epoch : 20 | loss : 0.08227583020925522 | Test loss : 0.2069590985774994\n",
            "OrderedDict([('weights', tensor([0.4222])), ('bias', tensor([0.3403]))])\n",
            "Epoch : 30 | loss : 0.05181945487856865 | Test loss : 0.14023718237876892\n",
            "OrderedDict([('weights', tensor([0.4539])), ('bias', tensor([0.3788]))])\n",
            "Epoch : 40 | loss : 0.04503796249628067 | Test loss : 0.11182951927185059\n",
            "OrderedDict([('weights', tensor([0.4768])), ('bias', tensor([0.3868]))])\n",
            "Epoch : 50 | loss : 0.04132963344454765 | Test loss : 0.09809747338294983\n",
            "OrderedDict([('weights', tensor([0.4956])), ('bias', tensor([0.3838]))])\n",
            "Epoch : 60 | loss : 0.03785243630409241 | Test loss : 0.08776430785655975\n",
            "OrderedDict([('weights', tensor([0.5134])), ('bias', tensor([0.3783]))])\n",
            "Epoch : 70 | loss : 0.03441363573074341 | Test loss : 0.0794917643070221\n",
            "OrderedDict([('weights', tensor([0.5306])), ('bias', tensor([0.3713]))])\n",
            "Epoch : 80 | loss : 0.030979642644524574 | Test loss : 0.07190609723329544\n",
            "OrderedDict([('weights', tensor([0.5475])), ('bias', tensor([0.3638]))])\n",
            "Epoch : 90 | loss : 0.02754882536828518 | Test loss : 0.06363357603549957\n",
            "OrderedDict([('weights', tensor([0.5647])), ('bias', tensor([0.3568]))])\n",
            "Epoch : 100 | loss : 0.024110013619065285 | Test loss : 0.05536102131009102\n",
            "OrderedDict([('weights', tensor([0.5818])), ('bias', tensor([0.3498]))])\n",
            "Epoch : 110 | loss : 0.020677709951996803 | Test loss : 0.04777535796165466\n",
            "OrderedDict([('weights', tensor([0.5988])), ('bias', tensor([0.3423]))])\n",
            "Epoch : 120 | loss : 0.017245199531316757 | Test loss : 0.0395028181374073\n",
            "OrderedDict([('weights', tensor([0.6159])), ('bias', tensor([0.3353]))])\n",
            "Epoch : 130 | loss : 0.013806397095322609 | Test loss : 0.031230276450514793\n",
            "OrderedDict([('weights', tensor([0.6331])), ('bias', tensor([0.3283]))])\n",
            "Epoch : 140 | loss : 0.010375778190791607 | Test loss : 0.023644620552659035\n",
            "OrderedDict([('weights', tensor([0.6501])), ('bias', tensor([0.3208]))])\n",
            "Epoch : 150 | loss : 0.006941580679267645 | Test loss : 0.0153720797970891\n",
            "OrderedDict([('weights', tensor([0.6672])), ('bias', tensor([0.3138]))])\n",
            "Epoch : 160 | loss : 0.0035027749836444855 | Test loss : 0.007099539041519165\n",
            "OrderedDict([('weights', tensor([0.6844])), ('bias', tensor([0.3068]))])\n",
            "Epoch : 170 | loss : 0.0025885067880153656 | Test loss : 0.008447891101241112\n",
            "OrderedDict([('weights', tensor([0.6990])), ('bias', tensor([0.3093]))])\n",
            "Epoch : 180 | loss : 0.0025885067880153656 | Test loss : 0.008447891101241112\n",
            "OrderedDict([('weights', tensor([0.6990])), ('bias', tensor([0.3093]))])\n",
            "Epoch : 190 | loss : 0.0025885067880153656 | Test loss : 0.008447891101241112\n",
            "OrderedDict([('weights', tensor([0.6990])), ('bias', tensor([0.3093]))])\n"
          ]
        }
      ]
    },
    {
      "cell_type": "code",
      "source": [
        "# Plot the loss curves\n",
        "import numpy as np\n",
        "plt.plot(epoch_count , np.array(torch.tensor(loss_values).numpy()) , label='Train loss')\n",
        "plt.plot(epoch_count , test_loss_values , label='Test loss')\n",
        "plt.title(\"Training and test loss curves\")\n",
        "plt.ylabel(\"Loss\")\n",
        "plt.xlabel(\"Epochs\")\n",
        "plt.legend();\n"
      ],
      "metadata": {
        "colab": {
          "base_uri": "https://localhost:8080/",
          "height": 472
        },
        "id": "qH7EA6XJUXoM",
        "outputId": "4f362738-53f2-447c-ec1c-bfa66a3b32a7"
      },
      "execution_count": 162,
      "outputs": [
        {
          "output_type": "display_data",
          "data": {
            "text/plain": [
              "<Figure size 640x480 with 1 Axes>"
            ],
            "image/png": "[encoded data removed]"
          },
          "metadata": {}
        }
      ]
    },
    {
      "cell_type": "markdown",
      "source": [
        "Look at this graph , of they match up closely at some point , that means our model is converging and the loss is getting as close to 0 as it possibly can"
      ],
      "metadata": {
        "id": "XmsuT8htVgiI"
      }
    },
    {
      "cell_type": "code",
      "source": [
        "with torch.inference_mode():\n",
        "  y_preds_final = model_0(X_test)"
      ],
      "metadata": {
        "id": "QE-eMrXWTGQa"
      },
      "execution_count": 158,
      "outputs": []
    },
    {
      "cell_type": "code",
      "source": [
        "plot_predictions(predictions = y_preds_final)"
      ],
      "metadata": {
        "colab": {
          "base_uri": "https://localhost:8080/",
          "height": 474
        },
        "id": "t-HU9CVVTC96",
        "outputId": "7c1dca72-9005-4281-98db-9de02f733050"
      },
      "execution_count": 159,
      "outputs": [
        {
          "output_type": "display_data",
          "data": {
            "text/plain": [
              "<Figure size 1000x700 with 1 Axes>"
            ],
            "image/png": "[encoded data removed]"
          },
          "metadata": {}
        }
      ]
    },
    {
      "cell_type": "markdown",
      "source": [
        "## Saving a model in PyTorch\n",
        "\n",
        "there are three main methods you should know about for saving and loading models in pytorch\n",
        "\n",
        "1. `torch.save()` - allows you to save a PyTorch object in Python's pickle format\n",
        "\n",
        "-\n",
        "The pickle module implements binary protocols for serializing and de-serializing a Python object structure. “Pickling” is the process whereby a Python object hierarchy is converted into a byte stream, and “unpickling” is the inverse operation, whereby a byte stream (from a binary file or bytes-like object) is converted back into an object hierarchy.\n",
        "\n",
        "2. `torch.load()` - allows you to load a saved PyTorch object\n",
        "\n",
        "3. `torch.nn.Module.load_state_dict()` - allows you to load a model's saved state dictionary"
      ],
      "metadata": {
        "id": "O_fQtAD1Wpu0"
      }
    },
    {
      "cell_type": "code",
      "source": [
        "model_0.state_dict()"
      ],
      "metadata": {
        "colab": {
          "base_uri": "https://localhost:8080/"
        },
        "id": "T9Ohv1v1Xd28",
        "outputId": "69eb3d49-0d5e-47ac-f571-5d5870ccfb04"
      },
      "execution_count": 163,
      "outputs": [
        {
          "output_type": "execute_result",
          "data": {
            "text/plain": [
              "OrderedDict([('weights', tensor([0.6951])), ('bias', tensor([0.2993]))])"
            ]
          },
          "metadata": {},
          "execution_count": 163
        }
      ]
    },
    {
      "cell_type": "markdown",
      "source": [
        "If we save this from within Google Colab , the model will disappear if our Google Colab notebook instance disconnects\n",
        "\n",
        "Google Colab also has a way to save from Google Colab to Google Drive :\n",
        "\n",
        "1. Open your Colab notebook:\n",
        "Start by opening the Colab notebook you want to save.\n",
        "2. Save a copy to Drive:\n",
        "Go to File > Save a copy in Drive. This creates a duplicate of your notebook in your Google Drive.\n",
        "3. Locate the saved notebook:\n",
        "The copied notebook will be stored in your Google Drive, specifically within the \"Colab Notebooks\" folder.\n",
        "4. Save the current state:\n",
        "You can also save the current version of your notebook at any time by going to File > Save. This saves the current state of the notebook to your Google Drive.\n",
        "5. Accessing from Google Drive:"
      ],
      "metadata": {
        "id": "QOyfNcHPZqC0"
      }
    },
    {
      "cell_type": "code",
      "source": [
        "# Saving our PyTorch model\n",
        "from pathlib import Path\n",
        "# 1. Create models directory\n",
        "# this is going to help us create a folder in files called \"models\" or we can\n",
        "# make it by hand\n",
        "MODEL_PATH = Path(\"models\")\n",
        "MODEL_PATH.mkdir(parents = True , exist_ok = True)\n",
        "\n",
        "# 2. Create model save path: This way we can give our model a name\n",
        "# Right now its just model_0\n",
        "MODEL_NAME = \"3_pytorch_workfolow_linearRegression_model0.pth\"\n",
        "# pytorch objects usually have the extension .pth or .pt\n",
        "MODEL_SAVE_PATH = MODEL_PATH / MODEL_NAME\n",
        "\n",
        "\n",
        "# 3. Save the model - using state dict is recommended\n",
        "print(f\"Saving model to : {MODEL_SAVE_PATH}\")\n",
        "# f: PathLike object containing a file name\n",
        "torch.save(obj = model_0.state_dict() , f = MODEL_SAVE_PATH)"
      ],
      "metadata": {
        "colab": {
          "base_uri": "https://localhost:8080/"
        },
        "id": "M8jGEeqkYZhP",
        "outputId": "334e6666-1dc9-4287-fad7-17a412e19e59"
      },
      "execution_count": 165,
      "outputs": [
        {
          "output_type": "stream",
          "name": "stdout",
          "text": [
            "Saving model to : models/3_pytorch_workfolow_linearRegression_model0.pth\n"
          ]
        }
      ]
    },
    {
      "cell_type": "code",
      "source": [
        "!ls -1 models"
      ],
      "metadata": {
        "colab": {
          "base_uri": "https://localhost:8080/"
        },
        "id": "APQHDloZaTlO",
        "outputId": "f6838bbb-1d48-4639-fdec-36fd2562d592"
      },
      "execution_count": 166,
      "outputs": [
        {
          "output_type": "stream",
          "name": "stdout",
          "text": [
            "3_pytorch_workfolow_linearRegression_model0.pth\n"
          ]
        }
      ]
    },
    {
      "cell_type": "markdown",
      "source": [
        "## Loading a PyTorch model\n",
        "\n",
        "Since we saved our model's `state_dict()` rather than the entire model , we will create a new instance of our model class\n",
        "and load the saved `state_dict()` into that"
      ],
      "metadata": {
        "id": "rCyD7sRJdUgS"
      }
    },
    {
      "cell_type": "code",
      "source": [
        "model_0.state_dict()"
      ],
      "metadata": {
        "colab": {
          "base_uri": "https://localhost:8080/"
        },
        "id": "sX2PnJQ2YZd1",
        "outputId": "3db94c29-7235-40ff-d6a2-05c30575a976"
      },
      "execution_count": 167,
      "outputs": [
        {
          "output_type": "execute_result",
          "data": {
            "text/plain": [
              "OrderedDict([('weights', tensor([0.6951])), ('bias', tensor([0.2993]))])"
            ]
          },
          "metadata": {},
          "execution_count": 167
        }
      ]
    },
    {
      "cell_type": "code",
      "source": [
        "# To load in a saved state_dict we have to instantiate a new instance of\n",
        "# our model class\n",
        "loaded_model_0 = LinearRegressionModel()\n",
        "\n",
        "# Load the saved state_dict of model_0 (this will update the new instane\n",
        "# with updated parameters)\n",
        "loaded_model_0.load_state_dict(torch.load(f=MODEL_SAVE_PATH))"
      ],
      "metadata": {
        "colab": {
          "base_uri": "https://localhost:8080/"
        },
        "id": "snZWrgjed1s6",
        "outputId": "114e716d-ac75-4867-e380-e176e85315df"
      },
      "execution_count": 168,
      "outputs": [
        {
          "output_type": "execute_result",
          "data": {
            "text/plain": [
              "<All keys matched successfully>"
            ]
          },
          "metadata": {},
          "execution_count": 168
        }
      ]
    },
    {
      "cell_type": "code",
      "source": [
        "#   It will now have save values as model_0.state_dict()\n",
        "loaded_model_0.state_dict()"
      ],
      "metadata": {
        "colab": {
          "base_uri": "https://localhost:8080/"
        },
        "id": "itcbXxx_evLT",
        "outputId": "bbe89e99-e258-42dc-a1c7-b8065afacc1d"
      },
      "execution_count": 170,
      "outputs": [
        {
          "output_type": "execute_result",
          "data": {
            "text/plain": [
              "OrderedDict([('weights', tensor([0.6951])), ('bias', tensor([0.2993]))])"
            ]
          },
          "metadata": {},
          "execution_count": 170
        }
      ]
    },
    {
      "cell_type": "code",
      "source": [
        "# Make some predictions with our loaded model\n",
        "# when we make predictions we gotta use eval mode and inference mode\n",
        "loaded_model_0.eval()\n",
        "with torch.inference_mode():\n",
        "  loaded_model_preds= loaded_model_0(X_test)\n",
        "\n",
        "loaded_model_preds"
      ],
      "metadata": {
        "colab": {
          "base_uri": "https://localhost:8080/"
        },
        "id": "O4zVd2z9e76o",
        "outputId": "27a28a91-fcab-4760-d4bd-ecb144e73276"
      },
      "execution_count": 172,
      "outputs": [
        {
          "output_type": "execute_result",
          "data": {
            "text/plain": [
              "tensor([[0.8554],\n",
              "        [0.8693],\n",
              "        [0.8832],\n",
              "        [0.8971],\n",
              "        [0.9110],\n",
              "        [0.9249],\n",
              "        [0.9388],\n",
              "        [0.9527],\n",
              "        [0.9666],\n",
              "        [0.9805]])"
            ]
          },
          "metadata": {},
          "execution_count": 172
        }
      ]
    },
    {
      "cell_type": "markdown",
      "source": [
        "To see if these two models are the same , we can compare loaded_model_preds with original model_preds\n",
        "\n"
      ],
      "metadata": {
        "id": "lBSR9RYAfd5b"
      }
    },
    {
      "cell_type": "code",
      "source": [
        "model_0.eval()\n",
        "with torch.inference_mode():\n",
        "  y_preds = model_0(X_test)\n",
        "y_preds"
      ],
      "metadata": {
        "colab": {
          "base_uri": "https://localhost:8080/"
        },
        "id": "Tq3v8D5sf5LU",
        "outputId": "6171198c-eca2-4667-9b4a-5d559f88d2a3"
      },
      "execution_count": 174,
      "outputs": [
        {
          "output_type": "execute_result",
          "data": {
            "text/plain": [
              "tensor([[0.8554],\n",
              "        [0.8693],\n",
              "        [0.8832],\n",
              "        [0.8971],\n",
              "        [0.9110],\n",
              "        [0.9249],\n",
              "        [0.9388],\n",
              "        [0.9527],\n",
              "        [0.9666],\n",
              "        [0.9805]])"
            ]
          },
          "metadata": {},
          "execution_count": 174
        }
      ]
    },
    {
      "cell_type": "code",
      "source": [
        "y_preds == loaded_model_preds"
      ],
      "metadata": {
        "colab": {
          "base_uri": "https://localhost:8080/"
        },
        "id": "NMg_APWwfuPf",
        "outputId": "f91491ab-ff26-489b-a028-020ce54c481e"
      },
      "execution_count": 175,
      "outputs": [
        {
          "output_type": "execute_result",
          "data": {
            "text/plain": [
              "tensor([[True],\n",
              "        [True],\n",
              "        [True],\n",
              "        [True],\n",
              "        [True],\n",
              "        [True],\n",
              "        [True],\n",
              "        [True],\n",
              "        [True],\n",
              "        [True]])"
            ]
          },
          "metadata": {},
          "execution_count": 175
        }
      ]
    },
    {
      "cell_type": "markdown",
      "source": [
        "\n"
      ],
      "metadata": {
        "id": "AvEwsKkFgW1Z"
      }
    }
  ]
}
