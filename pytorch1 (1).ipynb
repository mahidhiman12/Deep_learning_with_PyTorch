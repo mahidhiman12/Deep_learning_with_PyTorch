{
  "nbformat": 4,
  "nbformat_minor": 0,
  "metadata": {
    "colab": {
      "provenance": [],
      "toc_visible": true
    },
    "kernelspec": {
      "name": "python3",
      "display_name": "Python 3"
    },
    "language_info": {
      "name": "python"
    }
  },
  "cells": [
    {
      "cell_type": "code",
      "source": [
        "import torch\n",
        "import numpy as np\n",
        "import pandas as pd\n",
        "import matplotlib.pyplot as plt\n",
        "print(torch.__version__)"
      ],
      "metadata": {
        "colab": {
          "base_uri": "https://localhost:8080/"
        },
        "id": "fFxV5VoRz1ni",
        "outputId": "892d510d-f8ef-43a9-de3b-0b05b83e584a"
      },
      "execution_count": null,
      "outputs": [
        {
          "output_type": "stream",
          "name": "stdout",
          "text": [
            "2.6.0+cu124\n"
          ]
        }
      ]
    },
    {
      "cell_type": "markdown",
      "source": [
        "# Intro to tensors:\n"
      ],
      "metadata": {
        "id": "jhQ7pY3rXhDE"
      }
    },
    {
      "cell_type": "markdown",
      "source": [
        "**torch.tensor**:\n",
        "Tensor is a multi-dimensional matrix containing elements of a single data type.\n",
        "\n",
        "A **scalar** is a tensor rank 0, so requires only 1 independent value associated with it"
      ],
      "metadata": {
        "id": "-98BvPzKj3u8"
      }
    },
    {
      "cell_type": "code",
      "source": [
        "# intro to tensors\n",
        "\n",
        "scalar = torch.tensor(6)\n",
        "print(scalar)\n",
        "print(scalar.ndim)\n",
        "print(scalar.shape)"
      ],
      "metadata": {
        "colab": {
          "base_uri": "https://localhost:8080/"
        },
        "id": "VmGjW9D9Wfge",
        "outputId": "16221bf2-474a-4ea7-9369-60de040d3fea"
      },
      "execution_count": null,
      "outputs": [
        {
          "output_type": "stream",
          "name": "stdout",
          "text": [
            "tensor(6)\n",
            "0\n",
            "torch.Size([])\n"
          ]
        }
      ]
    },
    {
      "cell_type": "code",
      "source": [
        "torch.tensor([[1 , 2 , 3] , [ 4, 5 , 6]])"
      ],
      "metadata": {
        "colab": {
          "base_uri": "https://localhost:8080/"
        },
        "id": "Ljju_10rjqbK",
        "outputId": "fa728429-9946-4d0a-d4da-c29a4991058a"
      },
      "execution_count": null,
      "outputs": [
        {
          "output_type": "execute_result",
          "data": {
            "text/plain": [
              "tensor([[1, 2, 3],\n",
              "        [4, 5, 6]])"
            ]
          },
          "metadata": {},
          "execution_count": 5
        }
      ]
    },
    {
      "cell_type": "code",
      "source": [
        "torch.tensor(np.array([[1 , 2 , 3] , [ 4, 5 , 6]]))"
      ],
      "metadata": {
        "colab": {
          "base_uri": "https://localhost:8080/"
        },
        "id": "XlMHRi-Lj4fN",
        "outputId": "e990ffec-8884-4eb0-9b52-4335c4d91274"
      },
      "execution_count": null,
      "outputs": [
        {
          "output_type": "execute_result",
          "data": {
            "text/plain": [
              "tensor([[1, 2, 3],\n",
              "        [4, 5, 6]])"
            ]
          },
          "metadata": {},
          "execution_count": 6
        }
      ]
    },
    {
      "cell_type": "markdown",
      "source": [
        "torch.tensor() always copies data. If you have a Tensor data and just want to change its requires_grad flag, use requires_grad_() or detach() to avoid a copy. If you have a numpy array and want to avoid a copy, use torch.as_tensor()."
      ],
      "metadata": {
        "id": "1elqMPC6mOYV"
      }
    },
    {
      "cell_type": "code",
      "source": [
        "torch.zeros([2,4] )\n"
      ],
      "metadata": {
        "colab": {
          "base_uri": "https://localhost:8080/"
        },
        "id": "KoaHMdr9mQ-p",
        "outputId": "c77f2edf-6ea2-4352-e5a3-6d53e7b69049"
      },
      "execution_count": null,
      "outputs": [
        {
          "output_type": "execute_result",
          "data": {
            "text/plain": [
              "tensor([[0., 0., 0., 0.],\n",
              "        [0., 0., 0., 0.]])"
            ]
          },
          "metadata": {},
          "execution_count": 7
        }
      ]
    },
    {
      "cell_type": "code",
      "source": [
        "torch.zeros([2,4] , dtype = torch.int32)"
      ],
      "metadata": {
        "colab": {
          "base_uri": "https://localhost:8080/"
        },
        "id": "YNJLGkSLmcL0",
        "outputId": "fbdf4a1c-e187-4de6-df96-e9b3677ea7a4"
      },
      "execution_count": null,
      "outputs": [
        {
          "output_type": "execute_result",
          "data": {
            "text/plain": [
              "tensor([[0, 0, 0, 0],\n",
              "        [0, 0, 0, 0]], dtype=torch.int32)"
            ]
          },
          "metadata": {},
          "execution_count": 8
        }
      ]
    },
    {
      "cell_type": "code",
      "source": [
        "x = torch.tensor([[1,4,6] , [9,5,6]])\n",
        "print(x[0][2])\n",
        "x[1][1] = 3\n",
        "\n",
        "x"
      ],
      "metadata": {
        "colab": {
          "base_uri": "https://localhost:8080/"
        },
        "id": "of1XdaMAmo4Z",
        "outputId": "ef02f98a-3442-4563-b9a8-0a4b9b6b7955"
      },
      "execution_count": null,
      "outputs": [
        {
          "output_type": "stream",
          "name": "stdout",
          "text": [
            "tensor(6)\n"
          ]
        },
        {
          "output_type": "execute_result",
          "data": {
            "text/plain": [
              "tensor([[1, 4, 6],\n",
              "        [9, 3, 6]])"
            ]
          },
          "metadata": {},
          "execution_count": 9
        }
      ]
    },
    {
      "cell_type": "code",
      "source": [
        "x = torch.tensor([[1]])\n",
        "print(x)\n",
        "# get tensor as python int - using item()\n",
        "x.item()\n"
      ],
      "metadata": {
        "colab": {
          "base_uri": "https://localhost:8080/"
        },
        "id": "ACre_CrTm4-o",
        "outputId": "a50028c8-38a4-415a-dfa7-9269b1cfa323"
      },
      "execution_count": null,
      "outputs": [
        {
          "output_type": "stream",
          "name": "stdout",
          "text": [
            "tensor([[1]])\n"
          ]
        },
        {
          "output_type": "execute_result",
          "data": {
            "text/plain": [
              "1"
            ]
          },
          "metadata": {},
          "execution_count": 10
        }
      ]
    },
    {
      "cell_type": "code",
      "source": [
        "vector = torch.tensor([1,2,3])\n",
        "print(vector)\n",
        "print(vector.ndim)\n",
        "print(vector.shape)"
      ],
      "metadata": {
        "colab": {
          "base_uri": "https://localhost:8080/"
        },
        "id": "qTMXLuAsnlLs",
        "outputId": "0a0a9a2e-b786-4b58-885b-a94f9c4b7f97"
      },
      "execution_count": null,
      "outputs": [
        {
          "output_type": "stream",
          "name": "stdout",
          "text": [
            "tensor([1, 2, 3])\n",
            "1\n",
            "torch.Size([3])\n"
          ]
        }
      ]
    },
    {
      "cell_type": "code",
      "source": [
        "# MATRIX\n",
        "MATRIX = torch.tensor([[1,2,3] , [4,5,6]])\n",
        "print(MATRIX)\n",
        "print(MATRIX[0])\n",
        "print(MATRIX[1])"
      ],
      "metadata": {
        "colab": {
          "base_uri": "https://localhost:8080/"
        },
        "id": "CwKnyvKqpRlo",
        "outputId": "3287cd17-2684-40df-8508-8dbb1ef111ce"
      },
      "execution_count": null,
      "outputs": [
        {
          "output_type": "stream",
          "name": "stdout",
          "text": [
            "tensor([[1, 2, 3],\n",
            "        [4, 5, 6]])\n",
            "tensor([1, 2, 3])\n",
            "tensor([4, 5, 6])\n"
          ]
        }
      ]
    },
    {
      "cell_type": "code",
      "source": [
        "MATRIX.ndim\n"
      ],
      "metadata": {
        "colab": {
          "base_uri": "https://localhost:8080/"
        },
        "id": "6tTNEzxUqMdd",
        "outputId": "6c5f4845-2b7a-4244-c83b-c1c75a13b150"
      },
      "execution_count": null,
      "outputs": [
        {
          "output_type": "execute_result",
          "data": {
            "text/plain": [
              "2"
            ]
          },
          "metadata": {},
          "execution_count": 13
        }
      ]
    },
    {
      "cell_type": "code",
      "source": [
        "MATRIX.shape"
      ],
      "metadata": {
        "colab": {
          "base_uri": "https://localhost:8080/"
        },
        "id": "RywNFbvXqRVX",
        "outputId": "4c2b985e-c794-4471-e8c6-a000cd0bd307"
      },
      "execution_count": null,
      "outputs": [
        {
          "output_type": "execute_result",
          "data": {
            "text/plain": [
              "torch.Size([2, 3])"
            ]
          },
          "metadata": {},
          "execution_count": 14
        }
      ]
    },
    {
      "cell_type": "markdown",
      "source": [
        "**scalar**:\n",
        " ndim: no of square brackets -> 0\n",
        "\n",
        "**vector**:\n",
        "shape : no of elements\n",
        "ndim : no of square brackets -> 1\n",
        "\n",
        "**matrix**:\n",
        "shape : no of rows , col\n",
        "ndim : no of square brackets -> 2\n",
        "\n",
        "**tensor**:\n",
        "ndim : no of square brackets -> 3 or more\n",
        "\n",
        "shape : eg : 1 , 3, 3 means 1 3x3 shape tensor ( 1 dimension of 3x3)\n",
        "very outer bracket matches with 1 , then next one matches with row , last with col"
      ],
      "metadata": {
        "id": "y2U6n5GVqndr"
      }
    },
    {
      "cell_type": "code",
      "source": [
        "TENSOR =  torch.tensor([[[1,4,5],\n",
        "                         [3,4,5],\n",
        "                         [6,7,4]]])\n",
        "print(TENSOR)\n",
        "print(TENSOR.ndim)\n",
        "print(TENSOR.shape)"
      ],
      "metadata": {
        "colab": {
          "base_uri": "https://localhost:8080/"
        },
        "id": "YQQeKsN1qTM8",
        "outputId": "f3447b5f-26bc-45a1-ab28-1ef83c974412"
      },
      "execution_count": null,
      "outputs": [
        {
          "output_type": "stream",
          "name": "stdout",
          "text": [
            "tensor([[[1, 4, 5],\n",
            "         [3, 4, 5],\n",
            "         [6, 7, 4]]])\n",
            "3\n",
            "torch.Size([1, 3, 3])\n"
          ]
        }
      ]
    },
    {
      "cell_type": "code",
      "source": [
        "# torch.size([1,3,3])\n",
        "# indexes : torch.size([0,1,2])\n",
        "# LOOK AT THE BRACKETS:\n",
        "TENSOR[0]"
      ],
      "metadata": {
        "colab": {
          "base_uri": "https://localhost:8080/"
        },
        "id": "sQPKmtDhsLGl",
        "outputId": "c603ae3a-ed3a-40b5-b613-40fc23606a94"
      },
      "execution_count": null,
      "outputs": [
        {
          "output_type": "execute_result",
          "data": {
            "text/plain": [
              "tensor([[1, 4, 5],\n",
              "        [3, 4, 5],\n",
              "        [6, 7, 4]])"
            ]
          },
          "metadata": {},
          "execution_count": 16
        }
      ]
    },
    {
      "cell_type": "code",
      "source": [
        "\n",
        "TENSOR1 =  torch.tensor([[[[1,4,5],\n",
        "                         [3,4,5],\n",
        "                         [6,7,4]]]])\n",
        "TENSOR1.ndim"
      ],
      "metadata": {
        "colab": {
          "base_uri": "https://localhost:8080/"
        },
        "id": "rbDtKZXRtA7Z",
        "outputId": "ef0fe650-a971-4430-f6a5-d7b9a5d89fb5"
      },
      "execution_count": null,
      "outputs": [
        {
          "output_type": "execute_result",
          "data": {
            "text/plain": [
              "4"
            ]
          },
          "metadata": {},
          "execution_count": 17
        }
      ]
    },
    {
      "cell_type": "code",
      "source": [
        "TENSOR1.shape"
      ],
      "metadata": {
        "colab": {
          "base_uri": "https://localhost:8080/"
        },
        "id": "cTuL_0o8tSn1",
        "outputId": "23251f9c-df89-4e8d-d30f-af9b703c13db"
      },
      "execution_count": null,
      "outputs": [
        {
          "output_type": "execute_result",
          "data": {
            "text/plain": [
              "torch.Size([1, 1, 3, 3])"
            ]
          },
          "metadata": {},
          "execution_count": 18
        }
      ]
    },
    {
      "cell_type": "code",
      "source": [
        "TENSOR2 =  torch.tensor([[[[[1,4,5],\n",
        "                         [3,4,5],\n",
        "                         [6,7,4]]]]])\n",
        "TENSOR2.shape\n",
        "\n"
      ],
      "metadata": {
        "colab": {
          "base_uri": "https://localhost:8080/"
        },
        "id": "mx8UN_4suBxB",
        "outputId": "1cd7881c-e628-4b47-d78f-35466bda9c9a"
      },
      "execution_count": null,
      "outputs": [
        {
          "output_type": "execute_result",
          "data": {
            "text/plain": [
              "torch.Size([1, 1, 1, 3, 3])"
            ]
          },
          "metadata": {},
          "execution_count": 19
        }
      ]
    },
    {
      "cell_type": "markdown",
      "source": [
        "*A tensor can represent any shape or size, or any combinations of number*\n",
        "\n",
        "\n",
        "\n"
      ],
      "metadata": {
        "id": "In_q2grKub6c"
      }
    },
    {
      "cell_type": "markdown",
      "source": [
        "**usually:** a scalar and a vector is written by a lowercase and matrix or tensor is written by uppercase"
      ],
      "metadata": {
        "id": "S3VEjGTJu6_K"
      }
    },
    {
      "cell_type": "markdown",
      "source": [
        "### random tensors:"
      ],
      "metadata": {
        "id": "XmXWj7Nd2lLh"
      }
    },
    {
      "cell_type": "code",
      "source": [
        "# torch.rand(rows,cols)\n",
        "random_tensor = torch.rand(3,4)\n",
        "random_tensor"
      ],
      "metadata": {
        "colab": {
          "base_uri": "https://localhost:8080/"
        },
        "id": "_RRd3OjLujfQ",
        "outputId": "dd5f7326-1869-47b6-95a4-701290af84e1"
      },
      "execution_count": null,
      "outputs": [
        {
          "output_type": "execute_result",
          "data": {
            "text/plain": [
              "tensor([[0.0729, 0.2049, 0.3889, 0.8900],\n",
              "        [0.5691, 0.5886, 0.0353, 0.2424],\n",
              "        [0.8112, 0.2993, 0.9105, 0.0957]])"
            ]
          },
          "metadata": {},
          "execution_count": 20
        }
      ]
    },
    {
      "cell_type": "code",
      "source": [
        "random_tensor.ndim"
      ],
      "metadata": {
        "colab": {
          "base_uri": "https://localhost:8080/"
        },
        "id": "1J8MSjmGujb0",
        "outputId": "419cfd70-50ef-496d-d7ba-c248e31efb45"
      },
      "execution_count": null,
      "outputs": [
        {
          "output_type": "execute_result",
          "data": {
            "text/plain": [
              "2"
            ]
          },
          "metadata": {},
          "execution_count": 21
        }
      ]
    },
    {
      "cell_type": "code",
      "source": [
        " random_tensor.shape"
      ],
      "metadata": {
        "colab": {
          "base_uri": "https://localhost:8080/"
        },
        "id": "IXgbeOd-uafe",
        "outputId": "31141c2b-535f-4635-9e2b-d2a31beebb12"
      },
      "execution_count": null,
      "outputs": [
        {
          "output_type": "execute_result",
          "data": {
            "text/plain": [
              "torch.Size([3, 4])"
            ]
          },
          "metadata": {},
          "execution_count": 22
        }
      ]
    },
    {
      "cell_type": "code",
      "source": [
        "random_TENSOR2 = torch.rand(1,3,4)\n",
        "random_TENSOR2"
      ],
      "metadata": {
        "colab": {
          "base_uri": "https://localhost:8080/"
        },
        "id": "WFWk9rvLuIkl",
        "outputId": "a973582b-b342-41b6-e204-568f71011fa8"
      },
      "execution_count": null,
      "outputs": [
        {
          "output_type": "execute_result",
          "data": {
            "text/plain": [
              "tensor([[[0.1138, 0.4928, 0.2722, 0.5554],\n",
              "         [0.2291, 0.5373, 0.8972, 0.9094],\n",
              "         [0.0793, 0.5103, 0.3663, 0.0974]]])"
            ]
          },
          "metadata": {},
          "execution_count": 23
        }
      ]
    },
    {
      "cell_type": "code",
      "source": [
        "random_TENSOR2.shape"
      ],
      "metadata": {
        "colab": {
          "base_uri": "https://localhost:8080/"
        },
        "id": "xcxsdIdA3OKE",
        "outputId": "b198ca40-9a39-46ba-9fe4-c80a610c9ec4"
      },
      "execution_count": null,
      "outputs": [
        {
          "output_type": "execute_result",
          "data": {
            "text/plain": [
              "torch.Size([1, 3, 4])"
            ]
          },
          "metadata": {},
          "execution_count": 24
        }
      ]
    },
    {
      "cell_type": "code",
      "source": [
        "random_TENSOR2.ndim"
      ],
      "metadata": {
        "colab": {
          "base_uri": "https://localhost:8080/"
        },
        "id": "qga9eAV23Qsq",
        "outputId": "8de96c7c-bc78-4beb-f75b-3d1dd8d814db"
      },
      "execution_count": null,
      "outputs": [
        {
          "output_type": "execute_result",
          "data": {
            "text/plain": [
              "3"
            ]
          },
          "metadata": {},
          "execution_count": 25
        }
      ]
    },
    {
      "cell_type": "code",
      "source": [
        "# create a random tensor with similar shape to an image tensor\n",
        "random_image_size_tensor = torch.rand(size=(224,224,3) )\n",
        "# height , width , color channel = 224 , 224 , 3\n",
        "random_image_size_tensor.shape , random_image_size_tensor.ndim"
      ],
      "metadata": {
        "colab": {
          "base_uri": "https://localhost:8080/"
        },
        "id": "yajeW1fx3Uu9",
        "outputId": "0136646a-7deb-4ce3-963d-acce6dee0eba"
      },
      "execution_count": null,
      "outputs": [
        {
          "output_type": "execute_result",
          "data": {
            "text/plain": [
              "(torch.Size([224, 224, 3]), 3)"
            ]
          },
          "metadata": {},
          "execution_count": 26
        }
      ]
    },
    {
      "cell_type": "markdown",
      "source": [
        "ALMOST ANY DATA CAN BE REPRESENTED AS TENSORS , ONE OF THE COMMON WAYS OF REPRESENTING IMAGE DATA IS TO COLOR CHANNEL , HEIGHT , WIDTH OR HEIGHT , WIDTH , COLOR CHANNEL\n"
      ],
      "metadata": {
        "id": "0W0Itj_W4QNb"
      }
    },
    {
      "cell_type": "markdown",
      "source": [
        "### zeros and ones tensor"
      ],
      "metadata": {
        "id": "xmopsbqG42Zy"
      }
    },
    {
      "cell_type": "code",
      "source": [
        "# tensor of all zeroes:\n",
        "zeroes = torch.zeros(size=(3,4))\n",
        "zeroes"
      ],
      "metadata": {
        "colab": {
          "base_uri": "https://localhost:8080/"
        },
        "id": "DyQhZ-EP4CD3",
        "outputId": "bfe41700-969b-4489-c1c3-593e531bdba2"
      },
      "execution_count": null,
      "outputs": [
        {
          "output_type": "execute_result",
          "data": {
            "text/plain": [
              "tensor([[0., 0., 0., 0.],\n",
              "        [0., 0., 0., 0.],\n",
              "        [0., 0., 0., 0.]])"
            ]
          },
          "metadata": {},
          "execution_count": 27
        }
      ]
    },
    {
      "cell_type": "code",
      "source": [
        "zeroes1 = torch.zeros((3,4))\n",
        "zeroes1"
      ],
      "metadata": {
        "colab": {
          "base_uri": "https://localhost:8080/"
        },
        "id": "mURn3JNe5Avr",
        "outputId": "b654a857-eced-4fc9-e7c8-9ca07db86e54"
      },
      "execution_count": null,
      "outputs": [
        {
          "output_type": "execute_result",
          "data": {
            "text/plain": [
              "tensor([[0., 0., 0., 0.],\n",
              "        [0., 0., 0., 0.],\n",
              "        [0., 0., 0., 0.]])"
            ]
          },
          "metadata": {},
          "execution_count": 28
        }
      ]
    },
    {
      "cell_type": "code",
      "source": [
        "random_value_tensor = torch.rand(3,4)\n",
        "random_value_tensor"
      ],
      "metadata": {
        "colab": {
          "base_uri": "https://localhost:8080/"
        },
        "id": "huXRWj075K2s",
        "outputId": "4650cce5-8c25-4db6-e0b5-13e5d01c490f"
      },
      "execution_count": null,
      "outputs": [
        {
          "output_type": "execute_result",
          "data": {
            "text/plain": [
              "tensor([[0.5065, 0.2327, 0.5243, 0.5021],\n",
              "        [0.1696, 0.1876, 0.5327, 0.3028],\n",
              "        [0.4147, 0.2632, 0.1827, 0.5467]])"
            ]
          },
          "metadata": {},
          "execution_count": 29
        }
      ]
    },
    {
      "cell_type": "code",
      "source": [
        "zeroes1*random_value_tensor"
      ],
      "metadata": {
        "colab": {
          "base_uri": "https://localhost:8080/"
        },
        "id": "yDctmcgg5ZFY",
        "outputId": "30eee8eb-17ae-4f0c-a639-ad2dc0eea5b7"
      },
      "execution_count": null,
      "outputs": [
        {
          "output_type": "execute_result",
          "data": {
            "text/plain": [
              "tensor([[0., 0., 0., 0.],\n",
              "        [0., 0., 0., 0.],\n",
              "        [0., 0., 0., 0.]])"
            ]
          },
          "metadata": {},
          "execution_count": 30
        }
      ]
    },
    {
      "cell_type": "code",
      "source": [
        "# tensor of all ones:\n",
        "ones = torch.ones((3,4) )\n",
        "ones , ones.dtype"
      ],
      "metadata": {
        "colab": {
          "base_uri": "https://localhost:8080/"
        },
        "id": "DjnbT35Y5e-n",
        "outputId": "9db6fead-be01-4b17-93b5-8e94d601122e"
      },
      "execution_count": null,
      "outputs": [
        {
          "output_type": "execute_result",
          "data": {
            "text/plain": [
              "(tensor([[1., 1., 1., 1.],\n",
              "         [1., 1., 1., 1.],\n",
              "         [1., 1., 1., 1.]]),\n",
              " torch.float32)"
            ]
          },
          "metadata": {},
          "execution_count": 31
        }
      ]
    },
    {
      "cell_type": "markdown",
      "source": [
        "# creating a range of tensors and tensors - like"
      ],
      "metadata": {
        "id": "pECCCT2tbeNV"
      }
    },
    {
      "cell_type": "code",
      "source": [
        "one_to_ten = torch.arange(1 , 11)\n",
        "one_to_ten"
      ],
      "metadata": {
        "id": "9HiruM4a5ws-",
        "colab": {
          "base_uri": "https://localhost:8080/"
        },
        "outputId": "441b9341-a2c7-4371-9737-5e9d23aee601"
      },
      "execution_count": null,
      "outputs": [
        {
          "output_type": "execute_result",
          "data": {
            "text/plain": [
              "tensor([ 1,  2,  3,  4,  5,  6,  7,  8,  9, 10])"
            ]
          },
          "metadata": {},
          "execution_count": 32
        }
      ]
    },
    {
      "cell_type": "code",
      "source": [
        "step_one_to_twenty = torch.arange(start = 1 , end = 20 , step = 4)\n",
        "step_one_to_twenty"
      ],
      "metadata": {
        "colab": {
          "base_uri": "https://localhost:8080/"
        },
        "id": "Q9iZ_gSZbsku",
        "outputId": "b87a552c-761a-4690-fa4b-4b5dbb58c75a"
      },
      "execution_count": null,
      "outputs": [
        {
          "output_type": "execute_result",
          "data": {
            "text/plain": [
              "tensor([ 1,  5,  9, 13, 17])"
            ]
          },
          "metadata": {},
          "execution_count": 33
        }
      ]
    },
    {
      "cell_type": "code",
      "source": [
        "#  if we want to create a tensor full of zeros and has the same shape as one_to_ten we can use tensor like or zeros like\n",
        "ten_zeros = torch.zeros_like(one_to_ten)\n",
        "ten_zeros"
      ],
      "metadata": {
        "colab": {
          "base_uri": "https://localhost:8080/"
        },
        "id": "qW9HBkPicWu2",
        "outputId": "f91a9a0b-dde8-4c96-dc39-53cfed85bd60"
      },
      "execution_count": null,
      "outputs": [
        {
          "output_type": "execute_result",
          "data": {
            "text/plain": [
              "tensor([0, 0, 0, 0, 0, 0, 0, 0, 0, 0])"
            ]
          },
          "metadata": {},
          "execution_count": 34
        }
      ]
    },
    {
      "cell_type": "markdown",
      "source": [
        "# Tensor datatypes"
      ],
      "metadata": {
        "id": "xNvk9Fe1dlww"
      }
    },
    {
      "cell_type": "markdown",
      "source": [
        "The default dtypes even if we specify as none are int64 for integer and float32 for float"
      ],
      "metadata": {
        "id": "j6jOKKtheI7A"
      }
    },
    {
      "cell_type": "code",
      "source": [
        "no_datatype_tensor = torch.tensor([3,6,8] , dtype = None)\n",
        "no_datatype_tensor.dtype"
      ],
      "metadata": {
        "colab": {
          "base_uri": "https://localhost:8080/"
        },
        "id": "78OILeIEdb1k",
        "outputId": "e6be3689-c179-4add-e77f-fe5ede44811c"
      },
      "execution_count": null,
      "outputs": [
        {
          "output_type": "execute_result",
          "data": {
            "text/plain": [
              "torch.int64"
            ]
          },
          "metadata": {},
          "execution_count": 35
        }
      ]
    },
    {
      "cell_type": "code",
      "source": [
        "no_datatype_tensor = torch.tensor([3.0,6.0,8.0] , dtype = None)\n",
        "no_datatype_tensor.dtype"
      ],
      "metadata": {
        "colab": {
          "base_uri": "https://localhost:8080/"
        },
        "id": "EiVhYDuidbyB",
        "outputId": "7769c9f7-8033-444e-cae4-264e70b01435"
      },
      "execution_count": null,
      "outputs": [
        {
          "output_type": "execute_result",
          "data": {
            "text/plain": [
              "torch.float32"
            ]
          },
          "metadata": {},
          "execution_count": 36
        }
      ]
    },
    {
      "cell_type": "code",
      "source": [
        "no_datatype_tensor = torch.tensor([3.0,6.0,8.0] , dtype = torch.float16)\n",
        "no_datatype_tensor.dtype"
      ],
      "metadata": {
        "colab": {
          "base_uri": "https://localhost:8080/"
        },
        "id": "H4mt3wt0dbvs",
        "outputId": "2647e4c1-6f57-4679-d675-e604b2fb6dd3"
      },
      "execution_count": null,
      "outputs": [
        {
          "output_type": "execute_result",
          "data": {
            "text/plain": [
              "torch.float16"
            ]
          },
          "metadata": {},
          "execution_count": 37
        }
      ]
    },
    {
      "cell_type": "markdown",
      "source": [
        "Some of the important parameters of torch.tensor are dtype , device , requires_grad\n",
        "\n",
        "you can calculate faster if numbers take less memory\n",
        "*   single-precision floating-point :float32 (32 bits in computer memory)\n",
        "*   half-precision floating point :float16\n",
        "\n",
        " the **precision** of a numerical quantity is a measure of the detail in which the quantity is expressed\n",
        "\n",
        " tensor dtypes is one of the 3 big errors youll run into with pytorch and deep learning:\n",
        "\n",
        "\n",
        "1.   Tensor not right datatype\n",
        "2.   Tensor not right shape\n",
        "3.   Tensor not on right device\n",
        "\n",
        "**Shape** :same concept as matrix multiplication\n",
        "\n",
        "**device** : if one tensors on gpu for fast computing and another tensor is on cpu and you want to do some operations on them : then youll run into not right device error.\n",
        "    device = \"cuda\"\n",
        "    or device = \"cpu\"\n",
        "\n",
        "\n",
        "**Requires_grad** : if you want pytorch to track gradients when pytorch goes through certain calculations"
      ],
      "metadata": {
        "id": "vWiOjYcweeOb"
      }
    },
    {
      "cell_type": "code",
      "source": [
        "float_32_tensor = torch.tensor([3.0 , 5.0 , 7.0] , dtype = torch.float32 ,\n",
        "                               device = None , requires_grad = False)\n",
        "float_32_tensor.device"
      ],
      "metadata": {
        "colab": {
          "base_uri": "https://localhost:8080/"
        },
        "id": "M9SuDygGdbi9",
        "outputId": "c4152298-bd6d-4aee-e84c-37c681375bea"
      },
      "execution_count": null,
      "outputs": [
        {
          "output_type": "execute_result",
          "data": {
            "text/plain": [
              "device(type='cpu')"
            ]
          },
          "metadata": {},
          "execution_count": 38
        }
      ]
    },
    {
      "cell_type": "code",
      "source": [
        "# we can use either torch.float16 or torch.half\n",
        "float_16_tensor = float_32_tensor.type(torch.half)\n",
        "float_16_tensor"
      ],
      "metadata": {
        "colab": {
          "base_uri": "https://localhost:8080/"
        },
        "id": "hcSxHbihhwmU",
        "outputId": "e42d3439-a314-4b83-ac73-8e8cadc7db4f"
      },
      "execution_count": null,
      "outputs": [
        {
          "output_type": "execute_result",
          "data": {
            "text/plain": [
              "tensor([3., 5., 7.], dtype=torch.float16)"
            ]
          },
          "metadata": {},
          "execution_count": 39
        }
      ]
    },
    {
      "cell_type": "code",
      "source": [
        "different_datatype_mul = float_32_tensor*float_16_tensor\n",
        "different_datatype_mul , different_datatype_mul.dtype"
      ],
      "metadata": {
        "colab": {
          "base_uri": "https://localhost:8080/"
        },
        "id": "YDQKBUhGhwij",
        "outputId": "a0b11e82-73a8-41e3-9f2b-4ad7a8145d6f"
      },
      "execution_count": null,
      "outputs": [
        {
          "output_type": "execute_result",
          "data": {
            "text/plain": [
              "(tensor([ 9., 25., 49.]), torch.float32)"
            ]
          },
          "metadata": {},
          "execution_count": 40
        }
      ]
    },
    {
      "cell_type": "code",
      "source": [
        "int_32_tensor = torch.tensor([3,4,5] , dtype = torch.int32)\n",
        "int_32_tensor"
      ],
      "metadata": {
        "colab": {
          "base_uri": "https://localhost:8080/"
        },
        "id": "aY0KaDCIhweS",
        "outputId": "5d76046e-e012-460c-dffa-e7d2daa70285"
      },
      "execution_count": null,
      "outputs": [
        {
          "output_type": "execute_result",
          "data": {
            "text/plain": [
              "tensor([3, 4, 5], dtype=torch.int32)"
            ]
          },
          "metadata": {},
          "execution_count": 41
        }
      ]
    },
    {
      "cell_type": "code",
      "source": [
        "int_32_tensor * float_16_tensor"
      ],
      "metadata": {
        "colab": {
          "base_uri": "https://localhost:8080/"
        },
        "id": "zyZ0HMj2jF-0",
        "outputId": "e7d423b5-2ed6-42f9-b432-68601a8fa292"
      },
      "execution_count": null,
      "outputs": [
        {
          "output_type": "execute_result",
          "data": {
            "text/plain": [
              "tensor([ 9., 20., 35.], dtype=torch.float16)"
            ]
          },
          "metadata": {},
          "execution_count": 42
        }
      ]
    },
    {
      "cell_type": "code",
      "source": [
        "some_tensor = torch.rand(4,5)\n",
        "some_tensor"
      ],
      "metadata": {
        "colab": {
          "base_uri": "https://localhost:8080/"
        },
        "id": "DHHV5UoZmDLU",
        "outputId": "afd5a17d-e4fb-42ef-f8ad-3d3312439bf3"
      },
      "execution_count": null,
      "outputs": [
        {
          "output_type": "execute_result",
          "data": {
            "text/plain": [
              "tensor([[0.6795, 0.8188, 0.7430, 0.2862, 0.5327],\n",
              "        [0.9542, 0.9767, 0.0605, 0.7710, 0.2675],\n",
              "        [0.3736, 0.1157, 0.7810, 0.7919, 0.8074],\n",
              "        [0.4027, 0.5471, 0.8216, 0.1889, 0.8424]])"
            ]
          },
          "metadata": {},
          "execution_count": 43
        }
      ]
    },
    {
      "cell_type": "markdown",
      "source": [
        "tensor.shape is an attribute and tensor.size() is a function and both give same values"
      ],
      "metadata": {
        "id": "uoHA_tdPnAgs"
      }
    },
    {
      "cell_type": "code",
      "source": [
        "print(some_tensor)\n",
        "print(f\"Datatye of tensor : {some_tensor.dtype}\")\n",
        "print(f\"Shape of tensor : {some_tensor.shape}\")\n",
        "print(f\"Size of tensor : {some_tensor.size()}\")\n",
        "print(f\"Device tensor is on : {some_tensor.device}\")"
      ],
      "metadata": {
        "colab": {
          "base_uri": "https://localhost:8080/"
        },
        "id": "ShQsrr3KmDHQ",
        "outputId": "435e1da4-12aa-4286-ca08-923f824c280e"
      },
      "execution_count": null,
      "outputs": [
        {
          "output_type": "stream",
          "name": "stdout",
          "text": [
            "tensor([[0.6795, 0.8188, 0.7430, 0.2862, 0.5327],\n",
            "        [0.9542, 0.9767, 0.0605, 0.7710, 0.2675],\n",
            "        [0.3736, 0.1157, 0.7810, 0.7919, 0.8074],\n",
            "        [0.4027, 0.5471, 0.8216, 0.1889, 0.8424]])\n",
            "Datatye of tensor : torch.float32\n",
            "Shape of tensor : torch.Size([4, 5])\n",
            "Size of tensor : torch.Size([4, 5])\n",
            "Device tensor is on : cpu\n"
          ]
        }
      ]
    },
    {
      "cell_type": "markdown",
      "source": [
        "### Manipulating tensors (tensor operations)"
      ],
      "metadata": {
        "id": "pm-y0QZ5nzFn"
      }
    },
    {
      "cell_type": "markdown",
      "source": [
        "Tensor operations include ⁉\n",
        "\n",
        "\n",
        "1.   Addition\n",
        "2.   Subtraction\n",
        "3.   Multiplication(element wise)\n",
        "4.   Division\n",
        "5.   Matrix multiplication\n",
        "\n"
      ],
      "metadata": {
        "id": "_c8Vs6Ofn4RM"
      }
    },
    {
      "cell_type": "code",
      "source": [
        "tensor_op_addition = torch.tensor([1,2,3])\n",
        "tensor_op_addition + 10"
      ],
      "metadata": {
        "colab": {
          "base_uri": "https://localhost:8080/"
        },
        "id": "k1KpKASRoIWA",
        "outputId": "046c217c-f4b7-4d55-e798-ccad620fa59e"
      },
      "execution_count": null,
      "outputs": [
        {
          "output_type": "execute_result",
          "data": {
            "text/plain": [
              "tensor([11, 12, 13])"
            ]
          },
          "metadata": {},
          "execution_count": 45
        }
      ]
    },
    {
      "cell_type": "code",
      "source": [
        "tensor_op_addition * 10"
      ],
      "metadata": {
        "colab": {
          "base_uri": "https://localhost:8080/"
        },
        "id": "BEiyH3Jzma_s",
        "outputId": "e26acc62-304e-4f47-eaff-957858aae5f0"
      },
      "execution_count": null,
      "outputs": [
        {
          "output_type": "execute_result",
          "data": {
            "text/plain": [
              "tensor([10, 20, 30])"
            ]
          },
          "metadata": {},
          "execution_count": 46
        }
      ]
    },
    {
      "cell_type": "code",
      "source": [
        "tensor_op_addition - 10"
      ],
      "metadata": {
        "colab": {
          "base_uri": "https://localhost:8080/"
        },
        "id": "A_P4Vty2owg8",
        "outputId": "cddf52c0-49bd-4e78-c9d3-a530323b8dbe"
      },
      "execution_count": null,
      "outputs": [
        {
          "output_type": "execute_result",
          "data": {
            "text/plain": [
              "tensor([-9, -8, -7])"
            ]
          },
          "metadata": {},
          "execution_count": 47
        }
      ]
    },
    {
      "cell_type": "code",
      "source": [
        "# built in pytorch functions\n",
        "torch.mul(tensor_op_addition , 20)\n"
      ],
      "metadata": {
        "colab": {
          "base_uri": "https://localhost:8080/"
        },
        "id": "zjmbG94HowdM",
        "outputId": "9cd85a9d-b037-4326-d412-0dd46ec35b63"
      },
      "execution_count": null,
      "outputs": [
        {
          "output_type": "execute_result",
          "data": {
            "text/plain": [
              "tensor([20, 40, 60])"
            ]
          },
          "metadata": {},
          "execution_count": 48
        }
      ]
    },
    {
      "cell_type": "markdown",
      "source": [
        "**Matrix multiplication**\n",
        "\n",
        "There are 2 ways of performing multiplication in deep learning:\n",
        "\n",
        "*  Element-wise multiplication\n",
        "*  Matrix multiplication\n",
        "\n",
        "matrixmultiplication.xyz site is a good resource to learn matrix multiplication"
      ],
      "metadata": {
        "id": "Otfrm2cK7Sgm"
      }
    },
    {
      "cell_type": "code",
      "source": [
        "# element-wise multiplication\n",
        "tensor_mul = torch.tensor([1,2,3])\n",
        "print(tensor_mul , \"*\" , tensor_mul)\n",
        "print(f\"Tensor Element-wise multiplication : {tensor_mul * tensor_mul}\")"
      ],
      "metadata": {
        "colab": {
          "base_uri": "https://localhost:8080/"
        },
        "id": "hMLwiLMn7gA3",
        "outputId": "37732f38-d13c-4ed2-93ce-345f7393a36e"
      },
      "execution_count": null,
      "outputs": [
        {
          "output_type": "stream",
          "name": "stdout",
          "text": [
            "tensor([1, 2, 3]) * tensor([1, 2, 3])\n",
            "Tensor Element-wise multiplication : tensor([1, 4, 9])\n"
          ]
        }
      ]
    },
    {
      "cell_type": "markdown",
      "source": [
        "You can either use matmul or @ like:\n",
        "\n",
        "\n",
        "*   torch.matmul()\n",
        "*   tensor @ tensor\n",
        "*   torch.mm()\n",
        "\n",
        "Important points about matrix multiplication are:\n",
        "\n",
        "\n",
        "1.   the no of columns of first tensor should be equal to the no of rows of second tensor :\n",
        "\n",
        "   eg :   \n",
        "         tensor1's order = MxN\n",
        "   \n",
        "         tensor2's order = NxS\n",
        "\n",
        "  \n",
        "2.   The order of resulting matrix will be row of first tensor x col of second tensor that is:\n",
        "\n",
        "          M x S\n",
        "\n",
        "\n"
      ],
      "metadata": {
        "id": "mmUOQBFS_TIN"
      }
    },
    {
      "cell_type": "code",
      "source": [
        "# matrix multiplication - matmul\n",
        "# here if the tensor is [1,2,3] then the matrix mul will be 1*1+2*2+3*3\n",
        "%%time\n",
        "torch.matmul(tensor_mul , tensor_mul)\n"
      ],
      "metadata": {
        "id": "RaPlZJOBowZ5",
        "colab": {
          "base_uri": "https://localhost:8080/"
        },
        "outputId": "c786b39a-2e95-4106-ff99-ced44476ed8d"
      },
      "execution_count": null,
      "outputs": [
        {
          "output_type": "stream",
          "name": "stdout",
          "text": [
            "CPU times: user 386 µs, sys: 0 ns, total: 386 µs\n",
            "Wall time: 297 µs\n"
          ]
        },
        {
          "output_type": "execute_result",
          "data": {
            "text/plain": [
              "tensor(14)"
            ]
          },
          "metadata": {},
          "execution_count": 57
        }
      ]
    },
    {
      "cell_type": "code",
      "source": [
        "%%time\n",
        "value = 0\n",
        "for i in range(len(tensor_mul)):\n",
        "  value += tensor_mul[i]*tensor_mul[i]\n",
        "print(value)"
      ],
      "metadata": {
        "colab": {
          "base_uri": "https://localhost:8080/"
        },
        "id": "PeFiggow9vVB",
        "outputId": "c8f81268-6920-4778-ce34-4933a519a7ca"
      },
      "execution_count": null,
      "outputs": [
        {
          "output_type": "stream",
          "name": "stdout",
          "text": [
            "tensor(14)\n",
            "CPU times: user 2.18 ms, sys: 15 µs, total: 2.19 ms\n",
            "Wall time: 1.88 ms\n"
          ]
        }
      ]
    },
    {
      "cell_type": "markdown",
      "source": [
        "We can also do this with the for loop but if pytorch already has a built in function for something complex then its better to use the built in function only because its fast\n",
        "\n",
        "\n",
        "in the above example\n",
        "*  Time with matmul function : 297 micro seconds\n",
        "*  Time with loop : 1.88 milli seconds\n",
        "\n",
        "(note that the time will change when we run it again)\n",
        "\n"
      ],
      "metadata": {
        "id": "XIldzDQC9gwe"
      }
    },
    {
      "cell_type": "code",
      "source": [
        "# example - if we try to multiply 2 tensors of order [3,2] , [3,2]\n",
        "# that wont work - we get a shape error\n",
        "torch.matmul(torch.rand(3,2) , torch.rand(3,2))"
      ],
      "metadata": {
        "colab": {
          "base_uri": "https://localhost:8080/",
          "height": 182
        },
        "id": "3bTTjN3k-PWI",
        "outputId": "0620a7c3-adc7-41c3-ac46-115d83e3d64a"
      },
      "execution_count": null,
      "outputs": [
        {
          "output_type": "error",
          "ename": "RuntimeError",
          "evalue": "mat1 and mat2 shapes cannot be multiplied (3x2 and 3x2)",
          "traceback": [
            "\u001b[0;31m---------------------------------------------------------------------------\u001b[0m",
            "\u001b[0;31mRuntimeError\u001b[0m                              Traceback (most recent call last)",
            "\u001b[0;32m/tmp/ipython-input-73-4065578500.py\u001b[0m in \u001b[0;36m<cell line: 0>\u001b[0;34m()\u001b[0m\n\u001b[1;32m      1\u001b[0m \u001b[0;31m# example - if we try to multiply 2 tensors of order [3,2] , [3,2]\u001b[0m\u001b[0;34m\u001b[0m\u001b[0;34m\u001b[0m\u001b[0m\n\u001b[1;32m      2\u001b[0m \u001b[0;31m# that wont work - we get a shape error\u001b[0m\u001b[0;34m\u001b[0m\u001b[0;34m\u001b[0m\u001b[0m\n\u001b[0;32m----> 3\u001b[0;31m \u001b[0mtorch\u001b[0m\u001b[0;34m.\u001b[0m\u001b[0mmatmul\u001b[0m\u001b[0;34m(\u001b[0m\u001b[0mtorch\u001b[0m\u001b[0;34m.\u001b[0m\u001b[0mrand\u001b[0m\u001b[0;34m(\u001b[0m\u001b[0;36m3\u001b[0m\u001b[0;34m,\u001b[0m\u001b[0;36m2\u001b[0m\u001b[0;34m)\u001b[0m \u001b[0;34m,\u001b[0m \u001b[0mtorch\u001b[0m\u001b[0;34m.\u001b[0m\u001b[0mrand\u001b[0m\u001b[0;34m(\u001b[0m\u001b[0;36m3\u001b[0m\u001b[0;34m,\u001b[0m\u001b[0;36m2\u001b[0m\u001b[0;34m)\u001b[0m\u001b[0;34m)\u001b[0m\u001b[0;34m\u001b[0m\u001b[0;34m\u001b[0m\u001b[0m\n\u001b[0m",
            "\u001b[0;31mRuntimeError\u001b[0m: mat1 and mat2 shapes cannot be multiplied (3x2 and 3x2)"
          ]
        }
      ]
    },
    {
      "cell_type": "code",
      "source": [
        "# but if we try to multiply two tensors of order [3,2] , [2,3] that will work\n",
        "torch.matmul(torch.rand(3,2) , torch.rand(2,3))"
      ],
      "metadata": {
        "colab": {
          "base_uri": "https://localhost:8080/"
        },
        "id": "vPncYkH6Awr7",
        "outputId": "49f2fdb5-df3c-4ab0-f6a5-f6719cc63be9"
      },
      "execution_count": null,
      "outputs": [
        {
          "output_type": "execute_result",
          "data": {
            "text/plain": [
              "tensor([[0.6136, 0.9717, 0.2482],\n",
              "        [0.0970, 0.2015, 0.0324],\n",
              "        [0.3059, 0.3656, 0.1407]])"
            ]
          },
          "metadata": {},
          "execution_count": 60
        }
      ]
    },
    {
      "cell_type": "code",
      "source": [
        "# another shape error example\n",
        "tensor_A = torch.tensor([[1,2],\n",
        "                         [3,4],\n",
        "                         [5,6]])\n",
        "\n",
        "tensor_B = torch.tensor([[6,7],\n",
        "                         [4,7],\n",
        "                         [3,9]])\n",
        "\n",
        "torch.matmul(tensor_A, tensor_B)"
      ],
      "metadata": {
        "colab": {
          "base_uri": "https://localhost:8080/",
          "height": 182
        },
        "id": "UmR7UxFZBgSN",
        "outputId": "8f879889-ae98-477a-a561-d4ffdaf27c2a"
      },
      "execution_count": null,
      "outputs": [
        {
          "output_type": "error",
          "ename": "RuntimeError",
          "evalue": "mat1 and mat2 shapes cannot be multiplied (3x2 and 3x2)",
          "traceback": [
            "\u001b[0;31m---------------------------------------------------------------------------\u001b[0m",
            "\u001b[0;31mRuntimeError\u001b[0m                              Traceback (most recent call last)",
            "\u001b[0;32m/tmp/ipython-input-65-3166048399.py\u001b[0m in \u001b[0;36m<cell line: 0>\u001b[0;34m()\u001b[0m\n\u001b[1;32m      7\u001b[0m                          [3,9]])\n\u001b[1;32m      8\u001b[0m \u001b[0;34m\u001b[0m\u001b[0m\n\u001b[0;32m----> 9\u001b[0;31m \u001b[0mtorch\u001b[0m\u001b[0;34m.\u001b[0m\u001b[0mmatmul\u001b[0m\u001b[0;34m(\u001b[0m\u001b[0mtensor_A\u001b[0m\u001b[0;34m,\u001b[0m \u001b[0mtensor_B\u001b[0m\u001b[0;34m)\u001b[0m\u001b[0;34m\u001b[0m\u001b[0;34m\u001b[0m\u001b[0m\n\u001b[0m",
            "\u001b[0;31mRuntimeError\u001b[0m: mat1 and mat2 shapes cannot be multiplied (3x2 and 3x2)"
          ]
        }
      ]
    },
    {
      "cell_type": "code",
      "source": [
        "# the above error was due to shapes , the col of first tensor is not the same as\n",
        "# row of second tensor\n",
        "tensor_A.shape , tensor_B.shape\n"
      ],
      "metadata": {
        "colab": {
          "base_uri": "https://localhost:8080/"
        },
        "id": "BuGoNJP6Nc-4",
        "outputId": "a82af026-0a95-413d-fe40-be5d3bf4ede5"
      },
      "execution_count": null,
      "outputs": [
        {
          "output_type": "execute_result",
          "data": {
            "text/plain": [
              "(torch.Size([3, 2]), torch.Size([3, 2]))"
            ]
          },
          "metadata": {},
          "execution_count": 66
        }
      ]
    },
    {
      "cell_type": "markdown",
      "source": [
        "To solve this we use **transpose**.\n",
        "\n",
        "\n",
        "The **transpose of a matrix** is a new matrix formed by interchanging the rows and columns of the original matrix. If the original matrix is m x n, the transposed matrix will be n x m. The transpose of matrix A is often denoted as AT or A'.\n",
        "\n",
        "In pytorch a transpose is written as -> tensor_name.T"
      ],
      "metadata": {
        "id": "pCoebsJJOHp4"
      }
    },
    {
      "cell_type": "code",
      "source": [
        "tensor_B"
      ],
      "metadata": {
        "colab": {
          "base_uri": "https://localhost:8080/"
        },
        "id": "hH2bJPKyOT6F",
        "outputId": "a33c3cf5-bf4d-433a-d70b-718f2e5a461b"
      },
      "execution_count": null,
      "outputs": [
        {
          "output_type": "execute_result",
          "data": {
            "text/plain": [
              "tensor([[6, 7],\n",
              "        [4, 7],\n",
              "        [3, 9]])"
            ]
          },
          "metadata": {},
          "execution_count": 67
        }
      ]
    },
    {
      "cell_type": "code",
      "source": [
        "tensor_B.T , tensor_B.T.shape\n",
        "# now the shape of tensor b's transpose is 2,3 so that solves the issue"
      ],
      "metadata": {
        "colab": {
          "base_uri": "https://localhost:8080/"
        },
        "id": "KfThbkPPOiKi",
        "outputId": "95e8f87c-f3e5-4cdc-d44e-52ae4c8208c6"
      },
      "execution_count": null,
      "outputs": [
        {
          "output_type": "execute_result",
          "data": {
            "text/plain": [
              "(tensor([[6, 4, 3],\n",
              "         [7, 7, 9]]),\n",
              " torch.Size([2, 3]))"
            ]
          },
          "metadata": {},
          "execution_count": 72
        }
      ]
    },
    {
      "cell_type": "markdown",
      "source": [
        "here in the above example ,\n",
        "\n",
        "    tensor_A.shape = 3x2\n",
        "    tensor_B.T.shape =  2x3\n",
        "\n",
        "  col of tensor A is same as row of tensor b's transpose , and the resultant matrix will have the shape 3x3"
      ],
      "metadata": {
        "id": "tqSfuwxaPEK-"
      }
    },
    {
      "cell_type": "code",
      "source": [
        "# now if we multiply transpose of tensor b and tensor a that will work\n",
        "torch.matmul(tensor_A , tensor_B.T)"
      ],
      "metadata": {
        "colab": {
          "base_uri": "https://localhost:8080/"
        },
        "id": "8ixN8ziOOmP0",
        "outputId": "c0c0e6cf-064a-45c7-92ba-ba7a70d8879c"
      },
      "execution_count": null,
      "outputs": [
        {
          "output_type": "execute_result",
          "data": {
            "text/plain": [
              "tensor([[20, 18, 21],\n",
              "        [46, 40, 45],\n",
              "        [72, 62, 69]])"
            ]
          },
          "metadata": {},
          "execution_count": 69
        }
      ]
    },
    {
      "cell_type": "code",
      "source": [
        "print(f\"\"\"Original shapes :\n",
        "      tensor_A : {tensor_A.shape} ,\n",
        "      tensor_B : {tensor_B.shape}\"\"\")\n",
        "\n",
        "\n",
        "print(f\"\"\"\\n B after transpose:\n",
        "     {tensor_B.T.shape}\"\"\")\n",
        "\n",
        "print(f\"\"\"\\n Multiplying: {torch.matmul(tensor_A , tensor_B.T).shape}\"\"\")\n",
        "\n",
        "print(\"output:\\n\")\n",
        "\n",
        "output = torch.matmul(tensor_A , tensor_B.T)\n",
        "print(output)\n",
        "\n",
        "print(f\"\\n Output shape : {output.shape}\")"
      ],
      "metadata": {
        "colab": {
          "base_uri": "https://localhost:8080/"
        },
        "id": "bvb5vCwPPxQ5",
        "outputId": "c29a3cc1-05c4-4773-ed97-6de400ec23f8"
      },
      "execution_count": null,
      "outputs": [
        {
          "output_type": "stream",
          "name": "stdout",
          "text": [
            "Original shapes :\n",
            "      tensor_A : torch.Size([3, 2]) ,\n",
            "      tensor_B : torch.Size([3, 2])\n",
            "\n",
            " B after transpose:\n",
            "     torch.Size([2, 3])\n",
            "\n",
            " Multiplying: torch.Size([3, 3])\n",
            "output:\n",
            "\n",
            "tensor([[20, 18, 21],\n",
            "        [46, 40, 45],\n",
            "        [72, 62, 69]])\n",
            "\n",
            " Output shape : torch.Size([3, 3])\n"
          ]
        }
      ]
    },
    {
      "cell_type": "markdown",
      "source": [
        "# Tensor Aggregation : min , max , mean , sum"
      ],
      "metadata": {
        "id": "_HfQU9j8TAL7"
      }
    },
    {
      "cell_type": "code",
      "source": [
        "x = torch.arange(1 , 100 , 10)\n",
        "x , x.dtype"
      ],
      "metadata": {
        "colab": {
          "base_uri": "https://localhost:8080/"
        },
        "id": "zH18njyMTCQT",
        "outputId": "7009bd3d-eeb5-4dc7-ba4f-d51326f862f1"
      },
      "execution_count": null,
      "outputs": [
        {
          "output_type": "execute_result",
          "data": {
            "text/plain": [
              "(tensor([ 1, 11, 21, 31, 41, 51, 61, 71, 81, 91]), torch.int64)"
            ]
          },
          "metadata": {},
          "execution_count": 101
        }
      ]
    },
    {
      "cell_type": "code",
      "source": [
        "torch.min(x) , x.min()"
      ],
      "metadata": {
        "colab": {
          "base_uri": "https://localhost:8080/"
        },
        "id": "k6qtdPq-TNbi",
        "outputId": "8ad0e1ca-b6f0-4ba2-a48a-498873f5feef"
      },
      "execution_count": null,
      "outputs": [
        {
          "output_type": "execute_result",
          "data": {
            "text/plain": [
              "(tensor(1), tensor(1))"
            ]
          },
          "metadata": {},
          "execution_count": 102
        }
      ]
    },
    {
      "cell_type": "code",
      "source": [
        "torch.max(x) , x.max()"
      ],
      "metadata": {
        "colab": {
          "base_uri": "https://localhost:8080/"
        },
        "id": "4OZo0eB5TRnS",
        "outputId": "2a719328-9216-4500-a2ef-78f64a9dfbd0"
      },
      "execution_count": null,
      "outputs": [
        {
          "output_type": "execute_result",
          "data": {
            "text/plain": [
              "(tensor(91), tensor(91))"
            ]
          },
          "metadata": {},
          "execution_count": 103
        }
      ]
    },
    {
      "cell_type": "markdown",
      "source": [
        "A most common type of pytorch error : datatype error:\n",
        "\n",
        "for torch.mean function input datatype must be a floating pt or complex\n",
        "\n",
        "pytorch document does not cover this detail about torch.mean method"
      ],
      "metadata": {
        "id": "PfNFC73WTlnW"
      }
    },
    {
      "cell_type": "code",
      "source": [
        "# example of a datatype error\n",
        "torch.mean(x)"
      ],
      "metadata": {
        "colab": {
          "base_uri": "https://localhost:8080/",
          "height": 164
        },
        "id": "ygsdRL1PTUlV",
        "outputId": "36b2e884-bb88-43bf-b065-ca9d35827546"
      },
      "execution_count": null,
      "outputs": [
        {
          "output_type": "error",
          "ename": "RuntimeError",
          "evalue": "mean(): could not infer output dtype. Input dtype must be either a floating point or complex dtype. Got: Long",
          "traceback": [
            "\u001b[0;31m---------------------------------------------------------------------------\u001b[0m",
            "\u001b[0;31mRuntimeError\u001b[0m                              Traceback (most recent call last)",
            "\u001b[0;32m/tmp/ipython-input-104-52279272.py\u001b[0m in \u001b[0;36m<cell line: 0>\u001b[0;34m()\u001b[0m\n\u001b[1;32m      1\u001b[0m \u001b[0;31m# example of a datatype error\u001b[0m\u001b[0;34m\u001b[0m\u001b[0;34m\u001b[0m\u001b[0m\n\u001b[0;32m----> 2\u001b[0;31m \u001b[0mtorch\u001b[0m\u001b[0;34m.\u001b[0m\u001b[0mmean\u001b[0m\u001b[0;34m(\u001b[0m\u001b[0mx\u001b[0m\u001b[0;34m)\u001b[0m\u001b[0;34m\u001b[0m\u001b[0;34m\u001b[0m\u001b[0m\n\u001b[0m",
            "\u001b[0;31mRuntimeError\u001b[0m: mean(): could not infer output dtype. Input dtype must be either a floating point or complex dtype. Got: Long"
          ]
        }
      ]
    },
    {
      "cell_type": "code",
      "source": [
        "# we can convert x into float32 or any other accepted dtype\n",
        "torch.mean(x.type(torch.float32))"
      ],
      "metadata": {
        "colab": {
          "base_uri": "https://localhost:8080/"
        },
        "id": "V1P8Vf6_Ucmr",
        "outputId": "a9755e74-3cd7-41da-b60b-275d9a6ce05b"
      },
      "execution_count": null,
      "outputs": [
        {
          "output_type": "execute_result",
          "data": {
            "text/plain": [
              "tensor(46.)"
            ]
          },
          "metadata": {},
          "execution_count": 105
        }
      ]
    },
    {
      "cell_type": "code",
      "source": [
        "torch.sum(x) , x.sum()"
      ],
      "metadata": {
        "colab": {
          "base_uri": "https://localhost:8080/"
        },
        "id": "iYIhGmZ2UuuQ",
        "outputId": "2a92a5e6-e933-428f-ae10-13aee8b6b6e3"
      },
      "execution_count": null,
      "outputs": [
        {
          "output_type": "execute_result",
          "data": {
            "text/plain": [
              "(tensor(460), tensor(460))"
            ]
          },
          "metadata": {},
          "execution_count": 106
        }
      ]
    },
    {
      "cell_type": "markdown",
      "source": [
        "# finding the positional min and max : argmin , argmax"
      ],
      "metadata": {
        "id": "xXr2N2ExVV8N"
      }
    },
    {
      "cell_type": "code",
      "source": [
        "x"
      ],
      "metadata": {
        "colab": {
          "base_uri": "https://localhost:8080/"
        },
        "id": "k6fpb3-lVaOI",
        "outputId": "5aea8e91-d0ae-45cf-e9a1-35ca9300cbea"
      },
      "execution_count": null,
      "outputs": [
        {
          "output_type": "execute_result",
          "data": {
            "text/plain": [
              "tensor([ 1, 11, 21, 31, 41, 51, 61, 71, 81, 91])"
            ]
          },
          "metadata": {},
          "execution_count": 107
        }
      ]
    },
    {
      "cell_type": "markdown",
      "source": [
        "**Argmin()**:\n",
        "\n",
        "Find the position in tensor that has the minimum value with argmin() -> **returns index position** of target tensor where the minimum value occurs\n",
        "\n",
        "If there are multiple minimal values then the indices of the first minimal value are returned."
      ],
      "metadata": {
        "id": "-uuK7XfuV29p"
      }
    },
    {
      "cell_type": "code",
      "source": [
        "# RETURNS INDEX\n",
        "torch.argmin(x) , x.argmin()"
      ],
      "metadata": {
        "colab": {
          "base_uri": "https://localhost:8080/"
        },
        "id": "yT-5bu_OVeiQ",
        "outputId": "16c94112-9680-4bb8-ab58-6a6a8d867c13"
      },
      "execution_count": null,
      "outputs": [
        {
          "output_type": "execute_result",
          "data": {
            "text/plain": [
              "(tensor(0), tensor(0))"
            ]
          },
          "metadata": {},
          "execution_count": 113
        }
      ]
    },
    {
      "cell_type": "markdown",
      "source": [
        "**Argmax()**:\n",
        "Find the position in tensor that has the max value with argmax() -> it also returns **index**"
      ],
      "metadata": {
        "id": "AqnRFi6KWxxv"
      }
    },
    {
      "cell_type": "code",
      "source": [
        "torch.argmax(x) , x.argmax()"
      ],
      "metadata": {
        "colab": {
          "base_uri": "https://localhost:8080/"
        },
        "id": "B0eX8fKlWNCx",
        "outputId": "fc835fa4-60fd-4449-9b62-1e48bd8017d4"
      },
      "execution_count": null,
      "outputs": [
        {
          "output_type": "execute_result",
          "data": {
            "text/plain": [
              "(tensor(9), tensor(9))"
            ]
          },
          "metadata": {},
          "execution_count": 112
        }
      ]
    },
    {
      "cell_type": "markdown",
      "source": [
        "# Reshaping , viewing , stacking , squeezing and unsqueezing"
      ],
      "metadata": {
        "id": "YWQFCM8NX71T"
      }
    },
    {
      "cell_type": "markdown",
      "source": [
        "\n",
        "\n",
        "*   **Reshaping** : Reshapes an input tensor to a defined shape . Returns a tensor with the same data and number of elements as input, but with the specified shape.\n",
        "\n",
        "*   **View** : Return a view of an input tensor of a certain shape but keep the same memory as the original tensor\n",
        "*   **Stacking** : Combines multiple tensors on top of each other (vstack-> vertical stack ) or side by side (hstack -> horizontal stack)\n",
        "*   **Squeeze** : Removes all `1` dimensions from a tensor\n",
        "*   **Unsqueeze** : Adds a `1` dimension to a target tensor\n",
        "*   **Permute** : Return a view of the input with dimensions permuted (swapped) in a certain way\n",
        "\n",
        "\n",
        "\n",
        "\n",
        "\n"
      ],
      "metadata": {
        "id": "EVLov4n3YH-r"
      }
    },
    {
      "cell_type": "code",
      "source": [
        "y = torch.arange(1. , 10.)\n",
        "y , y.shape"
      ],
      "metadata": {
        "colab": {
          "base_uri": "https://localhost:8080/"
        },
        "id": "5u0Krgg1YBCs",
        "outputId": "2a536aa3-b724-415b-db4b-d811d08ca131"
      },
      "execution_count": null,
      "outputs": [
        {
          "output_type": "execute_result",
          "data": {
            "text/plain": [
              "(tensor([1., 2., 3., 4., 5., 6., 7., 8., 9.]), torch.Size([9]))"
            ]
          },
          "metadata": {},
          "execution_count": 115
        }
      ]
    },
    {
      "cell_type": "code",
      "source": [
        "# add an extra dimension\n",
        "x_reshaped = x.reshape(1,10)\n",
        "x_reshaped"
      ],
      "metadata": {
        "colab": {
          "base_uri": "https://localhost:8080/"
        },
        "id": "-w1Y628YZq00",
        "outputId": "c2cf5459-3a95-4d83-e2eb-5d9b5a414d2e"
      },
      "execution_count": null,
      "outputs": [
        {
          "output_type": "execute_result",
          "data": {
            "text/plain": [
              "tensor([[ 1, 11, 21, 31, 41, 51, 61, 71, 81, 91]])"
            ]
          },
          "metadata": {},
          "execution_count": 119
        }
      ]
    },
    {
      "cell_type": "code",
      "source": [],
      "metadata": {
        "id": "g8_9wfHMZqxc"
      },
      "execution_count": null,
      "outputs": []
    }
  ]
}